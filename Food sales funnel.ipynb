{
 "cells": [
  {
   "cell_type": "markdown",
   "metadata": {},
   "source": [
    "# Исследование воронки продаж продуктов питания"
   ]
  },
  {
   "cell_type": "markdown",
   "metadata": {},
   "source": [
    "**Цель проекта:**\n",
    "Изучить воронку продаж, проанализировать результаты A/A/B теста и вернуться с рекомендациями\n",
    "\n",
    "**План исследования:**\n",
    "\n",
    "1. Загрузить все необходимые библиотеки\n",
    "\n",
    "2. Переименовать наименование столбцов и изменить тип данных, а также добавить отдельный столбец дат\n",
    "\n",
    "3. Проверить на пропуски и дубликаты, при необходимости удалить строки, удаления которых не повлияет на итоговый результат\n",
    "\n",
    "4. Проверить на аномальные значения\n",
    "\n",
    "5. Проверить группы на наличие клиента в двух и более группах одновременно и на соотношение кол-ва клиентов в группах\n",
    "\n",
    "6. Изучить и проверить данные\n",
    "\n",
    "7. Изучить воронку событий\n",
    "\n",
    "8. Проанализировать результаты тестирования и описать выводы/рекомендации\n",
    "\n",
    "**Описания контекста:**\n",
    "\n",
    "1. Переименовала наименование столбцов, добавила столбец дат для использования в дальнейшей аналитике, проверила на пропуски методом info, удалила явные дубликаты, проверила на аномальные/отрицательные/нулевые значения методом describe (не выявлено), а также проверила соотношение кол-ва клиентов между группами (незначительные отклонения) и на наличие клиентов в двух и более группах одновременно (отсутствуют)\n",
    "\n",
    "2. Определила горизонт анализа и изучила изменения в данных после отсечения по горизонту (незначительное влияние)\n",
    "\n",
    "3. Проанализировала воронку событий и определила узкие места (страницы, на которые нужно обратить внимание)\n",
    "\n",
    "4. Изучила результаты эксперимента с помощью Z-теста - отдельно проверила группа 246/247 на статистические различия, далее сравнила группы 246/248, 247/248 и 246+247/248. Основа сравнения: доля уникальных пользователей каждой группы с учетом конкретного event от общего числа уникальных пользователей в каждой группе\n",
    "\n",
    "5. Описала выводы/факты и узкие места/рекоменадции"
   ]
  },
  {
   "cell_type": "markdown",
   "metadata": {},
   "source": [
    "**Шаг 1. Откройте файл с данными и изучите общую информацию**"
   ]
  },
  {
   "cell_type": "code",
   "execution_count": 1,
   "metadata": {},
   "outputs": [
    {
     "name": "stdout",
     "output_type": "stream",
     "text": [
      "Note: you may need to restart the kernel to use updated packages.\n"
     ]
    }
   ],
   "source": [
    "%pip install -U kaleido -q"
   ]
  },
  {
   "cell_type": "code",
   "execution_count": 2,
   "metadata": {},
   "outputs": [],
   "source": [
    "#загрузила все необходимые библиотеки\n",
    "import pandas as pd\n",
    "import datetime as dt\n",
    "import scipy.stats as stats\n",
    "import matplotlib.pyplot as plt\n",
    "import math as mth\n",
    "from plotly import graph_objects as go\n",
    "import plotly.io as pio\n",
    "pio.renderers.default = \"png\"\n",
    "import seaborn as sns\n",
    "sns.set(rc={'figure.figsize':(15,10)})"
   ]
  },
  {
   "cell_type": "code",
   "execution_count": 3,
   "metadata": {},
   "outputs": [
    {
     "data": {
      "text/html": [
       "<div>\n",
       "<style scoped>\n",
       "    .dataframe tbody tr th:only-of-type {\n",
       "        vertical-align: middle;\n",
       "    }\n",
       "\n",
       "    .dataframe tbody tr th {\n",
       "        vertical-align: top;\n",
       "    }\n",
       "\n",
       "    .dataframe thead th {\n",
       "        text-align: right;\n",
       "    }\n",
       "</style>\n",
       "<table border=\"1\" class=\"dataframe\">\n",
       "  <thead>\n",
       "    <tr style=\"text-align: right;\">\n",
       "      <th></th>\n",
       "      <th>EventName</th>\n",
       "      <th>DeviceIDHash</th>\n",
       "      <th>EventTimestamp</th>\n",
       "      <th>ExpId</th>\n",
       "    </tr>\n",
       "  </thead>\n",
       "  <tbody>\n",
       "    <tr>\n",
       "      <th>0</th>\n",
       "      <td>MainScreenAppear</td>\n",
       "      <td>4575588528974610257</td>\n",
       "      <td>1564029816</td>\n",
       "      <td>246</td>\n",
       "    </tr>\n",
       "    <tr>\n",
       "      <th>1</th>\n",
       "      <td>MainScreenAppear</td>\n",
       "      <td>7416695313311560658</td>\n",
       "      <td>1564053102</td>\n",
       "      <td>246</td>\n",
       "    </tr>\n",
       "    <tr>\n",
       "      <th>2</th>\n",
       "      <td>PaymentScreenSuccessful</td>\n",
       "      <td>3518123091307005509</td>\n",
       "      <td>1564054127</td>\n",
       "      <td>248</td>\n",
       "    </tr>\n",
       "    <tr>\n",
       "      <th>3</th>\n",
       "      <td>CartScreenAppear</td>\n",
       "      <td>3518123091307005509</td>\n",
       "      <td>1564054127</td>\n",
       "      <td>248</td>\n",
       "    </tr>\n",
       "    <tr>\n",
       "      <th>4</th>\n",
       "      <td>PaymentScreenSuccessful</td>\n",
       "      <td>6217807653094995999</td>\n",
       "      <td>1564055322</td>\n",
       "      <td>248</td>\n",
       "    </tr>\n",
       "    <tr>\n",
       "      <th>5</th>\n",
       "      <td>CartScreenAppear</td>\n",
       "      <td>6217807653094995999</td>\n",
       "      <td>1564055323</td>\n",
       "      <td>248</td>\n",
       "    </tr>\n",
       "    <tr>\n",
       "      <th>6</th>\n",
       "      <td>OffersScreenAppear</td>\n",
       "      <td>8351860793733343758</td>\n",
       "      <td>1564066242</td>\n",
       "      <td>246</td>\n",
       "    </tr>\n",
       "    <tr>\n",
       "      <th>7</th>\n",
       "      <td>MainScreenAppear</td>\n",
       "      <td>5682100281902512875</td>\n",
       "      <td>1564085677</td>\n",
       "      <td>246</td>\n",
       "    </tr>\n",
       "    <tr>\n",
       "      <th>8</th>\n",
       "      <td>MainScreenAppear</td>\n",
       "      <td>1850981295691852772</td>\n",
       "      <td>1564086702</td>\n",
       "      <td>247</td>\n",
       "    </tr>\n",
       "    <tr>\n",
       "      <th>9</th>\n",
       "      <td>MainScreenAppear</td>\n",
       "      <td>5407636962369102641</td>\n",
       "      <td>1564112112</td>\n",
       "      <td>246</td>\n",
       "    </tr>\n",
       "  </tbody>\n",
       "</table>\n",
       "</div>"
      ],
      "text/plain": [
       "                 EventName         DeviceIDHash  EventTimestamp  ExpId\n",
       "0         MainScreenAppear  4575588528974610257      1564029816    246\n",
       "1         MainScreenAppear  7416695313311560658      1564053102    246\n",
       "2  PaymentScreenSuccessful  3518123091307005509      1564054127    248\n",
       "3         CartScreenAppear  3518123091307005509      1564054127    248\n",
       "4  PaymentScreenSuccessful  6217807653094995999      1564055322    248\n",
       "5         CartScreenAppear  6217807653094995999      1564055323    248\n",
       "6       OffersScreenAppear  8351860793733343758      1564066242    246\n",
       "7         MainScreenAppear  5682100281902512875      1564085677    246\n",
       "8         MainScreenAppear  1850981295691852772      1564086702    247\n",
       "9         MainScreenAppear  5407636962369102641      1564112112    246"
      ]
     },
     "execution_count": 3,
     "metadata": {},
     "output_type": "execute_result"
    }
   ],
   "source": [
    "#загрузила датафрейм\n",
    "data=pd.read_csv('/datasets/logs_exp.csv', sep='\\t')\n",
    "data.head(10)"
   ]
  },
  {
   "cell_type": "markdown",
   "metadata": {},
   "source": [
    "**Шаг 2. Подготовьте данные**"
   ]
  },
  {
   "cell_type": "code",
   "execution_count": 4,
   "metadata": {},
   "outputs": [
    {
     "data": {
      "text/html": [
       "<div>\n",
       "<style scoped>\n",
       "    .dataframe tbody tr th:only-of-type {\n",
       "        vertical-align: middle;\n",
       "    }\n",
       "\n",
       "    .dataframe tbody tr th {\n",
       "        vertical-align: top;\n",
       "    }\n",
       "\n",
       "    .dataframe thead th {\n",
       "        text-align: right;\n",
       "    }\n",
       "</style>\n",
       "<table border=\"1\" class=\"dataframe\">\n",
       "  <thead>\n",
       "    <tr style=\"text-align: right;\">\n",
       "      <th></th>\n",
       "      <th>event_name</th>\n",
       "      <th>user_id</th>\n",
       "      <th>event_dt</th>\n",
       "      <th>group</th>\n",
       "    </tr>\n",
       "  </thead>\n",
       "  <tbody>\n",
       "    <tr>\n",
       "      <th>0</th>\n",
       "      <td>MainScreenAppear</td>\n",
       "      <td>4575588528974610257</td>\n",
       "      <td>1564029816</td>\n",
       "      <td>246</td>\n",
       "    </tr>\n",
       "    <tr>\n",
       "      <th>1</th>\n",
       "      <td>MainScreenAppear</td>\n",
       "      <td>7416695313311560658</td>\n",
       "      <td>1564053102</td>\n",
       "      <td>246</td>\n",
       "    </tr>\n",
       "    <tr>\n",
       "      <th>2</th>\n",
       "      <td>PaymentScreenSuccessful</td>\n",
       "      <td>3518123091307005509</td>\n",
       "      <td>1564054127</td>\n",
       "      <td>248</td>\n",
       "    </tr>\n",
       "    <tr>\n",
       "      <th>3</th>\n",
       "      <td>CartScreenAppear</td>\n",
       "      <td>3518123091307005509</td>\n",
       "      <td>1564054127</td>\n",
       "      <td>248</td>\n",
       "    </tr>\n",
       "    <tr>\n",
       "      <th>4</th>\n",
       "      <td>PaymentScreenSuccessful</td>\n",
       "      <td>6217807653094995999</td>\n",
       "      <td>1564055322</td>\n",
       "      <td>248</td>\n",
       "    </tr>\n",
       "    <tr>\n",
       "      <th>5</th>\n",
       "      <td>CartScreenAppear</td>\n",
       "      <td>6217807653094995999</td>\n",
       "      <td>1564055323</td>\n",
       "      <td>248</td>\n",
       "    </tr>\n",
       "    <tr>\n",
       "      <th>6</th>\n",
       "      <td>OffersScreenAppear</td>\n",
       "      <td>8351860793733343758</td>\n",
       "      <td>1564066242</td>\n",
       "      <td>246</td>\n",
       "    </tr>\n",
       "    <tr>\n",
       "      <th>7</th>\n",
       "      <td>MainScreenAppear</td>\n",
       "      <td>5682100281902512875</td>\n",
       "      <td>1564085677</td>\n",
       "      <td>246</td>\n",
       "    </tr>\n",
       "    <tr>\n",
       "      <th>8</th>\n",
       "      <td>MainScreenAppear</td>\n",
       "      <td>1850981295691852772</td>\n",
       "      <td>1564086702</td>\n",
       "      <td>247</td>\n",
       "    </tr>\n",
       "    <tr>\n",
       "      <th>9</th>\n",
       "      <td>MainScreenAppear</td>\n",
       "      <td>5407636962369102641</td>\n",
       "      <td>1564112112</td>\n",
       "      <td>246</td>\n",
       "    </tr>\n",
       "  </tbody>\n",
       "</table>\n",
       "</div>"
      ],
      "text/plain": [
       "                event_name              user_id    event_dt  group\n",
       "0         MainScreenAppear  4575588528974610257  1564029816    246\n",
       "1         MainScreenAppear  7416695313311560658  1564053102    246\n",
       "2  PaymentScreenSuccessful  3518123091307005509  1564054127    248\n",
       "3         CartScreenAppear  3518123091307005509  1564054127    248\n",
       "4  PaymentScreenSuccessful  6217807653094995999  1564055322    248\n",
       "5         CartScreenAppear  6217807653094995999  1564055323    248\n",
       "6       OffersScreenAppear  8351860793733343758  1564066242    246\n",
       "7         MainScreenAppear  5682100281902512875  1564085677    246\n",
       "8         MainScreenAppear  1850981295691852772  1564086702    247\n",
       "9         MainScreenAppear  5407636962369102641  1564112112    246"
      ]
     },
     "execution_count": 4,
     "metadata": {},
     "output_type": "execute_result"
    }
   ],
   "source": [
    "#переименовала наименование столбцов\n",
    "data.columns=['event_name', 'user_id', 'event_dt', 'group']\n",
    "data.head(10)"
   ]
  },
  {
   "cell_type": "code",
   "execution_count": 5,
   "metadata": {},
   "outputs": [
    {
     "data": {
      "text/html": [
       "<div>\n",
       "<style scoped>\n",
       "    .dataframe tbody tr th:only-of-type {\n",
       "        vertical-align: middle;\n",
       "    }\n",
       "\n",
       "    .dataframe tbody tr th {\n",
       "        vertical-align: top;\n",
       "    }\n",
       "\n",
       "    .dataframe thead th {\n",
       "        text-align: right;\n",
       "    }\n",
       "</style>\n",
       "<table border=\"1\" class=\"dataframe\">\n",
       "  <thead>\n",
       "    <tr style=\"text-align: right;\">\n",
       "      <th></th>\n",
       "      <th>event_name</th>\n",
       "      <th>user_id</th>\n",
       "      <th>event_dt</th>\n",
       "      <th>group</th>\n",
       "      <th>dt</th>\n",
       "    </tr>\n",
       "  </thead>\n",
       "  <tbody>\n",
       "    <tr>\n",
       "      <th>0</th>\n",
       "      <td>MainScreenAppear</td>\n",
       "      <td>4575588528974610257</td>\n",
       "      <td>2019-07-25 04:43:36</td>\n",
       "      <td>246</td>\n",
       "      <td>2019-07-25</td>\n",
       "    </tr>\n",
       "    <tr>\n",
       "      <th>1</th>\n",
       "      <td>MainScreenAppear</td>\n",
       "      <td>7416695313311560658</td>\n",
       "      <td>2019-07-25 11:11:42</td>\n",
       "      <td>246</td>\n",
       "      <td>2019-07-25</td>\n",
       "    </tr>\n",
       "    <tr>\n",
       "      <th>2</th>\n",
       "      <td>PaymentScreenSuccessful</td>\n",
       "      <td>3518123091307005509</td>\n",
       "      <td>2019-07-25 11:28:47</td>\n",
       "      <td>248</td>\n",
       "      <td>2019-07-25</td>\n",
       "    </tr>\n",
       "    <tr>\n",
       "      <th>3</th>\n",
       "      <td>CartScreenAppear</td>\n",
       "      <td>3518123091307005509</td>\n",
       "      <td>2019-07-25 11:28:47</td>\n",
       "      <td>248</td>\n",
       "      <td>2019-07-25</td>\n",
       "    </tr>\n",
       "    <tr>\n",
       "      <th>4</th>\n",
       "      <td>PaymentScreenSuccessful</td>\n",
       "      <td>6217807653094995999</td>\n",
       "      <td>2019-07-25 11:48:42</td>\n",
       "      <td>248</td>\n",
       "      <td>2019-07-25</td>\n",
       "    </tr>\n",
       "    <tr>\n",
       "      <th>5</th>\n",
       "      <td>CartScreenAppear</td>\n",
       "      <td>6217807653094995999</td>\n",
       "      <td>2019-07-25 11:48:43</td>\n",
       "      <td>248</td>\n",
       "      <td>2019-07-25</td>\n",
       "    </tr>\n",
       "    <tr>\n",
       "      <th>6</th>\n",
       "      <td>OffersScreenAppear</td>\n",
       "      <td>8351860793733343758</td>\n",
       "      <td>2019-07-25 14:50:42</td>\n",
       "      <td>246</td>\n",
       "      <td>2019-07-25</td>\n",
       "    </tr>\n",
       "    <tr>\n",
       "      <th>7</th>\n",
       "      <td>MainScreenAppear</td>\n",
       "      <td>5682100281902512875</td>\n",
       "      <td>2019-07-25 20:14:37</td>\n",
       "      <td>246</td>\n",
       "      <td>2019-07-25</td>\n",
       "    </tr>\n",
       "    <tr>\n",
       "      <th>8</th>\n",
       "      <td>MainScreenAppear</td>\n",
       "      <td>1850981295691852772</td>\n",
       "      <td>2019-07-25 20:31:42</td>\n",
       "      <td>247</td>\n",
       "      <td>2019-07-25</td>\n",
       "    </tr>\n",
       "    <tr>\n",
       "      <th>9</th>\n",
       "      <td>MainScreenAppear</td>\n",
       "      <td>5407636962369102641</td>\n",
       "      <td>2019-07-26 03:35:12</td>\n",
       "      <td>246</td>\n",
       "      <td>2019-07-26</td>\n",
       "    </tr>\n",
       "  </tbody>\n",
       "</table>\n",
       "</div>"
      ],
      "text/plain": [
       "                event_name              user_id            event_dt  group  \\\n",
       "0         MainScreenAppear  4575588528974610257 2019-07-25 04:43:36    246   \n",
       "1         MainScreenAppear  7416695313311560658 2019-07-25 11:11:42    246   \n",
       "2  PaymentScreenSuccessful  3518123091307005509 2019-07-25 11:28:47    248   \n",
       "3         CartScreenAppear  3518123091307005509 2019-07-25 11:28:47    248   \n",
       "4  PaymentScreenSuccessful  6217807653094995999 2019-07-25 11:48:42    248   \n",
       "5         CartScreenAppear  6217807653094995999 2019-07-25 11:48:43    248   \n",
       "6       OffersScreenAppear  8351860793733343758 2019-07-25 14:50:42    246   \n",
       "7         MainScreenAppear  5682100281902512875 2019-07-25 20:14:37    246   \n",
       "8         MainScreenAppear  1850981295691852772 2019-07-25 20:31:42    247   \n",
       "9         MainScreenAppear  5407636962369102641 2019-07-26 03:35:12    246   \n",
       "\n",
       "           dt  \n",
       "0  2019-07-25  \n",
       "1  2019-07-25  \n",
       "2  2019-07-25  \n",
       "3  2019-07-25  \n",
       "4  2019-07-25  \n",
       "5  2019-07-25  \n",
       "6  2019-07-25  \n",
       "7  2019-07-25  \n",
       "8  2019-07-25  \n",
       "9  2019-07-26  "
      ]
     },
     "execution_count": 5,
     "metadata": {},
     "output_type": "execute_result"
    }
   ],
   "source": [
    "#изменила тип данных и добавила поле c датами\n",
    "data['event_dt']=pd.to_datetime(data['event_dt'], unit='s')\n",
    "data['dt']=data['event_dt'].dt.date\n",
    "data.head(10)"
   ]
  },
  {
   "cell_type": "code",
   "execution_count": 6,
   "metadata": {},
   "outputs": [
    {
     "name": "stdout",
     "output_type": "stream",
     "text": [
      "<class 'pandas.core.frame.DataFrame'>\n",
      "RangeIndex: 244126 entries, 0 to 244125\n",
      "Data columns (total 5 columns):\n",
      " #   Column      Non-Null Count   Dtype         \n",
      "---  ------      --------------   -----         \n",
      " 0   event_name  244126 non-null  object        \n",
      " 1   user_id     244126 non-null  int64         \n",
      " 2   event_dt    244126 non-null  datetime64[ns]\n",
      " 3   group       244126 non-null  int64         \n",
      " 4   dt          244126 non-null  object        \n",
      "dtypes: datetime64[ns](1), int64(2), object(2)\n",
      "memory usage: 9.3+ MB\n"
     ]
    }
   ],
   "source": [
    "#проверила на пропуски\n",
    "data.info()"
   ]
  },
  {
   "cell_type": "markdown",
   "metadata": {},
   "source": [
    "**Вывод: метод info показал, что пропусков нет**"
   ]
  },
  {
   "cell_type": "code",
   "execution_count": 7,
   "metadata": {},
   "outputs": [
    {
     "data": {
      "text/plain": [
       "413"
      ]
     },
     "execution_count": 7,
     "metadata": {},
     "output_type": "execute_result"
    }
   ],
   "source": [
    "#проверила на дубликаты\n",
    "data.duplicated().sum()"
   ]
  },
  {
   "cell_type": "code",
   "execution_count": 8,
   "metadata": {},
   "outputs": [
    {
     "name": "stdout",
     "output_type": "stream",
     "text": [
      "Доля дубликатов: 0.17 %\n"
     ]
    }
   ],
   "source": [
    "#посчитала долю дубликатов\n",
    "print('Доля дубликатов:', round((data.duplicated().sum()/data['event_name'].count())*100, 2,), '%')"
   ]
  },
  {
   "cell_type": "markdown",
   "metadata": {},
   "source": [
    "**Вывод: 413 явных дубликатов, которые составяют менее 1% (0,17%), необходимо удалить**"
   ]
  },
  {
   "cell_type": "code",
   "execution_count": 9,
   "metadata": {},
   "outputs": [
    {
     "data": {
      "text/html": [
       "<div>\n",
       "<style scoped>\n",
       "    .dataframe tbody tr th:only-of-type {\n",
       "        vertical-align: middle;\n",
       "    }\n",
       "\n",
       "    .dataframe tbody tr th {\n",
       "        vertical-align: top;\n",
       "    }\n",
       "\n",
       "    .dataframe thead th {\n",
       "        text-align: right;\n",
       "    }\n",
       "</style>\n",
       "<table border=\"1\" class=\"dataframe\">\n",
       "  <thead>\n",
       "    <tr style=\"text-align: right;\">\n",
       "      <th></th>\n",
       "      <th>event_name</th>\n",
       "      <th>user_id</th>\n",
       "      <th>event_dt</th>\n",
       "      <th>group</th>\n",
       "      <th>dt</th>\n",
       "    </tr>\n",
       "  </thead>\n",
       "  <tbody>\n",
       "    <tr>\n",
       "      <th>453</th>\n",
       "      <td>MainScreenAppear</td>\n",
       "      <td>5613408041324010552</td>\n",
       "      <td>2019-07-30 08:19:44</td>\n",
       "      <td>248</td>\n",
       "      <td>2019-07-30</td>\n",
       "    </tr>\n",
       "    <tr>\n",
       "      <th>2350</th>\n",
       "      <td>CartScreenAppear</td>\n",
       "      <td>1694940645335807244</td>\n",
       "      <td>2019-07-31 21:51:39</td>\n",
       "      <td>248</td>\n",
       "      <td>2019-07-31</td>\n",
       "    </tr>\n",
       "    <tr>\n",
       "      <th>3573</th>\n",
       "      <td>MainScreenAppear</td>\n",
       "      <td>434103746454591587</td>\n",
       "      <td>2019-08-01 02:59:37</td>\n",
       "      <td>248</td>\n",
       "      <td>2019-08-01</td>\n",
       "    </tr>\n",
       "    <tr>\n",
       "      <th>4076</th>\n",
       "      <td>MainScreenAppear</td>\n",
       "      <td>3761373764179762633</td>\n",
       "      <td>2019-08-01 03:47:46</td>\n",
       "      <td>247</td>\n",
       "      <td>2019-08-01</td>\n",
       "    </tr>\n",
       "    <tr>\n",
       "      <th>4803</th>\n",
       "      <td>MainScreenAppear</td>\n",
       "      <td>2835328739789306622</td>\n",
       "      <td>2019-08-01 04:44:01</td>\n",
       "      <td>248</td>\n",
       "      <td>2019-08-01</td>\n",
       "    </tr>\n",
       "    <tr>\n",
       "      <th>5641</th>\n",
       "      <td>CartScreenAppear</td>\n",
       "      <td>4248762472840564256</td>\n",
       "      <td>2019-08-01 05:36:04</td>\n",
       "      <td>248</td>\n",
       "      <td>2019-08-01</td>\n",
       "    </tr>\n",
       "    <tr>\n",
       "      <th>5875</th>\n",
       "      <td>PaymentScreenSuccessful</td>\n",
       "      <td>6427012997733591237</td>\n",
       "      <td>2019-08-01 05:47:32</td>\n",
       "      <td>248</td>\n",
       "      <td>2019-08-01</td>\n",
       "    </tr>\n",
       "    <tr>\n",
       "      <th>7249</th>\n",
       "      <td>OffersScreenAppear</td>\n",
       "      <td>7224691986599895551</td>\n",
       "      <td>2019-08-01 06:44:06</td>\n",
       "      <td>246</td>\n",
       "      <td>2019-08-01</td>\n",
       "    </tr>\n",
       "    <tr>\n",
       "      <th>8065</th>\n",
       "      <td>CartScreenAppear</td>\n",
       "      <td>8189122927585332969</td>\n",
       "      <td>2019-08-01 07:18:49</td>\n",
       "      <td>248</td>\n",
       "      <td>2019-08-01</td>\n",
       "    </tr>\n",
       "    <tr>\n",
       "      <th>9179</th>\n",
       "      <td>MainScreenAppear</td>\n",
       "      <td>2230705996155527339</td>\n",
       "      <td>2019-08-01 07:54:47</td>\n",
       "      <td>246</td>\n",
       "      <td>2019-08-01</td>\n",
       "    </tr>\n",
       "  </tbody>\n",
       "</table>\n",
       "</div>"
      ],
      "text/plain": [
       "                   event_name              user_id            event_dt  group  \\\n",
       "453          MainScreenAppear  5613408041324010552 2019-07-30 08:19:44    248   \n",
       "2350         CartScreenAppear  1694940645335807244 2019-07-31 21:51:39    248   \n",
       "3573         MainScreenAppear   434103746454591587 2019-08-01 02:59:37    248   \n",
       "4076         MainScreenAppear  3761373764179762633 2019-08-01 03:47:46    247   \n",
       "4803         MainScreenAppear  2835328739789306622 2019-08-01 04:44:01    248   \n",
       "5641         CartScreenAppear  4248762472840564256 2019-08-01 05:36:04    248   \n",
       "5875  PaymentScreenSuccessful  6427012997733591237 2019-08-01 05:47:32    248   \n",
       "7249       OffersScreenAppear  7224691986599895551 2019-08-01 06:44:06    246   \n",
       "8065         CartScreenAppear  8189122927585332969 2019-08-01 07:18:49    248   \n",
       "9179         MainScreenAppear  2230705996155527339 2019-08-01 07:54:47    246   \n",
       "\n",
       "              dt  \n",
       "453   2019-07-30  \n",
       "2350  2019-07-31  \n",
       "3573  2019-08-01  \n",
       "4076  2019-08-01  \n",
       "4803  2019-08-01  \n",
       "5641  2019-08-01  \n",
       "5875  2019-08-01  \n",
       "7249  2019-08-01  \n",
       "8065  2019-08-01  \n",
       "9179  2019-08-01  "
      ]
     },
     "execution_count": 9,
     "metadata": {},
     "output_type": "execute_result"
    }
   ],
   "source": [
    "#посмотрела на дубликаты\n",
    "data[data.duplicated()].head(10)"
   ]
  },
  {
   "cell_type": "code",
   "execution_count": 10,
   "metadata": {},
   "outputs": [],
   "source": [
    "#удалила дубликаты и сохранила обновленный датафрейм в переменную df\n",
    "df=data.drop_duplicates().reset_index(drop=True)"
   ]
  },
  {
   "cell_type": "code",
   "execution_count": 11,
   "metadata": {},
   "outputs": [
    {
     "data": {
      "text/plain": [
       "0"
      ]
     },
     "execution_count": 11,
     "metadata": {},
     "output_type": "execute_result"
    }
   ],
   "source": [
    "df.duplicated().sum()"
   ]
  },
  {
   "cell_type": "markdown",
   "metadata": {},
   "source": [
    "**Вывод: дубликатов больше нет**"
   ]
  },
  {
   "cell_type": "code",
   "execution_count": 12,
   "metadata": {},
   "outputs": [
    {
     "data": {
      "text/html": [
       "<div>\n",
       "<style scoped>\n",
       "    .dataframe tbody tr th:only-of-type {\n",
       "        vertical-align: middle;\n",
       "    }\n",
       "\n",
       "    .dataframe tbody tr th {\n",
       "        vertical-align: top;\n",
       "    }\n",
       "\n",
       "    .dataframe thead th {\n",
       "        text-align: right;\n",
       "    }\n",
       "</style>\n",
       "<table border=\"1\" class=\"dataframe\">\n",
       "  <thead>\n",
       "    <tr style=\"text-align: right;\">\n",
       "      <th></th>\n",
       "      <th>user_id</th>\n",
       "      <th>group</th>\n",
       "    </tr>\n",
       "  </thead>\n",
       "  <tbody>\n",
       "    <tr>\n",
       "      <th>count</th>\n",
       "      <td>2.437130e+05</td>\n",
       "      <td>243713.000000</td>\n",
       "    </tr>\n",
       "    <tr>\n",
       "      <th>mean</th>\n",
       "      <td>4.627963e+18</td>\n",
       "      <td>247.022161</td>\n",
       "    </tr>\n",
       "    <tr>\n",
       "      <th>std</th>\n",
       "      <td>2.642723e+18</td>\n",
       "      <td>0.824420</td>\n",
       "    </tr>\n",
       "    <tr>\n",
       "      <th>min</th>\n",
       "      <td>6.888747e+15</td>\n",
       "      <td>246.000000</td>\n",
       "    </tr>\n",
       "    <tr>\n",
       "      <th>25%</th>\n",
       "      <td>2.372212e+18</td>\n",
       "      <td>246.000000</td>\n",
       "    </tr>\n",
       "    <tr>\n",
       "      <th>50%</th>\n",
       "      <td>4.623192e+18</td>\n",
       "      <td>247.000000</td>\n",
       "    </tr>\n",
       "    <tr>\n",
       "      <th>75%</th>\n",
       "      <td>6.932517e+18</td>\n",
       "      <td>248.000000</td>\n",
       "    </tr>\n",
       "    <tr>\n",
       "      <th>max</th>\n",
       "      <td>9.222603e+18</td>\n",
       "      <td>248.000000</td>\n",
       "    </tr>\n",
       "  </tbody>\n",
       "</table>\n",
       "</div>"
      ],
      "text/plain": [
       "            user_id          group\n",
       "count  2.437130e+05  243713.000000\n",
       "mean   4.627963e+18     247.022161\n",
       "std    2.642723e+18       0.824420\n",
       "min    6.888747e+15     246.000000\n",
       "25%    2.372212e+18     246.000000\n",
       "50%    4.623192e+18     247.000000\n",
       "75%    6.932517e+18     248.000000\n",
       "max    9.222603e+18     248.000000"
      ]
     },
     "execution_count": 12,
     "metadata": {},
     "output_type": "execute_result"
    }
   ],
   "source": [
    "#проверила на аномальные/нулевые/отрицательные значения\n",
    "df.describe()"
   ]
  },
  {
   "cell_type": "markdown",
   "metadata": {},
   "source": [
    "**Вывод: метод describe показал, что аномальных значений нет**"
   ]
  },
  {
   "cell_type": "code",
   "execution_count": 13,
   "metadata": {},
   "outputs": [
    {
     "data": {
      "text/html": [
       "<div>\n",
       "<style scoped>\n",
       "    .dataframe tbody tr th:only-of-type {\n",
       "        vertical-align: middle;\n",
       "    }\n",
       "\n",
       "    .dataframe tbody tr th {\n",
       "        vertical-align: top;\n",
       "    }\n",
       "\n",
       "    .dataframe thead th {\n",
       "        text-align: right;\n",
       "    }\n",
       "</style>\n",
       "<table border=\"1\" class=\"dataframe\">\n",
       "  <thead>\n",
       "    <tr style=\"text-align: right;\">\n",
       "      <th></th>\n",
       "      <th>user_id</th>\n",
       "    </tr>\n",
       "    <tr>\n",
       "      <th>group</th>\n",
       "      <th></th>\n",
       "    </tr>\n",
       "  </thead>\n",
       "  <tbody>\n",
       "    <tr>\n",
       "      <th>246</th>\n",
       "      <td>2489</td>\n",
       "    </tr>\n",
       "    <tr>\n",
       "      <th>247</th>\n",
       "      <td>2520</td>\n",
       "    </tr>\n",
       "    <tr>\n",
       "      <th>248</th>\n",
       "      <td>2542</td>\n",
       "    </tr>\n",
       "  </tbody>\n",
       "</table>\n",
       "</div>"
      ],
      "text/plain": [
       "       user_id\n",
       "group         \n",
       "246       2489\n",
       "247       2520\n",
       "248       2542"
      ]
     },
     "execution_count": 13,
     "metadata": {},
     "output_type": "execute_result"
    }
   ],
   "source": [
    "#проверила группы на наличие клиента в двух и более группах одновременно и на соотношение кол-ва клиентов в группах\n",
    "df.groupby('group').agg({'user_id':'nunique'})"
   ]
  },
  {
   "cell_type": "code",
   "execution_count": 14,
   "metadata": {},
   "outputs": [
    {
     "data": {
      "text/plain": [
       "7551"
      ]
     },
     "execution_count": 14,
     "metadata": {},
     "output_type": "execute_result"
    }
   ],
   "source": [
    "df['user_id'].nunique()"
   ]
  },
  {
   "cell_type": "code",
   "execution_count": 15,
   "metadata": {},
   "outputs": [
    {
     "data": {
      "text/html": [
       "<div>\n",
       "<style scoped>\n",
       "    .dataframe tbody tr th:only-of-type {\n",
       "        vertical-align: middle;\n",
       "    }\n",
       "\n",
       "    .dataframe tbody tr th {\n",
       "        vertical-align: top;\n",
       "    }\n",
       "\n",
       "    .dataframe thead th {\n",
       "        text-align: right;\n",
       "    }\n",
       "</style>\n",
       "<table border=\"1\" class=\"dataframe\">\n",
       "  <thead>\n",
       "    <tr style=\"text-align: right;\">\n",
       "      <th></th>\n",
       "      <th>group</th>\n",
       "    </tr>\n",
       "    <tr>\n",
       "      <th>user_id</th>\n",
       "      <th></th>\n",
       "    </tr>\n",
       "  </thead>\n",
       "  <tbody>\n",
       "    <tr>\n",
       "      <th>6888746892508752</th>\n",
       "      <td>1</td>\n",
       "    </tr>\n",
       "    <tr>\n",
       "      <th>6207768971558512760</th>\n",
       "      <td>1</td>\n",
       "    </tr>\n",
       "    <tr>\n",
       "      <th>6217807653094995999</th>\n",
       "      <td>1</td>\n",
       "    </tr>\n",
       "    <tr>\n",
       "      <th>6217295124800833842</th>\n",
       "      <td>1</td>\n",
       "    </tr>\n",
       "    <tr>\n",
       "      <th>6216080220799726690</th>\n",
       "      <td>1</td>\n",
       "    </tr>\n",
       "    <tr>\n",
       "      <th>...</th>\n",
       "      <td>...</td>\n",
       "    </tr>\n",
       "    <tr>\n",
       "      <th>3175239243679501019</th>\n",
       "      <td>1</td>\n",
       "    </tr>\n",
       "    <tr>\n",
       "      <th>3171891164497446149</th>\n",
       "      <td>1</td>\n",
       "    </tr>\n",
       "    <tr>\n",
       "      <th>3171454373076660766</th>\n",
       "      <td>1</td>\n",
       "    </tr>\n",
       "    <tr>\n",
       "      <th>3170212200647575044</th>\n",
       "      <td>1</td>\n",
       "    </tr>\n",
       "    <tr>\n",
       "      <th>9222603179720523844</th>\n",
       "      <td>1</td>\n",
       "    </tr>\n",
       "  </tbody>\n",
       "</table>\n",
       "<p>7551 rows × 1 columns</p>\n",
       "</div>"
      ],
      "text/plain": [
       "                     group\n",
       "user_id                   \n",
       "6888746892508752         1\n",
       "6207768971558512760      1\n",
       "6217807653094995999      1\n",
       "6217295124800833842      1\n",
       "6216080220799726690      1\n",
       "...                    ...\n",
       "3175239243679501019      1\n",
       "3171891164497446149      1\n",
       "3171454373076660766      1\n",
       "3170212200647575044      1\n",
       "9222603179720523844      1\n",
       "\n",
       "[7551 rows x 1 columns]"
      ]
     },
     "execution_count": 15,
     "metadata": {},
     "output_type": "execute_result"
    }
   ],
   "source": [
    "df_duplicate=(\n",
    "    df.groupby('user_id')\n",
    "    .agg({'group':'nunique'})\n",
    "    .sort_values(by='group', ascending=False)\n",
    ")\n",
    "df_duplicate"
   ]
  },
  {
   "cell_type": "markdown",
   "metadata": {},
   "source": [
    "**Вывод: разница в соотношении приемлема, задублированных клиентов нет (проверила путем сложения пользователей всех групп и сравнила с общим числом уникальных пользователей, а также сгруппировала по клиентам и посчитала кол-во уникальны групп - оба варианта показали отсутствие задублированных клиентов в группах)**"
   ]
  },
  {
   "cell_type": "markdown",
   "metadata": {},
   "source": [
    "**Шаг 3. Изучите и проверьте данные**"
   ]
  },
  {
   "cell_type": "code",
   "execution_count": 16,
   "metadata": {},
   "outputs": [
    {
     "name": "stdout",
     "output_type": "stream",
     "text": [
      "Всего событий в логе: 243713\n"
     ]
    }
   ],
   "source": [
    "#посчитала сколько всего событий в логе\n",
    "print('Всего событий в логе:', df['event_name'].count())"
   ]
  },
  {
   "cell_type": "code",
   "execution_count": 17,
   "metadata": {},
   "outputs": [
    {
     "name": "stdout",
     "output_type": "stream",
     "text": [
      "Всего пользователей в логе: 7551\n"
     ]
    }
   ],
   "source": [
    "#посчитала сколько всего пользователей в логе\n",
    "print('Всего пользователей в логе:', df['user_id'].nunique())"
   ]
  },
  {
   "cell_type": "code",
   "execution_count": 18,
   "metadata": {},
   "outputs": [
    {
     "data": {
      "text/html": [
       "<div>\n",
       "<style scoped>\n",
       "    .dataframe tbody tr th:only-of-type {\n",
       "        vertical-align: middle;\n",
       "    }\n",
       "\n",
       "    .dataframe tbody tr th {\n",
       "        vertical-align: top;\n",
       "    }\n",
       "\n",
       "    .dataframe thead th {\n",
       "        text-align: right;\n",
       "    }\n",
       "</style>\n",
       "<table border=\"1\" class=\"dataframe\">\n",
       "  <thead>\n",
       "    <tr style=\"text-align: right;\">\n",
       "      <th></th>\n",
       "      <th>event_dt</th>\n",
       "      <th>event_name</th>\n",
       "    </tr>\n",
       "    <tr>\n",
       "      <th>user_id</th>\n",
       "      <th></th>\n",
       "      <th></th>\n",
       "    </tr>\n",
       "  </thead>\n",
       "  <tbody>\n",
       "    <tr>\n",
       "      <th>6304868067479728361</th>\n",
       "      <td>2019-08-07 19:26:48</td>\n",
       "      <td>2307</td>\n",
       "    </tr>\n",
       "    <tr>\n",
       "      <th>197027893265565660</th>\n",
       "      <td>2019-08-07 16:37:52</td>\n",
       "      <td>1998</td>\n",
       "    </tr>\n",
       "    <tr>\n",
       "      <th>4623191541214045580</th>\n",
       "      <td>2019-08-06 20:59:28</td>\n",
       "      <td>1768</td>\n",
       "    </tr>\n",
       "    <tr>\n",
       "      <th>6932517045703054087</th>\n",
       "      <td>2019-08-07 19:58:43</td>\n",
       "      <td>1439</td>\n",
       "    </tr>\n",
       "    <tr>\n",
       "      <th>1754140665440434215</th>\n",
       "      <td>2019-08-07 07:00:33</td>\n",
       "      <td>1221</td>\n",
       "    </tr>\n",
       "    <tr>\n",
       "      <th>...</th>\n",
       "      <td>...</td>\n",
       "      <td>...</td>\n",
       "    </tr>\n",
       "    <tr>\n",
       "      <th>7399061063341528729</th>\n",
       "      <td>2019-08-01 08:32:27</td>\n",
       "      <td>1</td>\n",
       "    </tr>\n",
       "    <tr>\n",
       "      <th>2968164493349205501</th>\n",
       "      <td>2019-08-06 14:53:04</td>\n",
       "      <td>1</td>\n",
       "    </tr>\n",
       "    <tr>\n",
       "      <th>8071397669512236988</th>\n",
       "      <td>2019-08-01 14:00:00</td>\n",
       "      <td>1</td>\n",
       "    </tr>\n",
       "    <tr>\n",
       "      <th>425817683219936619</th>\n",
       "      <td>2019-08-07 18:24:08</td>\n",
       "      <td>1</td>\n",
       "    </tr>\n",
       "    <tr>\n",
       "      <th>6888746892508752</th>\n",
       "      <td>2019-08-06 14:06:34</td>\n",
       "      <td>1</td>\n",
       "    </tr>\n",
       "  </tbody>\n",
       "</table>\n",
       "<p>7551 rows × 2 columns</p>\n",
       "</div>"
      ],
      "text/plain": [
       "                               event_dt  event_name\n",
       "user_id                                            \n",
       "6304868067479728361 2019-08-07 19:26:48        2307\n",
       "197027893265565660  2019-08-07 16:37:52        1998\n",
       "4623191541214045580 2019-08-06 20:59:28        1768\n",
       "6932517045703054087 2019-08-07 19:58:43        1439\n",
       "1754140665440434215 2019-08-07 07:00:33        1221\n",
       "...                                 ...         ...\n",
       "7399061063341528729 2019-08-01 08:32:27           1\n",
       "2968164493349205501 2019-08-06 14:53:04           1\n",
       "8071397669512236988 2019-08-01 14:00:00           1\n",
       "425817683219936619  2019-08-07 18:24:08           1\n",
       "6888746892508752    2019-08-06 14:06:34           1\n",
       "\n",
       "[7551 rows x 2 columns]"
      ]
     },
     "execution_count": 18,
     "metadata": {},
     "output_type": "execute_result"
    }
   ],
   "source": [
    "#посчитала сколько в среднем событий приходится на пользователя\n",
    "df_avg_user_id=(\n",
    "    df.groupby('user_id')\n",
    "    .agg(\n",
    "        {\n",
    "            'event_dt':'max',\n",
    "            'event_name':'count',\n",
    "        }\n",
    "    )\n",
    "    .sort_values(by='event_name', ascending=False)\n",
    ")\n",
    "df_avg_user_id"
   ]
  },
  {
   "cell_type": "code",
   "execution_count": 19,
   "metadata": {},
   "outputs": [
    {
     "data": {
      "text/html": [
       "<div>\n",
       "<style scoped>\n",
       "    .dataframe tbody tr th:only-of-type {\n",
       "        vertical-align: middle;\n",
       "    }\n",
       "\n",
       "    .dataframe tbody tr th {\n",
       "        vertical-align: top;\n",
       "    }\n",
       "\n",
       "    .dataframe thead th {\n",
       "        text-align: right;\n",
       "    }\n",
       "</style>\n",
       "<table border=\"1\" class=\"dataframe\">\n",
       "  <thead>\n",
       "    <tr style=\"text-align: right;\">\n",
       "      <th></th>\n",
       "      <th>event_name</th>\n",
       "    </tr>\n",
       "  </thead>\n",
       "  <tbody>\n",
       "    <tr>\n",
       "      <th>count</th>\n",
       "      <td>7551.000000</td>\n",
       "    </tr>\n",
       "    <tr>\n",
       "      <th>mean</th>\n",
       "      <td>32.275593</td>\n",
       "    </tr>\n",
       "    <tr>\n",
       "      <th>std</th>\n",
       "      <td>65.154219</td>\n",
       "    </tr>\n",
       "    <tr>\n",
       "      <th>min</th>\n",
       "      <td>1.000000</td>\n",
       "    </tr>\n",
       "    <tr>\n",
       "      <th>25%</th>\n",
       "      <td>9.000000</td>\n",
       "    </tr>\n",
       "    <tr>\n",
       "      <th>50%</th>\n",
       "      <td>20.000000</td>\n",
       "    </tr>\n",
       "    <tr>\n",
       "      <th>75%</th>\n",
       "      <td>37.000000</td>\n",
       "    </tr>\n",
       "    <tr>\n",
       "      <th>max</th>\n",
       "      <td>2307.000000</td>\n",
       "    </tr>\n",
       "  </tbody>\n",
       "</table>\n",
       "</div>"
      ],
      "text/plain": [
       "        event_name\n",
       "count  7551.000000\n",
       "mean     32.275593\n",
       "std      65.154219\n",
       "min       1.000000\n",
       "25%       9.000000\n",
       "50%      20.000000\n",
       "75%      37.000000\n",
       "max    2307.000000"
      ]
     },
     "execution_count": 19,
     "metadata": {},
     "output_type": "execute_result"
    }
   ],
   "source": [
    "df_avg_user_id.describe()"
   ]
  },
  {
   "cell_type": "markdown",
   "metadata": {},
   "source": [
    "**Вывод: в среднем на одного пользователя приходится 32 события, по медиане - 20, видимо значительное кол-во пользователей с аномальным кол-вом событий**"
   ]
  },
  {
   "cell_type": "code",
   "execution_count": 20,
   "metadata": {},
   "outputs": [
    {
     "data": {
      "image/png": "[encoded data removed]",
      "text/plain": [
       "<Figure size 1080x720 with 1 Axes>"
      ]
     },
     "metadata": {},
     "output_type": "display_data"
    }
   ],
   "source": [
    "#построила графики для наглядности распределения событий по пользователям\n",
    "plt.scatter(df_avg_user_id['event_dt'], df_avg_user_id['event_name'])\n",
    "plt.title('Количество событий по пользователям')\n",
    "plt.show()              "
   ]
  },
  {
   "cell_type": "markdown",
   "metadata": {},
   "source": [
    "**Вывод: действительно пользователей с аномальным кол-вом событий значительно, пока удалять не будем**"
   ]
  },
  {
   "cell_type": "code",
   "execution_count": 21,
   "metadata": {},
   "outputs": [
    {
     "data": {
      "text/plain": [
       "Timestamp('2019-07-25 04:43:36')"
      ]
     },
     "execution_count": 21,
     "metadata": {},
     "output_type": "execute_result"
    }
   ],
   "source": [
    "#посчитала минимальную и максимальную дату\n",
    "df['event_dt'].min()"
   ]
  },
  {
   "cell_type": "code",
   "execution_count": 22,
   "metadata": {},
   "outputs": [
    {
     "data": {
      "text/plain": [
       "Timestamp('2019-08-07 21:15:17')"
      ]
     },
     "execution_count": 22,
     "metadata": {},
     "output_type": "execute_result"
    }
   ],
   "source": [
    "df['event_dt'].max()"
   ]
  },
  {
   "cell_type": "code",
   "execution_count": 23,
   "metadata": {},
   "outputs": [
    {
     "data": {
      "image/png": "[encoded data removed]",
      "text/plain": [
       "<Figure size 1080x720 with 1 Axes>"
      ]
     },
     "metadata": {},
     "output_type": "display_data"
    }
   ],
   "source": [
    "#построила гистограмму по дате и времени\n",
    "df['event_dt'].hist()\n",
    "plt.title('Количество событий по дням')\n",
    "plt.ylabel('Кол-во событий')\n",
    "plt.show() "
   ]
  },
  {
   "cell_type": "markdown",
   "metadata": {},
   "source": [
    "**Вывод: так как события пользователей за предыдущие дни могут \"доезжать\" при анализе новых дней, то определила временной промежуток с 2019-08-01 по 2019-08-07**"
   ]
  },
  {
   "cell_type": "code",
   "execution_count": 24,
   "metadata": {},
   "outputs": [],
   "source": [
    "#сформировала датафрейм с актуальным временным горизонтом\n",
    "df_new=df.query('event_dt >= \"2019-08-01\"')"
   ]
  },
  {
   "cell_type": "code",
   "execution_count": 25,
   "metadata": {},
   "outputs": [
    {
     "data": {
      "text/plain": [
       "240887"
      ]
     },
     "execution_count": 25,
     "metadata": {},
     "output_type": "execute_result"
    }
   ],
   "source": [
    "#проверила много ли событий потеряла, отбросив старые данные\n",
    "df_new['event_name'].count()"
   ]
  },
  {
   "cell_type": "code",
   "execution_count": 26,
   "metadata": {},
   "outputs": [
    {
     "name": "stdout",
     "output_type": "stream",
     "text": [
      "Кол-во потерянных событий: 2826\n"
     ]
    }
   ],
   "source": [
    "#посчитала кол-во потерянных событий\n",
    "loss_event=(df['event_name'].count())-(df_new['event_name'].count())\n",
    "print('Кол-во потерянных событий:', loss_event)"
   ]
  },
  {
   "cell_type": "code",
   "execution_count": 27,
   "metadata": {},
   "outputs": [
    {
     "name": "stdout",
     "output_type": "stream",
     "text": [
      "Доля потерянных событий: 1.16 %\n"
     ]
    }
   ],
   "source": [
    "#посчитала долю потерянных событий\n",
    "print('Доля потерянных событий:', round((loss_event/df['event_name'].count())*100, 2), '%')"
   ]
  },
  {
   "cell_type": "markdown",
   "metadata": {},
   "source": [
    "**Вывод: после отсечения событий осталось 240887 (ранее 243713), потеря - 2826, ушло менее - 2% (1,16%), не критично**"
   ]
  },
  {
   "cell_type": "code",
   "execution_count": 28,
   "metadata": {},
   "outputs": [],
   "source": [
    "#проверила много ли пользователей потеряла, отбросив старые данные\n",
    "df_user_total=df_new['user_id'].nunique()"
   ]
  },
  {
   "cell_type": "code",
   "execution_count": 29,
   "metadata": {},
   "outputs": [
    {
     "name": "stdout",
     "output_type": "stream",
     "text": [
      "Кол-во потерянных пользователей: 17\n"
     ]
    }
   ],
   "source": [
    "#посчитала кол-во потерянных пользователей\n",
    "loss_user=(df['user_id'].nunique())-(df_new['user_id'].nunique())\n",
    "print('Кол-во потерянных пользователей:', loss_user)"
   ]
  },
  {
   "cell_type": "code",
   "execution_count": 30,
   "metadata": {},
   "outputs": [
    {
     "name": "stdout",
     "output_type": "stream",
     "text": [
      "Доля потерянных пользователей: 0.23 %\n"
     ]
    }
   ],
   "source": [
    "#посчитала долю потерянных пользователей\n",
    "print('Доля потерянных пользователей:', round((loss_user/df['user_id'].nunique())*100, 2), '%')"
   ]
  },
  {
   "cell_type": "markdown",
   "metadata": {},
   "source": [
    "**Вывод: после отсечения пользователей осталось 7534 (ранее 7551), потеря - 17, ушло менее 1% (0,23%), не критично**"
   ]
  },
  {
   "cell_type": "code",
   "execution_count": 31,
   "metadata": {},
   "outputs": [
    {
     "data": {
      "text/html": [
       "<div>\n",
       "<style scoped>\n",
       "    .dataframe tbody tr th:only-of-type {\n",
       "        vertical-align: middle;\n",
       "    }\n",
       "\n",
       "    .dataframe tbody tr th {\n",
       "        vertical-align: top;\n",
       "    }\n",
       "\n",
       "    .dataframe thead th {\n",
       "        text-align: right;\n",
       "    }\n",
       "</style>\n",
       "<table border=\"1\" class=\"dataframe\">\n",
       "  <thead>\n",
       "    <tr style=\"text-align: right;\">\n",
       "      <th></th>\n",
       "      <th>user_id</th>\n",
       "    </tr>\n",
       "    <tr>\n",
       "      <th>group</th>\n",
       "      <th></th>\n",
       "    </tr>\n",
       "  </thead>\n",
       "  <tbody>\n",
       "    <tr>\n",
       "      <th>246</th>\n",
       "      <td>2484</td>\n",
       "    </tr>\n",
       "    <tr>\n",
       "      <th>247</th>\n",
       "      <td>2513</td>\n",
       "    </tr>\n",
       "    <tr>\n",
       "      <th>248</th>\n",
       "      <td>2537</td>\n",
       "    </tr>\n",
       "  </tbody>\n",
       "</table>\n",
       "</div>"
      ],
      "text/plain": [
       "       user_id\n",
       "group         \n",
       "246       2484\n",
       "247       2513\n",
       "248       2537"
      ]
     },
     "execution_count": 31,
     "metadata": {},
     "output_type": "execute_result"
    }
   ],
   "source": [
    "#проверила, что есть пользователи из всех трёх экспериментальных групп и соотношение кол-ва клиентов между группами\n",
    "df_new.groupby('group').agg({'user_id':'nunique'})"
   ]
  },
  {
   "cell_type": "markdown",
   "metadata": {},
   "source": [
    "**Вывод: после отсечения все три экспериментальные группы присутствуют и разница между группами в рамках кол-ва незначительная**"
   ]
  },
  {
   "cell_type": "markdown",
   "metadata": {},
   "source": [
    "**Шаг 4. Изучите воронку событий**"
   ]
  },
  {
   "cell_type": "code",
   "execution_count": 32,
   "metadata": {},
   "outputs": [
    {
     "data": {
      "text/html": [
       "<div>\n",
       "<style scoped>\n",
       "    .dataframe tbody tr th:only-of-type {\n",
       "        vertical-align: middle;\n",
       "    }\n",
       "\n",
       "    .dataframe tbody tr th {\n",
       "        vertical-align: top;\n",
       "    }\n",
       "\n",
       "    .dataframe thead th {\n",
       "        text-align: right;\n",
       "    }\n",
       "</style>\n",
       "<table border=\"1\" class=\"dataframe\">\n",
       "  <thead>\n",
       "    <tr style=\"text-align: right;\">\n",
       "      <th></th>\n",
       "      <th>user_id</th>\n",
       "    </tr>\n",
       "    <tr>\n",
       "      <th>event_name</th>\n",
       "      <th></th>\n",
       "    </tr>\n",
       "  </thead>\n",
       "  <tbody>\n",
       "    <tr>\n",
       "      <th>MainScreenAppear</th>\n",
       "      <td>117328</td>\n",
       "    </tr>\n",
       "    <tr>\n",
       "      <th>OffersScreenAppear</th>\n",
       "      <td>46333</td>\n",
       "    </tr>\n",
       "    <tr>\n",
       "      <th>CartScreenAppear</th>\n",
       "      <td>42303</td>\n",
       "    </tr>\n",
       "    <tr>\n",
       "      <th>PaymentScreenSuccessful</th>\n",
       "      <td>33918</td>\n",
       "    </tr>\n",
       "    <tr>\n",
       "      <th>Tutorial</th>\n",
       "      <td>1005</td>\n",
       "    </tr>\n",
       "  </tbody>\n",
       "</table>\n",
       "</div>"
      ],
      "text/plain": [
       "                         user_id\n",
       "event_name                      \n",
       "MainScreenAppear          117328\n",
       "OffersScreenAppear         46333\n",
       "CartScreenAppear           42303\n",
       "PaymentScreenSuccessful    33918\n",
       "Tutorial                    1005"
      ]
     },
     "execution_count": 32,
     "metadata": {},
     "output_type": "execute_result"
    }
   ],
   "source": [
    "#посмотрела, какие события есть в логах, как часто они встречаются\n",
    "df_new.groupby('event_name').agg({'user_id':'count'}).sort_values(by='user_id', ascending=False)"
   ]
  },
  {
   "cell_type": "markdown",
   "metadata": {},
   "source": [
    "**Вывод: больше всего произошло событий MainScreenAppear (главная страница), составляет почти 50% от всего кол-ва. Далее идут OffersScreenAppear (предложения), CartScreenAppear (корзина) и PaymentScreenSuccessful (оплата), и в аутсайдерах (прочитали руководство) - Tutorial. Это естественное распределение воронки**"
   ]
  },
  {
   "cell_type": "code",
   "execution_count": 33,
   "metadata": {},
   "outputs": [
    {
     "data": {
      "text/html": [
       "<div>\n",
       "<style scoped>\n",
       "    .dataframe tbody tr th:only-of-type {\n",
       "        vertical-align: middle;\n",
       "    }\n",
       "\n",
       "    .dataframe tbody tr th {\n",
       "        vertical-align: top;\n",
       "    }\n",
       "\n",
       "    .dataframe thead th {\n",
       "        text-align: right;\n",
       "    }\n",
       "</style>\n",
       "<table border=\"1\" class=\"dataframe\">\n",
       "  <thead>\n",
       "    <tr style=\"text-align: right;\">\n",
       "      <th></th>\n",
       "      <th>event_name</th>\n",
       "      <th>user_id</th>\n",
       "    </tr>\n",
       "  </thead>\n",
       "  <tbody>\n",
       "    <tr>\n",
       "      <th>0</th>\n",
       "      <td>MainScreenAppear</td>\n",
       "      <td>7419</td>\n",
       "    </tr>\n",
       "    <tr>\n",
       "      <th>1</th>\n",
       "      <td>OffersScreenAppear</td>\n",
       "      <td>4593</td>\n",
       "    </tr>\n",
       "    <tr>\n",
       "      <th>2</th>\n",
       "      <td>CartScreenAppear</td>\n",
       "      <td>3734</td>\n",
       "    </tr>\n",
       "    <tr>\n",
       "      <th>3</th>\n",
       "      <td>PaymentScreenSuccessful</td>\n",
       "      <td>3539</td>\n",
       "    </tr>\n",
       "    <tr>\n",
       "      <th>4</th>\n",
       "      <td>Tutorial</td>\n",
       "      <td>840</td>\n",
       "    </tr>\n",
       "  </tbody>\n",
       "</table>\n",
       "</div>"
      ],
      "text/plain": [
       "                event_name  user_id\n",
       "0         MainScreenAppear     7419\n",
       "1       OffersScreenAppear     4593\n",
       "2         CartScreenAppear     3734\n",
       "3  PaymentScreenSuccessful     3539\n",
       "4                 Tutorial      840"
      ]
     },
     "execution_count": 33,
     "metadata": {},
     "output_type": "execute_result"
    }
   ],
   "source": [
    "#посчитала, сколько пользователей совершали каждое из этих событий\n",
    "df_count_user_id=df_new.groupby('event_name').agg({'user_id':'nunique'}).sort_values(by='user_id', ascending=False).reset_index()\n",
    "df_count_user_id"
   ]
  },
  {
   "cell_type": "markdown",
   "metadata": {},
   "source": [
    "**Вывод: аналогичный предыдущему**"
   ]
  },
  {
   "cell_type": "code",
   "execution_count": 34,
   "metadata": {},
   "outputs": [
    {
     "data": {
      "text/html": [
       "<div>\n",
       "<style scoped>\n",
       "    .dataframe tbody tr th:only-of-type {\n",
       "        vertical-align: middle;\n",
       "    }\n",
       "\n",
       "    .dataframe tbody tr th {\n",
       "        vertical-align: top;\n",
       "    }\n",
       "\n",
       "    .dataframe thead th {\n",
       "        text-align: right;\n",
       "    }\n",
       "</style>\n",
       "<table border=\"1\" class=\"dataframe\">\n",
       "  <thead>\n",
       "    <tr style=\"text-align: right;\">\n",
       "      <th></th>\n",
       "      <th>event_name</th>\n",
       "      <th>user_id</th>\n",
       "      <th>event_user_total_pr</th>\n",
       "    </tr>\n",
       "  </thead>\n",
       "  <tbody>\n",
       "    <tr>\n",
       "      <th>0</th>\n",
       "      <td>MainScreenAppear</td>\n",
       "      <td>7419</td>\n",
       "      <td>98.47</td>\n",
       "    </tr>\n",
       "    <tr>\n",
       "      <th>1</th>\n",
       "      <td>OffersScreenAppear</td>\n",
       "      <td>4593</td>\n",
       "      <td>60.96</td>\n",
       "    </tr>\n",
       "    <tr>\n",
       "      <th>2</th>\n",
       "      <td>CartScreenAppear</td>\n",
       "      <td>3734</td>\n",
       "      <td>49.56</td>\n",
       "    </tr>\n",
       "    <tr>\n",
       "      <th>3</th>\n",
       "      <td>PaymentScreenSuccessful</td>\n",
       "      <td>3539</td>\n",
       "      <td>46.97</td>\n",
       "    </tr>\n",
       "    <tr>\n",
       "      <th>4</th>\n",
       "      <td>Tutorial</td>\n",
       "      <td>840</td>\n",
       "      <td>11.15</td>\n",
       "    </tr>\n",
       "  </tbody>\n",
       "</table>\n",
       "</div>"
      ],
      "text/plain": [
       "                event_name  user_id  event_user_total_pr\n",
       "0         MainScreenAppear     7419                98.47\n",
       "1       OffersScreenAppear     4593                60.96\n",
       "2         CartScreenAppear     3734                49.56\n",
       "3  PaymentScreenSuccessful     3539                46.97\n",
       "4                 Tutorial      840                11.15"
      ]
     },
     "execution_count": 34,
     "metadata": {},
     "output_type": "execute_result"
    }
   ],
   "source": [
    "#посчитала долю пользователей, которые хоть раз совершали событие\n",
    "df_count_user_id['event_user_total_pr'] = round((df_count_user_id['user_id']/df_user_total)*100, 2)\n",
    "df_count_user_id"
   ]
  },
  {
   "cell_type": "markdown",
   "metadata": {},
   "source": [
    "**Вывод: tutorial в принципе можно исключить, так как не показательное событие. А так результаты не плохие, от всех уникальных пользователей к оплате переходит 47%**"
   ]
  },
  {
   "cell_type": "code",
   "execution_count": 35,
   "metadata": {},
   "outputs": [
    {
     "data": {
      "text/html": [
       "<div>\n",
       "<style scoped>\n",
       "    .dataframe tbody tr th:only-of-type {\n",
       "        vertical-align: middle;\n",
       "    }\n",
       "\n",
       "    .dataframe tbody tr th {\n",
       "        vertical-align: top;\n",
       "    }\n",
       "\n",
       "    .dataframe thead th {\n",
       "        text-align: right;\n",
       "    }\n",
       "</style>\n",
       "<table border=\"1\" class=\"dataframe\">\n",
       "  <thead>\n",
       "    <tr style=\"text-align: right;\">\n",
       "      <th></th>\n",
       "      <th>event_name</th>\n",
       "      <th>user_id</th>\n",
       "      <th>event_user_total_pr</th>\n",
       "      <th>event_user_pr</th>\n",
       "    </tr>\n",
       "  </thead>\n",
       "  <tbody>\n",
       "    <tr>\n",
       "      <th>0</th>\n",
       "      <td>MainScreenAppear</td>\n",
       "      <td>7419</td>\n",
       "      <td>98.47</td>\n",
       "      <td>inf</td>\n",
       "    </tr>\n",
       "    <tr>\n",
       "      <th>1</th>\n",
       "      <td>OffersScreenAppear</td>\n",
       "      <td>4593</td>\n",
       "      <td>60.96</td>\n",
       "      <td>61.91</td>\n",
       "    </tr>\n",
       "    <tr>\n",
       "      <th>2</th>\n",
       "      <td>CartScreenAppear</td>\n",
       "      <td>3734</td>\n",
       "      <td>49.56</td>\n",
       "      <td>81.30</td>\n",
       "    </tr>\n",
       "    <tr>\n",
       "      <th>3</th>\n",
       "      <td>PaymentScreenSuccessful</td>\n",
       "      <td>3539</td>\n",
       "      <td>46.97</td>\n",
       "      <td>94.78</td>\n",
       "    </tr>\n",
       "    <tr>\n",
       "      <th>4</th>\n",
       "      <td>Tutorial</td>\n",
       "      <td>840</td>\n",
       "      <td>11.15</td>\n",
       "      <td>23.74</td>\n",
       "    </tr>\n",
       "  </tbody>\n",
       "</table>\n",
       "</div>"
      ],
      "text/plain": [
       "                event_name  user_id  event_user_total_pr  event_user_pr\n",
       "0         MainScreenAppear     7419                98.47            inf\n",
       "1       OffersScreenAppear     4593                60.96          61.91\n",
       "2         CartScreenAppear     3734                49.56          81.30\n",
       "3  PaymentScreenSuccessful     3539                46.97          94.78\n",
       "4                 Tutorial      840                11.15          23.74"
      ]
     },
     "execution_count": 35,
     "metadata": {},
     "output_type": "execute_result"
    }
   ],
   "source": [
    "#посчитала по воронке событий, какая доля пользователей проходит на следующий шаг воронки (от числа пользователей на предыдущем)\n",
    "df_count_user_id['event_user_pr']=round((df_count_user_id['user_id']/df_count_user_id['user_id'].shift(1, fill_value=0))*100, 2)\n",
    "df_count_user_id"
   ]
  },
  {
   "cell_type": "code",
   "execution_count": 36,
   "metadata": {},
   "outputs": [
    {
     "data": {
      "image/png": "[encoded data removed]"
     },
     "metadata": {},
     "output_type": "display_data"
    }
   ],
   "source": [
    "#построила график воронки событий по пользователям\n",
    "fig = go.Figure(go.Funnel(x = df_count_user_id['event_user_total_pr'], y = df_count_user_id['event_name']))\n",
    "fig.update_layout (title='Воронка событий',\n",
    "           yaxis_title='events')\n",
    "fig.show()"
   ]
  },
  {
   "cell_type": "markdown",
   "metadata": {},
   "source": [
    "**Вывод: как писала ранее tutorial не показательное событие. Если смотреть на воронку событий, то для меня самое узкое место - это переход из предложений в корзину (переходят всего лишь 49% от всего потока), на втором месте переход из главной страницы на страницу предложений (37%)**"
   ]
  },
  {
   "cell_type": "markdown",
   "metadata": {},
   "source": [
    "**Шаг 5. Изучите результаты эксперимента**"
   ]
  },
  {
   "cell_type": "markdown",
   "metadata": {},
   "source": [
    "**Проверка гипотез**.\n",
    "\n",
    "**Нулевая гипотеза: нет оснований считать доли разным. Альтернативная гипотеза: между долями есть значимая разница**"
   ]
  },
  {
   "cell_type": "code",
   "execution_count": 37,
   "metadata": {},
   "outputs": [
    {
     "name": "stdout",
     "output_type": "stream",
     "text": [
      "MainScreenAppearp-значение:0.6194860229779078\n",
      "Не удалось отвергнуть нулевую гипотезу, нет оснований считать доли разными\n",
      "OffersScreenAppearp-значение:0.2352227460362717\n",
      "Отвергаем нулевую гипотезу: между долями есть значимая разница\n",
      "CartScreenAppearp-значение:0.21899829728450415\n",
      "Отвергаем нулевую гипотезу: между долями есть значимая разница\n",
      "PaymentScreenSuccessfulp-значение:0.10914759823712927\n",
      "Отвергаем нулевую гипотезу: между долями есть значимая разница\n",
      "Tutorialp-значение:0.9454168827071352\n",
      "Не удалось отвергнуть нулевую гипотезу, нет оснований считать доли разными\n"
     ]
    }
   ],
   "source": [
    "#проверила статистические критерии разницу между выборками 246 и 247 с помощью функции\n",
    "users_total=df.groupby('group')['user_id'].nunique()\n",
    "users_total['246_247']=users_total[246]+users_total[247]\n",
    "\n",
    "users_funnel=(\n",
    "    df_new.pivot_table(index='event_name', columns='group', values='user_id', aggfunc='nunique')\n",
    "    .reset_index()\n",
    "    .sort_values(by=246, ascending=False)\n",
    ")\n",
    "users_funnel['246_247']=users_funnel[246] + users_funnel[247]\n",
    "\n",
    "def  z_test_check (group1, group2, alpha):\n",
    "    for i in users_funnel.index: \n",
    "        p1=users_funnel[group1][i]/users_total[group1]\n",
    "        p2=users_funnel[ group2][i]/users_total[group2]\n",
    "        p_combined=((users_funnel[group1][i]+users_funnel[group2][i])/(users_total[group1]+users_total[group2]))\n",
    "        difference=p1-p2\n",
    "        z_value=difference/mth.sqrt(p_combined*(1-p_combined)*(1/users_total[group1]+1/users_total[group2]))\n",
    "        distr=stats.norm(0, 1)\n",
    "        p_value=(1-distr.cdf(abs(z_value)))*2 \n",
    "        print ('{}p-значение:{}'.format(users_funnel['event_name'][i], p_value)) \n",
    "        if (p_value<alpha ): \n",
    "            print('Отвергаем нулевую гипотезу: между долями есть значимая разница') \n",
    "        else: \n",
    "            print('Не удалось отвергнуть нулевую гипотезу, нет оснований считать доли разными')\n",
    "    \n",
    "z_test_check(246, 247, 0.5)"
   ]
  },
  {
   "cell_type": "markdown",
   "metadata": {},
   "source": [
    "**Вывод: статистической разницы между группами A/A - нет, говорит о том, что группы подобраны верно, а также, что общий вывод вызывает больше доверия**"
   ]
  },
  {
   "cell_type": "code",
   "execution_count": 38,
   "metadata": {},
   "outputs": [
    {
     "name": "stdout",
     "output_type": "stream",
     "text": [
      "MainScreenAppearp-значение:0.32916112087956995\n",
      "Не удалось отвергнуть нулевую гипотезу, нет оснований считать доли разными\n",
      "OffersScreenAppearp-значение:0.2097513010649208\n",
      "Не удалось отвергнуть нулевую гипотезу, нет оснований считать доли разными\n",
      "CartScreenAppearp-значение:0.07897406022802644\n",
      "Отвергаем нулевую гипотезу: между долями есть значимая разница\n",
      "PaymentScreenSuccessfulp-значение:0.21318312148591856\n",
      "Не удалось отвергнуть нулевую гипотезу, нет оснований считать доли разными\n",
      "Tutorialp-значение:0.8268596773192287\n",
      "Не удалось отвергнуть нулевую гипотезу, нет оснований считать доли разными\n"
     ]
    }
   ],
   "source": [
    "#проверила статистические критерии разницу между выборками 246 и 248\n",
    "z_test_check(246, 248, 0.1)"
   ]
  },
  {
   "cell_type": "code",
   "execution_count": 39,
   "metadata": {},
   "outputs": [
    {
     "name": "stdout",
     "output_type": "stream",
     "text": [
      "MainScreenAppearp-значение:0.630511483398956\n",
      "Не удалось отвергнуть нулевую гипотезу, нет оснований считать доли разными\n",
      "OffersScreenAppearp-значение:0.948242051780652\n",
      "Не удалось отвергнуть нулевую гипотезу, нет оснований считать доли разными\n",
      "CartScreenAppearp-значение:0.598491352466854\n",
      "Не удалось отвергнуть нулевую гипотезу, нет оснований считать доли разными\n",
      "PaymentScreenSuccessfulp-значение:0.7174796792830545\n",
      "Не удалось отвергнуть нулевую гипотезу, нет оснований считать доли разными\n",
      "Tutorialp-значение:0.7731671969169724\n",
      "Не удалось отвергнуть нулевую гипотезу, нет оснований считать доли разными\n"
     ]
    }
   ],
   "source": [
    "#проверила статистические критерии разницу между выборками 247 и 248\n",
    "z_test_check(247, 248, 0.05)"
   ]
  },
  {
   "cell_type": "code",
   "execution_count": 40,
   "metadata": {},
   "outputs": [
    {
     "name": "stdout",
     "output_type": "stream",
     "text": [
      "MainScreenAppearp-значение:0.39650789406907316\n",
      "Не удалось отвергнуть нулевую гипотезу, нет оснований считать доли разными\n",
      "OffersScreenAppearp-значение:0.44807592847340594\n",
      "Не удалось отвергнуть нулевую гипотезу, нет оснований считать доли разными\n",
      "CartScreenAppearp-значение:0.18799753938915797\n",
      "Не удалось отвергнуть нулевую гипотезу, нет оснований считать доли разными\n",
      "PaymentScreenSuccessfulp-значение:0.6123472065065059\n",
      "Не удалось отвергнуть нулевую гипотезу, нет оснований считать доли разными\n",
      "Tutorialp-значение:0.7696461997168715\n",
      "Не удалось отвергнуть нулевую гипотезу, нет оснований считать доли разными\n"
     ]
    }
   ],
   "source": [
    "#проверила статистические критерии разницу между выборками 246+247 и 248\n",
    "z_test_check('246_247', 248, 0.05)"
   ]
  },
  {
   "cell_type": "markdown",
   "metadata": {},
   "source": [
    "**Итоговый вывод:**\n",
    "\n",
    "**Для корректного анализа на этапе предобработки данных переименовала наименование столбцов, добавила столбец дат для использования в дальнейшей аналитике, проверила на пропуски методом info, удалила явные дубликаты, проверила на аномальные/отрицательные/нулевые значения методом describe (не выявлено), а также проверила соотношение кол-ва клиентов между группами (незначительные отклонения) и на наличие клиентов в двух и более группах одновременно (отсутствуют). Далее определила горизонт анализа и проверила результаты тестирования. Данная работа позволила принять правильное решение: остановить тест, изменение шрифта не повлияют на конверсию и увеличение продаж.**\n",
    "\n",
    "**А также позволила сформировать рекомендации по дальнейшем работам, а именно стоит провести анализ на рекламные компании, на существующие предложения для клиентов, проверить функциональность приложения и вообще взглянуть на юзабилти, так как значительное кол-во клиентов (50%) теряются на этапе перехода из предложений в корзину.**\n",
    "\n",
    "**Факты:**\n",
    "\n",
    "В процессе тестирования было проведено 20 экспериментов, которые не показали статистическoй разницы между выборками:\n",
    "\n",
    "246/247 - 5 эксперементов (для каждого события) / уровень статистической чувствительности - 5%\n",
    "\n",
    "246/248 - 5 экспериментов (для каждого события) / уровень статистической чувствительности - 5%\n",
    "\n",
    "247/248 - 5 экспериментов (для каждого события) / уровень статистической чувствительности - 5%\n",
    "\n",
    "246+247/248 - 5 эксперементов (для каждого события) / уровня статистической чувствительности - 5%"
   ]
  }
 ],
 "metadata": {
  "ExecuteTimeLog": [
   {
    "duration": 1240,
    "start_time": "2022-09-27T16:29:44.725Z"
   },
   {
    "duration": 592,
    "start_time": "2022-09-27T16:31:32.775Z"
   },
   {
    "duration": 60,
    "start_time": "2022-09-27T16:31:57.246Z"
   },
   {
    "duration": 162,
    "start_time": "2022-09-27T16:33:34.139Z"
   },
   {
    "duration": 81,
    "start_time": "2022-09-27T16:33:53.929Z"
   },
   {
    "duration": 7,
    "start_time": "2022-09-27T16:37:04.196Z"
   },
   {
    "duration": 153,
    "start_time": "2022-09-27T16:39:50.914Z"
   },
   {
    "duration": 144,
    "start_time": "2022-09-27T16:40:06.194Z"
   },
   {
    "duration": 17,
    "start_time": "2022-09-27T16:40:13.758Z"
   },
   {
    "duration": 8,
    "start_time": "2022-09-27T16:40:20.638Z"
   },
   {
    "duration": 17,
    "start_time": "2022-09-27T16:40:23.945Z"
   },
   {
    "duration": 45,
    "start_time": "2022-09-27T16:41:29.610Z"
   },
   {
    "duration": 25,
    "start_time": "2022-09-27T16:41:45.819Z"
   },
   {
    "duration": 30,
    "start_time": "2022-09-27T16:42:48.343Z"
   },
   {
    "duration": 29,
    "start_time": "2022-09-27T16:43:56.054Z"
   },
   {
    "duration": 29,
    "start_time": "2022-09-27T16:44:02.695Z"
   },
   {
    "duration": 8,
    "start_time": "2022-09-27T16:45:08.575Z"
   },
   {
    "duration": 1145,
    "start_time": "2022-09-27T16:45:44.579Z"
   },
   {
    "duration": 41,
    "start_time": "2022-09-27T16:45:57.129Z"
   },
   {
    "duration": 1101,
    "start_time": "2022-09-27T16:46:16.987Z"
   },
   {
    "duration": 146,
    "start_time": "2022-09-27T16:46:18.090Z"
   },
   {
    "duration": 8,
    "start_time": "2022-09-27T16:46:18.238Z"
   },
   {
    "duration": 32,
    "start_time": "2022-09-27T16:46:18.248Z"
   },
   {
    "duration": 88,
    "start_time": "2022-09-27T16:48:11.822Z"
   },
   {
    "duration": 9,
    "start_time": "2022-09-27T16:48:32.810Z"
   },
   {
    "duration": 55,
    "start_time": "2022-09-27T16:48:39.929Z"
   },
   {
    "duration": 66,
    "start_time": "2022-09-27T16:50:12.248Z"
   },
   {
    "duration": 17,
    "start_time": "2022-09-27T16:50:47.851Z"
   },
   {
    "duration": 53,
    "start_time": "2022-09-27T16:52:01.566Z"
   },
   {
    "duration": 79,
    "start_time": "2022-09-27T16:53:57.396Z"
   },
   {
    "duration": 116,
    "start_time": "2022-09-27T16:55:23.616Z"
   },
   {
    "duration": 1120,
    "start_time": "2022-09-27T16:55:37.783Z"
   },
   {
    "duration": 157,
    "start_time": "2022-09-27T16:55:38.904Z"
   },
   {
    "duration": 8,
    "start_time": "2022-09-27T16:55:39.062Z"
   },
   {
    "duration": 29,
    "start_time": "2022-09-27T16:55:39.072Z"
   },
   {
    "duration": 17,
    "start_time": "2022-09-27T16:55:39.103Z"
   },
   {
    "duration": 67,
    "start_time": "2022-09-27T16:55:39.121Z"
   },
   {
    "duration": 127,
    "start_time": "2022-09-27T16:55:39.200Z"
   },
   {
    "duration": 64,
    "start_time": "2022-09-27T16:59:52.958Z"
   },
   {
    "duration": 76,
    "start_time": "2022-09-27T17:01:41.010Z"
   },
   {
    "duration": 111,
    "start_time": "2022-09-27T17:02:09.340Z"
   },
   {
    "duration": 65,
    "start_time": "2022-09-27T17:02:15.692Z"
   },
   {
    "duration": 50,
    "start_time": "2022-09-27T17:02:20.637Z"
   },
   {
    "duration": 67,
    "start_time": "2022-09-27T17:03:15.500Z"
   },
   {
    "duration": 56,
    "start_time": "2022-09-27T17:03:20.930Z"
   },
   {
    "duration": 1068,
    "start_time": "2022-09-27T17:03:36.633Z"
   },
   {
    "duration": 152,
    "start_time": "2022-09-27T17:03:37.703Z"
   },
   {
    "duration": 8,
    "start_time": "2022-09-27T17:03:37.856Z"
   },
   {
    "duration": 21,
    "start_time": "2022-09-27T17:03:37.866Z"
   },
   {
    "duration": 19,
    "start_time": "2022-09-27T17:03:37.902Z"
   },
   {
    "duration": 79,
    "start_time": "2022-09-27T17:03:37.923Z"
   },
   {
    "duration": 63,
    "start_time": "2022-09-27T17:03:38.004Z"
   },
   {
    "duration": 93,
    "start_time": "2022-09-27T17:03:38.069Z"
   },
   {
    "duration": 67,
    "start_time": "2022-09-27T17:03:38.164Z"
   },
   {
    "duration": 90,
    "start_time": "2022-09-27T17:05:07.865Z"
   },
   {
    "duration": 63,
    "start_time": "2022-09-27T17:05:13.312Z"
   },
   {
    "duration": 53,
    "start_time": "2022-09-27T17:05:15.795Z"
   },
   {
    "duration": 47,
    "start_time": "2022-09-27T17:15:32.249Z"
   },
   {
    "duration": 11,
    "start_time": "2022-09-27T17:15:38.037Z"
   },
   {
    "duration": 16,
    "start_time": "2022-09-27T17:15:48.990Z"
   },
   {
    "duration": 17,
    "start_time": "2022-09-27T17:16:06.556Z"
   },
   {
    "duration": 16,
    "start_time": "2022-09-27T17:16:12.882Z"
   },
   {
    "duration": 23,
    "start_time": "2022-09-27T17:16:20.401Z"
   },
   {
    "duration": 16,
    "start_time": "2022-09-27T17:16:27.248Z"
   },
   {
    "duration": 10,
    "start_time": "2022-09-27T17:20:11.591Z"
   },
   {
    "duration": 9,
    "start_time": "2022-09-27T17:20:29.833Z"
   },
   {
    "duration": 8,
    "start_time": "2022-09-27T17:22:10.189Z"
   },
   {
    "duration": 9,
    "start_time": "2022-09-27T17:28:36.307Z"
   },
   {
    "duration": 8,
    "start_time": "2022-09-27T17:28:43.391Z"
   },
   {
    "duration": 10,
    "start_time": "2022-09-27T17:31:00.468Z"
   },
   {
    "duration": 1091,
    "start_time": "2022-09-27T17:32:42.994Z"
   },
   {
    "duration": 160,
    "start_time": "2022-09-27T17:32:44.087Z"
   },
   {
    "duration": 7,
    "start_time": "2022-09-27T17:32:44.249Z"
   },
   {
    "duration": 22,
    "start_time": "2022-09-27T17:32:44.257Z"
   },
   {
    "duration": 104,
    "start_time": "2022-09-27T17:32:44.280Z"
   },
   {
    "duration": 0,
    "start_time": "2022-09-27T17:32:44.387Z"
   },
   {
    "duration": 0,
    "start_time": "2022-09-27T17:32:44.388Z"
   },
   {
    "duration": 0,
    "start_time": "2022-09-27T17:32:44.389Z"
   },
   {
    "duration": 0,
    "start_time": "2022-09-27T17:32:44.400Z"
   },
   {
    "duration": 0,
    "start_time": "2022-09-27T17:32:44.402Z"
   },
   {
    "duration": 1098,
    "start_time": "2022-09-27T17:33:41.012Z"
   },
   {
    "duration": 157,
    "start_time": "2022-09-27T17:33:42.112Z"
   },
   {
    "duration": 7,
    "start_time": "2022-09-27T17:33:42.271Z"
   },
   {
    "duration": 31,
    "start_time": "2022-09-27T17:33:42.280Z"
   },
   {
    "duration": 97,
    "start_time": "2022-09-27T17:33:42.312Z"
   },
   {
    "duration": 0,
    "start_time": "2022-09-27T17:33:42.410Z"
   },
   {
    "duration": 0,
    "start_time": "2022-09-27T17:33:42.411Z"
   },
   {
    "duration": 0,
    "start_time": "2022-09-27T17:33:42.412Z"
   },
   {
    "duration": 0,
    "start_time": "2022-09-27T17:33:42.413Z"
   },
   {
    "duration": 0,
    "start_time": "2022-09-27T17:33:42.414Z"
   },
   {
    "duration": 51,
    "start_time": "2022-09-27T17:35:34.580Z"
   },
   {
    "duration": 19,
    "start_time": "2022-09-27T17:35:43.184Z"
   },
   {
    "duration": 9,
    "start_time": "2022-09-27T17:38:26.835Z"
   },
   {
    "duration": 9,
    "start_time": "2022-09-27T17:38:34.118Z"
   },
   {
    "duration": 16,
    "start_time": "2022-09-27T17:38:50.449Z"
   },
   {
    "duration": 70,
    "start_time": "2022-09-27T17:43:47.250Z"
   },
   {
    "duration": 24,
    "start_time": "2022-09-27T17:43:54.720Z"
   },
   {
    "duration": 16,
    "start_time": "2022-09-27T17:44:09.575Z"
   },
   {
    "duration": 78,
    "start_time": "2022-09-27T17:47:23.723Z"
   },
   {
    "duration": 1043,
    "start_time": "2022-09-27T17:48:08.356Z"
   },
   {
    "duration": 167,
    "start_time": "2022-09-27T17:48:09.401Z"
   },
   {
    "duration": 7,
    "start_time": "2022-09-27T17:48:09.569Z"
   },
   {
    "duration": 89,
    "start_time": "2022-09-27T17:48:09.578Z"
   },
   {
    "duration": 23,
    "start_time": "2022-09-27T17:48:09.668Z"
   },
   {
    "duration": 73,
    "start_time": "2022-09-27T17:48:09.700Z"
   },
   {
    "duration": 110,
    "start_time": "2022-09-27T17:48:09.775Z"
   },
   {
    "duration": 92,
    "start_time": "2022-09-27T17:48:09.887Z"
   },
   {
    "duration": 70,
    "start_time": "2022-09-27T17:48:09.980Z"
   },
   {
    "duration": 85,
    "start_time": "2022-09-27T17:50:19.266Z"
   },
   {
    "duration": 27,
    "start_time": "2022-09-27T17:50:26.392Z"
   },
   {
    "duration": 32,
    "start_time": "2022-09-27T17:56:05.351Z"
   },
   {
    "duration": 6,
    "start_time": "2022-09-27T17:57:58.269Z"
   },
   {
    "duration": 5,
    "start_time": "2022-09-27T17:58:11.511Z"
   },
   {
    "duration": 11,
    "start_time": "2022-09-27T17:58:39.404Z"
   },
   {
    "duration": 31,
    "start_time": "2022-09-27T18:00:21.268Z"
   },
   {
    "duration": 31,
    "start_time": "2022-09-27T18:00:51.822Z"
   },
   {
    "duration": 6,
    "start_time": "2022-09-27T18:00:58.914Z"
   },
   {
    "duration": 1174,
    "start_time": "2022-09-27T18:08:13.574Z"
   },
   {
    "duration": 156,
    "start_time": "2022-09-27T18:08:14.749Z"
   },
   {
    "duration": 7,
    "start_time": "2022-09-27T18:08:14.908Z"
   },
   {
    "duration": 90,
    "start_time": "2022-09-27T18:08:14.917Z"
   },
   {
    "duration": 24,
    "start_time": "2022-09-27T18:08:15.009Z"
   },
   {
    "duration": 93,
    "start_time": "2022-09-27T18:08:15.034Z"
   },
   {
    "duration": 85,
    "start_time": "2022-09-27T18:08:15.129Z"
   },
   {
    "duration": 89,
    "start_time": "2022-09-27T18:08:15.215Z"
   },
   {
    "duration": 64,
    "start_time": "2022-09-27T18:08:15.306Z"
   },
   {
    "duration": 39,
    "start_time": "2022-09-27T18:08:15.371Z"
   },
   {
    "duration": 32,
    "start_time": "2022-09-27T18:08:15.411Z"
   },
   {
    "duration": 14,
    "start_time": "2022-09-27T18:08:15.445Z"
   },
   {
    "duration": 55,
    "start_time": "2022-09-28T17:38:24.986Z"
   },
   {
    "duration": 3,
    "start_time": "2022-09-28T17:38:29.522Z"
   },
   {
    "duration": 1486,
    "start_time": "2022-09-28T17:38:34.667Z"
   },
   {
    "duration": 1102,
    "start_time": "2022-09-28T17:38:36.155Z"
   },
   {
    "duration": 8,
    "start_time": "2022-09-28T17:38:37.261Z"
   },
   {
    "duration": 99,
    "start_time": "2022-09-28T17:38:37.271Z"
   },
   {
    "duration": 47,
    "start_time": "2022-09-28T17:38:37.372Z"
   },
   {
    "duration": 100,
    "start_time": "2022-09-28T17:38:37.421Z"
   },
   {
    "duration": 103,
    "start_time": "2022-09-28T17:38:37.523Z"
   },
   {
    "duration": 121,
    "start_time": "2022-09-28T17:38:37.627Z"
   },
   {
    "duration": 84,
    "start_time": "2022-09-28T17:38:37.750Z"
   },
   {
    "duration": 29,
    "start_time": "2022-09-28T17:38:37.836Z"
   },
   {
    "duration": 51,
    "start_time": "2022-09-28T17:38:37.867Z"
   },
   {
    "duration": 8,
    "start_time": "2022-09-28T17:38:37.919Z"
   },
   {
    "duration": 126,
    "start_time": "2022-09-28T17:38:37.929Z"
   },
   {
    "duration": 0,
    "start_time": "2022-09-28T17:38:38.057Z"
   },
   {
    "duration": 19,
    "start_time": "2022-09-28T17:39:21.808Z"
   },
   {
    "duration": 12,
    "start_time": "2022-09-28T17:41:16.669Z"
   },
   {
    "duration": 19,
    "start_time": "2022-09-28T17:41:38.301Z"
   },
   {
    "duration": 25,
    "start_time": "2022-09-28T17:42:04.681Z"
   },
   {
    "duration": 1711,
    "start_time": "2022-09-28T17:47:45.309Z"
   },
   {
    "duration": 1028,
    "start_time": "2022-09-28T17:48:14.312Z"
   },
   {
    "duration": 29,
    "start_time": "2022-09-28T17:49:48.540Z"
   },
   {
    "duration": 40,
    "start_time": "2022-09-28T17:50:15.064Z"
   },
   {
    "duration": 27,
    "start_time": "2022-09-28T17:51:54.099Z"
   },
   {
    "duration": 33,
    "start_time": "2022-09-28T17:52:01.368Z"
   },
   {
    "duration": 21,
    "start_time": "2022-09-28T17:52:14.436Z"
   },
   {
    "duration": 24,
    "start_time": "2022-09-28T17:52:24.405Z"
   },
   {
    "duration": 24,
    "start_time": "2022-09-28T17:52:45.326Z"
   },
   {
    "duration": 36,
    "start_time": "2022-09-28T17:53:13.063Z"
   },
   {
    "duration": 28,
    "start_time": "2022-09-28T17:53:26.525Z"
   },
   {
    "duration": 27,
    "start_time": "2022-09-28T17:55:34.560Z"
   },
   {
    "duration": 32,
    "start_time": "2022-09-28T17:55:44.645Z"
   },
   {
    "duration": 986,
    "start_time": "2022-09-28T17:56:12.340Z"
   },
   {
    "duration": 54,
    "start_time": "2022-09-28T18:01:38.725Z"
   },
   {
    "duration": 50,
    "start_time": "2022-09-28T18:01:49.316Z"
   },
   {
    "duration": 52,
    "start_time": "2022-09-28T18:02:21.753Z"
   },
   {
    "duration": 1323,
    "start_time": "2022-09-28T18:05:04.181Z"
   },
   {
    "duration": 202,
    "start_time": "2022-09-28T18:05:05.506Z"
   },
   {
    "duration": 9,
    "start_time": "2022-09-28T18:05:05.710Z"
   },
   {
    "duration": 129,
    "start_time": "2022-09-28T18:05:05.721Z"
   },
   {
    "duration": 45,
    "start_time": "2022-09-28T18:05:05.852Z"
   },
   {
    "duration": 102,
    "start_time": "2022-09-28T18:05:05.901Z"
   },
   {
    "duration": 107,
    "start_time": "2022-09-28T18:05:06.005Z"
   },
   {
    "duration": 123,
    "start_time": "2022-09-28T18:05:06.114Z"
   },
   {
    "duration": 104,
    "start_time": "2022-09-28T18:05:06.239Z"
   },
   {
    "duration": 29,
    "start_time": "2022-09-28T18:05:06.346Z"
   },
   {
    "duration": 42,
    "start_time": "2022-09-28T18:05:06.389Z"
   },
   {
    "duration": 8,
    "start_time": "2022-09-28T18:05:06.433Z"
   },
   {
    "duration": 71,
    "start_time": "2022-09-28T18:05:06.443Z"
   },
   {
    "duration": 4,
    "start_time": "2022-09-28T18:05:06.515Z"
   },
   {
    "duration": 0,
    "start_time": "2022-09-28T18:05:06.520Z"
   },
   {
    "duration": 101,
    "start_time": "2022-09-28T18:11:25.558Z"
   },
   {
    "duration": 36,
    "start_time": "2022-09-28T18:11:36.745Z"
   },
   {
    "duration": 45,
    "start_time": "2022-09-28T18:11:44.685Z"
   },
   {
    "duration": 37,
    "start_time": "2022-09-28T18:56:11.439Z"
   },
   {
    "duration": 30,
    "start_time": "2022-09-28T18:56:20.001Z"
   },
   {
    "duration": 8,
    "start_time": "2022-09-28T18:58:37.961Z"
   },
   {
    "duration": 85,
    "start_time": "2022-09-28T18:59:25.771Z"
   },
   {
    "duration": 13,
    "start_time": "2022-09-28T19:01:39.600Z"
   },
   {
    "duration": 78,
    "start_time": "2022-09-28T19:02:05.824Z"
   },
   {
    "duration": 86,
    "start_time": "2022-09-28T19:02:55.386Z"
   },
   {
    "duration": 14,
    "start_time": "2022-09-28T19:08:04.468Z"
   },
   {
    "duration": 108,
    "start_time": "2022-09-28T19:08:48.146Z"
   },
   {
    "duration": 1206,
    "start_time": "2022-09-28T19:09:08.181Z"
   },
   {
    "duration": 213,
    "start_time": "2022-09-28T19:09:09.389Z"
   },
   {
    "duration": 10,
    "start_time": "2022-09-28T19:09:09.606Z"
   },
   {
    "duration": 111,
    "start_time": "2022-09-28T19:09:09.618Z"
   },
   {
    "duration": 31,
    "start_time": "2022-09-28T19:09:09.730Z"
   },
   {
    "duration": 107,
    "start_time": "2022-09-28T19:09:09.762Z"
   },
   {
    "duration": 130,
    "start_time": "2022-09-28T19:09:09.871Z"
   },
   {
    "duration": 111,
    "start_time": "2022-09-28T19:09:10.003Z"
   },
   {
    "duration": 116,
    "start_time": "2022-09-28T19:09:10.116Z"
   },
   {
    "duration": 28,
    "start_time": "2022-09-28T19:09:10.234Z"
   },
   {
    "duration": 52,
    "start_time": "2022-09-28T19:09:10.264Z"
   },
   {
    "duration": 10,
    "start_time": "2022-09-28T19:09:10.318Z"
   },
   {
    "duration": 72,
    "start_time": "2022-09-28T19:09:10.330Z"
   },
   {
    "duration": 14,
    "start_time": "2022-09-28T19:09:10.404Z"
   },
   {
    "duration": 7,
    "start_time": "2022-09-28T19:09:10.420Z"
   },
   {
    "duration": 84,
    "start_time": "2022-09-28T19:09:10.429Z"
   },
   {
    "duration": 111,
    "start_time": "2022-09-28T19:09:45.329Z"
   },
   {
    "duration": 77,
    "start_time": "2022-09-28T19:09:57.003Z"
   },
   {
    "duration": 23,
    "start_time": "2022-09-28T19:10:30.529Z"
   },
   {
    "duration": 23,
    "start_time": "2022-09-28T19:14:14.309Z"
   },
   {
    "duration": 18,
    "start_time": "2022-09-28T19:14:34.455Z"
   },
   {
    "duration": 36,
    "start_time": "2022-09-28T19:14:47.868Z"
   },
   {
    "duration": 76,
    "start_time": "2022-09-28T19:15:30.160Z"
   },
   {
    "duration": 24,
    "start_time": "2022-09-28T19:15:37.538Z"
   },
   {
    "duration": 383,
    "start_time": "2022-09-28T19:25:01.247Z"
   },
   {
    "duration": 13,
    "start_time": "2022-09-28T19:25:46.136Z"
   },
   {
    "duration": 42,
    "start_time": "2022-09-28T19:27:51.463Z"
   },
   {
    "duration": 52,
    "start_time": "2022-09-28T19:28:21.362Z"
   },
   {
    "duration": 300,
    "start_time": "2022-09-28T19:29:04.084Z"
   },
   {
    "duration": 208,
    "start_time": "2022-09-28T19:29:17.435Z"
   },
   {
    "duration": 1194,
    "start_time": "2022-09-28T19:33:06.965Z"
   },
   {
    "duration": 193,
    "start_time": "2022-09-28T19:33:08.161Z"
   },
   {
    "duration": 8,
    "start_time": "2022-09-28T19:33:08.356Z"
   },
   {
    "duration": 107,
    "start_time": "2022-09-28T19:33:08.366Z"
   },
   {
    "duration": 43,
    "start_time": "2022-09-28T19:33:08.475Z"
   },
   {
    "duration": 111,
    "start_time": "2022-09-28T19:33:08.520Z"
   },
   {
    "duration": 108,
    "start_time": "2022-09-28T19:33:08.633Z"
   },
   {
    "duration": 117,
    "start_time": "2022-09-28T19:33:08.743Z"
   },
   {
    "duration": 82,
    "start_time": "2022-09-28T19:33:08.862Z"
   },
   {
    "duration": 28,
    "start_time": "2022-09-28T19:33:08.946Z"
   },
   {
    "duration": 41,
    "start_time": "2022-09-28T19:33:08.988Z"
   },
   {
    "duration": 9,
    "start_time": "2022-09-28T19:33:09.031Z"
   },
   {
    "duration": 67,
    "start_time": "2022-09-28T19:33:09.042Z"
   },
   {
    "duration": 12,
    "start_time": "2022-09-28T19:33:09.111Z"
   },
   {
    "duration": 24,
    "start_time": "2022-09-28T19:33:09.125Z"
   },
   {
    "duration": 30,
    "start_time": "2022-09-28T19:33:09.151Z"
   },
   {
    "duration": 27,
    "start_time": "2022-09-28T19:33:09.183Z"
   },
   {
    "duration": 230,
    "start_time": "2022-09-28T19:33:09.212Z"
   },
   {
    "duration": 2003,
    "start_time": "2022-09-28T19:36:12.031Z"
   },
   {
    "duration": 11,
    "start_time": "2022-09-28T19:36:23.617Z"
   },
   {
    "duration": 5,
    "start_time": "2022-09-28T19:36:42.350Z"
   },
   {
    "duration": 37,
    "start_time": "2022-09-28T19:43:26.057Z"
   },
   {
    "duration": 5,
    "start_time": "2022-09-28T19:45:38.530Z"
   },
   {
    "duration": 588,
    "start_time": "2022-09-28T19:45:48.518Z"
   },
   {
    "duration": 251,
    "start_time": "2022-09-28T19:46:18.116Z"
   },
   {
    "duration": 40,
    "start_time": "2022-09-28T19:52:56.481Z"
   },
   {
    "duration": 242,
    "start_time": "2022-09-28T19:53:30.717Z"
   },
   {
    "duration": 1233,
    "start_time": "2022-09-28T19:53:41.972Z"
   },
   {
    "duration": 197,
    "start_time": "2022-09-28T19:53:43.207Z"
   },
   {
    "duration": 11,
    "start_time": "2022-09-28T19:53:43.408Z"
   },
   {
    "duration": 104,
    "start_time": "2022-09-28T19:53:43.421Z"
   },
   {
    "duration": 31,
    "start_time": "2022-09-28T19:53:43.526Z"
   },
   {
    "duration": 116,
    "start_time": "2022-09-28T19:53:43.559Z"
   },
   {
    "duration": 128,
    "start_time": "2022-09-28T19:53:43.677Z"
   },
   {
    "duration": 115,
    "start_time": "2022-09-28T19:53:43.807Z"
   },
   {
    "duration": 82,
    "start_time": "2022-09-28T19:53:43.924Z"
   },
   {
    "duration": 29,
    "start_time": "2022-09-28T19:53:44.009Z"
   },
   {
    "duration": 54,
    "start_time": "2022-09-28T19:53:44.039Z"
   },
   {
    "duration": 12,
    "start_time": "2022-09-28T19:53:44.094Z"
   },
   {
    "duration": 41,
    "start_time": "2022-09-28T19:53:44.108Z"
   },
   {
    "duration": 13,
    "start_time": "2022-09-28T19:53:44.151Z"
   },
   {
    "duration": 40,
    "start_time": "2022-09-28T19:53:44.166Z"
   },
   {
    "duration": 43,
    "start_time": "2022-09-28T19:53:44.208Z"
   },
   {
    "duration": 11,
    "start_time": "2022-09-28T19:53:44.253Z"
   },
   {
    "duration": 109,
    "start_time": "2022-09-28T19:53:44.266Z"
   },
   {
    "duration": 0,
    "start_time": "2022-09-28T19:53:44.376Z"
   },
   {
    "duration": 0,
    "start_time": "2022-09-28T19:53:44.378Z"
   },
   {
    "duration": 0,
    "start_time": "2022-09-28T19:53:44.379Z"
   },
   {
    "duration": 360,
    "start_time": "2022-09-28T19:54:37.563Z"
   },
   {
    "duration": 288,
    "start_time": "2022-09-28T19:54:48.267Z"
   },
   {
    "duration": 6,
    "start_time": "2022-09-28T19:55:08.848Z"
   },
   {
    "duration": 5,
    "start_time": "2022-09-28T19:55:14.060Z"
   },
   {
    "duration": 388,
    "start_time": "2022-09-28T19:55:59.141Z"
   },
   {
    "duration": 275,
    "start_time": "2022-09-28T19:57:27.150Z"
   },
   {
    "duration": 381,
    "start_time": "2022-09-28T19:57:42.305Z"
   },
   {
    "duration": 394,
    "start_time": "2022-09-28T19:58:29.451Z"
   },
   {
    "duration": 255,
    "start_time": "2022-09-28T19:59:22.532Z"
   },
   {
    "duration": 13,
    "start_time": "2022-09-28T20:02:29.228Z"
   },
   {
    "duration": 42,
    "start_time": "2022-09-28T20:03:33.874Z"
   },
   {
    "duration": 15,
    "start_time": "2022-09-28T20:03:42.784Z"
   },
   {
    "duration": 316,
    "start_time": "2022-09-28T20:03:46.377Z"
   },
   {
    "duration": 301,
    "start_time": "2022-09-28T20:04:07.579Z"
   },
   {
    "duration": 35,
    "start_time": "2022-09-28T20:04:33.912Z"
   },
   {
    "duration": 14,
    "start_time": "2022-09-28T20:04:37.146Z"
   },
   {
    "duration": 309,
    "start_time": "2022-09-28T20:04:39.518Z"
   },
   {
    "duration": 303,
    "start_time": "2022-09-28T20:04:43.720Z"
   },
   {
    "duration": 448,
    "start_time": "2022-09-28T20:05:01.884Z"
   },
   {
    "duration": 12,
    "start_time": "2022-09-28T20:05:30.338Z"
   },
   {
    "duration": 13,
    "start_time": "2022-09-28T20:05:32.672Z"
   },
   {
    "duration": 596,
    "start_time": "2022-09-28T20:06:13.624Z"
   },
   {
    "duration": 46,
    "start_time": "2022-09-28T20:06:38.089Z"
   },
   {
    "duration": 37,
    "start_time": "2022-09-28T20:06:44.221Z"
   },
   {
    "duration": 18,
    "start_time": "2022-09-28T20:07:15.214Z"
   },
   {
    "duration": 25,
    "start_time": "2022-09-28T20:07:39.691Z"
   },
   {
    "duration": 97,
    "start_time": "2022-09-28T20:07:54.035Z"
   },
   {
    "duration": 10,
    "start_time": "2022-09-28T20:08:48.127Z"
   },
   {
    "duration": 14,
    "start_time": "2022-09-28T20:09:13.413Z"
   },
   {
    "duration": 411,
    "start_time": "2022-09-28T20:10:01.036Z"
   },
   {
    "duration": 14,
    "start_time": "2022-09-28T20:10:22.656Z"
   },
   {
    "duration": 40,
    "start_time": "2022-09-28T20:10:57.009Z"
   },
   {
    "duration": 340,
    "start_time": "2022-09-28T20:11:54.712Z"
   },
   {
    "duration": 46,
    "start_time": "2022-09-28T20:23:19.026Z"
   },
   {
    "duration": 17,
    "start_time": "2022-09-28T20:23:34.709Z"
   },
   {
    "duration": 29,
    "start_time": "2022-09-28T20:23:42.442Z"
   },
   {
    "duration": 5,
    "start_time": "2022-09-28T20:24:29.869Z"
   },
   {
    "duration": 6,
    "start_time": "2022-09-28T20:24:38.731Z"
   },
   {
    "duration": 3,
    "start_time": "2022-09-28T20:25:46.414Z"
   },
   {
    "duration": 2,
    "start_time": "2022-09-28T20:25:48.370Z"
   },
   {
    "duration": 29,
    "start_time": "2022-09-28T20:26:23.356Z"
   },
   {
    "duration": 13,
    "start_time": "2022-09-28T20:26:48.834Z"
   },
   {
    "duration": 8,
    "start_time": "2022-09-28T20:29:42.268Z"
   },
   {
    "duration": 9,
    "start_time": "2022-09-28T20:34:15.840Z"
   },
   {
    "duration": 52,
    "start_time": "2022-09-28T20:34:29.166Z"
   },
   {
    "duration": 1415,
    "start_time": "2022-10-01T07:52:49.659Z"
   },
   {
    "duration": 562,
    "start_time": "2022-10-01T07:52:51.076Z"
   },
   {
    "duration": 8,
    "start_time": "2022-10-01T07:52:51.640Z"
   },
   {
    "duration": 99,
    "start_time": "2022-10-01T07:52:51.650Z"
   },
   {
    "duration": 40,
    "start_time": "2022-10-01T07:52:51.751Z"
   },
   {
    "duration": 96,
    "start_time": "2022-10-01T07:52:51.793Z"
   },
   {
    "duration": 108,
    "start_time": "2022-10-01T07:52:51.891Z"
   },
   {
    "duration": 117,
    "start_time": "2022-10-01T07:52:52.001Z"
   },
   {
    "duration": 101,
    "start_time": "2022-10-01T07:52:52.121Z"
   },
   {
    "duration": 30,
    "start_time": "2022-10-01T07:52:52.225Z"
   },
   {
    "duration": 58,
    "start_time": "2022-10-01T07:52:52.257Z"
   },
   {
    "duration": 8,
    "start_time": "2022-10-01T07:52:52.318Z"
   },
   {
    "duration": 70,
    "start_time": "2022-10-01T07:52:52.327Z"
   },
   {
    "duration": 11,
    "start_time": "2022-10-01T07:52:52.400Z"
   },
   {
    "duration": 10,
    "start_time": "2022-10-01T07:52:52.412Z"
   },
   {
    "duration": 29,
    "start_time": "2022-10-01T07:52:52.423Z"
   },
   {
    "duration": 38,
    "start_time": "2022-10-01T07:52:52.453Z"
   },
   {
    "duration": 362,
    "start_time": "2022-10-01T07:52:52.493Z"
   },
   {
    "duration": 5,
    "start_time": "2022-10-01T07:52:52.856Z"
   },
   {
    "duration": 25,
    "start_time": "2022-10-01T07:52:52.862Z"
   },
   {
    "duration": 299,
    "start_time": "2022-10-01T07:52:52.891Z"
   },
   {
    "duration": 15,
    "start_time": "2022-10-01T07:52:53.192Z"
   },
   {
    "duration": 11,
    "start_time": "2022-10-01T07:52:53.209Z"
   },
   {
    "duration": 11,
    "start_time": "2022-10-01T07:52:53.221Z"
   },
   {
    "duration": 59,
    "start_time": "2022-10-01T07:52:53.233Z"
   },
   {
    "duration": 140,
    "start_time": "2022-10-01T08:02:43.563Z"
   },
   {
    "duration": 54,
    "start_time": "2022-10-01T08:02:55.446Z"
   },
   {
    "duration": 24,
    "start_time": "2022-10-01T08:04:40.596Z"
   },
   {
    "duration": 59,
    "start_time": "2022-10-01T08:18:08.843Z"
   },
   {
    "duration": 58,
    "start_time": "2022-10-01T08:23:37.029Z"
   },
   {
    "duration": 3,
    "start_time": "2022-10-01T08:36:22.900Z"
   },
   {
    "duration": 18,
    "start_time": "2022-10-01T08:36:30.474Z"
   },
   {
    "duration": 3,
    "start_time": "2022-10-01T08:36:38.553Z"
   },
   {
    "duration": 67,
    "start_time": "2022-10-01T08:41:27.594Z"
   },
   {
    "duration": 47,
    "start_time": "2022-10-01T09:02:36.590Z"
   },
   {
    "duration": 50,
    "start_time": "2022-10-01T09:04:28.985Z"
   },
   {
    "duration": 60,
    "start_time": "2022-10-01T09:04:38.074Z"
   },
   {
    "duration": 11,
    "start_time": "2022-10-01T09:07:03.478Z"
   },
   {
    "duration": 6,
    "start_time": "2022-10-01T09:07:12.225Z"
   },
   {
    "duration": 17,
    "start_time": "2022-10-01T09:08:15.499Z"
   },
   {
    "duration": 9,
    "start_time": "2022-10-01T09:08:55.937Z"
   },
   {
    "duration": 5,
    "start_time": "2022-10-01T09:11:25.622Z"
   },
   {
    "duration": 9,
    "start_time": "2022-10-01T09:11:32.642Z"
   },
   {
    "duration": 9,
    "start_time": "2022-10-01T09:11:47.697Z"
   },
   {
    "duration": 9,
    "start_time": "2022-10-01T09:12:05.855Z"
   },
   {
    "duration": 1155,
    "start_time": "2022-10-01T09:12:20.474Z"
   },
   {
    "duration": 173,
    "start_time": "2022-10-01T09:12:21.631Z"
   },
   {
    "duration": 9,
    "start_time": "2022-10-01T09:12:21.805Z"
   },
   {
    "duration": 105,
    "start_time": "2022-10-01T09:12:21.817Z"
   },
   {
    "duration": 26,
    "start_time": "2022-10-01T09:12:21.924Z"
   },
   {
    "duration": 106,
    "start_time": "2022-10-01T09:12:21.951Z"
   },
   {
    "duration": 103,
    "start_time": "2022-10-01T09:12:22.059Z"
   },
   {
    "duration": 119,
    "start_time": "2022-10-01T09:12:22.164Z"
   },
   {
    "duration": 76,
    "start_time": "2022-10-01T09:12:22.285Z"
   },
   {
    "duration": 39,
    "start_time": "2022-10-01T09:12:22.364Z"
   },
   {
    "duration": 40,
    "start_time": "2022-10-01T09:12:22.405Z"
   },
   {
    "duration": 40,
    "start_time": "2022-10-01T09:12:22.447Z"
   },
   {
    "duration": 43,
    "start_time": "2022-10-01T09:12:22.488Z"
   },
   {
    "duration": 13,
    "start_time": "2022-10-01T09:12:22.533Z"
   },
   {
    "duration": 17,
    "start_time": "2022-10-01T09:12:22.548Z"
   },
   {
    "duration": 47,
    "start_time": "2022-10-01T09:12:22.579Z"
   },
   {
    "duration": 12,
    "start_time": "2022-10-01T09:12:22.628Z"
   },
   {
    "duration": 395,
    "start_time": "2022-10-01T09:12:22.641Z"
   },
   {
    "duration": 7,
    "start_time": "2022-10-01T09:12:23.038Z"
   },
   {
    "duration": 48,
    "start_time": "2022-10-01T09:12:23.047Z"
   },
   {
    "duration": 332,
    "start_time": "2022-10-01T09:12:23.097Z"
   },
   {
    "duration": 19,
    "start_time": "2022-10-01T09:12:23.431Z"
   },
   {
    "duration": 46,
    "start_time": "2022-10-01T09:12:23.452Z"
   },
   {
    "duration": 33,
    "start_time": "2022-10-01T09:12:23.499Z"
   },
   {
    "duration": 36,
    "start_time": "2022-10-01T09:12:23.534Z"
   },
   {
    "duration": 34,
    "start_time": "2022-10-01T09:12:23.572Z"
   },
   {
    "duration": 54,
    "start_time": "2022-10-01T09:12:23.609Z"
   },
   {
    "duration": 19,
    "start_time": "2022-10-01T09:12:23.666Z"
   },
   {
    "duration": 30,
    "start_time": "2022-10-01T09:12:23.688Z"
   },
   {
    "duration": 112,
    "start_time": "2022-10-01T09:12:47.093Z"
   },
   {
    "duration": 10,
    "start_time": "2022-10-01T09:12:55.742Z"
   },
   {
    "duration": 1181,
    "start_time": "2022-10-01T09:16:19.245Z"
   },
   {
    "duration": 179,
    "start_time": "2022-10-01T09:16:20.428Z"
   },
   {
    "duration": 8,
    "start_time": "2022-10-01T09:16:20.609Z"
   },
   {
    "duration": 103,
    "start_time": "2022-10-01T09:16:20.619Z"
   },
   {
    "duration": 25,
    "start_time": "2022-10-01T09:16:20.724Z"
   },
   {
    "duration": 96,
    "start_time": "2022-10-01T09:16:20.751Z"
   },
   {
    "duration": 99,
    "start_time": "2022-10-01T09:16:20.849Z"
   },
   {
    "duration": 105,
    "start_time": "2022-10-01T09:16:20.949Z"
   },
   {
    "duration": 74,
    "start_time": "2022-10-01T09:16:21.056Z"
   },
   {
    "duration": 25,
    "start_time": "2022-10-01T09:16:21.132Z"
   },
   {
    "duration": 47,
    "start_time": "2022-10-01T09:16:21.159Z"
   },
   {
    "duration": 7,
    "start_time": "2022-10-01T09:16:21.207Z"
   },
   {
    "duration": 39,
    "start_time": "2022-10-01T09:16:21.215Z"
   },
   {
    "duration": 39,
    "start_time": "2022-10-01T09:16:21.256Z"
   },
   {
    "duration": 17,
    "start_time": "2022-10-01T09:16:21.297Z"
   },
   {
    "duration": 27,
    "start_time": "2022-10-01T09:16:21.316Z"
   },
   {
    "duration": 13,
    "start_time": "2022-10-01T09:16:21.345Z"
   },
   {
    "duration": 375,
    "start_time": "2022-10-01T09:16:21.359Z"
   },
   {
    "duration": 5,
    "start_time": "2022-10-01T09:16:21.736Z"
   },
   {
    "duration": 8,
    "start_time": "2022-10-01T09:16:21.742Z"
   },
   {
    "duration": 318,
    "start_time": "2022-10-01T09:16:21.752Z"
   },
   {
    "duration": 19,
    "start_time": "2022-10-01T09:16:22.072Z"
   },
   {
    "duration": 12,
    "start_time": "2022-10-01T09:16:22.092Z"
   },
   {
    "duration": 11,
    "start_time": "2022-10-01T09:16:22.105Z"
   },
   {
    "duration": 34,
    "start_time": "2022-10-01T09:16:22.117Z"
   },
   {
    "duration": 49,
    "start_time": "2022-10-01T09:16:22.153Z"
   },
   {
    "duration": 48,
    "start_time": "2022-10-01T09:16:22.204Z"
   },
   {
    "duration": 33,
    "start_time": "2022-10-01T09:16:22.253Z"
   },
   {
    "duration": 9,
    "start_time": "2022-10-01T09:16:22.291Z"
   },
   {
    "duration": 1093,
    "start_time": "2022-10-01T09:17:28.244Z"
   },
   {
    "duration": 904,
    "start_time": "2022-10-01T09:17:43.190Z"
   },
   {
    "duration": 9,
    "start_time": "2022-10-01T09:18:05.016Z"
   },
   {
    "duration": 1501,
    "start_time": "2022-10-02T07:28:38.691Z"
   },
   {
    "duration": 604,
    "start_time": "2022-10-02T07:28:40.195Z"
   },
   {
    "duration": 11,
    "start_time": "2022-10-02T07:28:40.800Z"
   },
   {
    "duration": 146,
    "start_time": "2022-10-02T07:28:40.815Z"
   },
   {
    "duration": 32,
    "start_time": "2022-10-02T07:28:40.963Z"
   },
   {
    "duration": 119,
    "start_time": "2022-10-02T07:28:40.997Z"
   },
   {
    "duration": 119,
    "start_time": "2022-10-02T07:28:41.118Z"
   },
   {
    "duration": 110,
    "start_time": "2022-10-02T07:28:41.239Z"
   },
   {
    "duration": 71,
    "start_time": "2022-10-02T07:28:41.350Z"
   },
   {
    "duration": 34,
    "start_time": "2022-10-02T07:28:41.424Z"
   },
   {
    "duration": 37,
    "start_time": "2022-10-02T07:28:41.460Z"
   },
   {
    "duration": 39,
    "start_time": "2022-10-02T07:28:41.499Z"
   },
   {
    "duration": 51,
    "start_time": "2022-10-02T07:28:41.540Z"
   },
   {
    "duration": 13,
    "start_time": "2022-10-02T07:28:41.593Z"
   },
   {
    "duration": 22,
    "start_time": "2022-10-02T07:28:41.608Z"
   },
   {
    "duration": 58,
    "start_time": "2022-10-02T07:28:41.632Z"
   },
   {
    "duration": 12,
    "start_time": "2022-10-02T07:28:41.692Z"
   },
   {
    "duration": 437,
    "start_time": "2022-10-02T07:28:41.706Z"
   },
   {
    "duration": 9,
    "start_time": "2022-10-02T07:28:42.148Z"
   },
   {
    "duration": 9,
    "start_time": "2022-10-02T07:28:42.159Z"
   },
   {
    "duration": 337,
    "start_time": "2022-10-02T07:28:42.170Z"
   },
   {
    "duration": 22,
    "start_time": "2022-10-02T07:28:42.509Z"
   },
   {
    "duration": 19,
    "start_time": "2022-10-02T07:28:42.533Z"
   },
   {
    "duration": 19,
    "start_time": "2022-10-02T07:28:42.554Z"
   },
   {
    "duration": 62,
    "start_time": "2022-10-02T07:28:42.575Z"
   },
   {
    "duration": 31,
    "start_time": "2022-10-02T07:28:42.640Z"
   },
   {
    "duration": 75,
    "start_time": "2022-10-02T07:28:42.673Z"
   },
   {
    "duration": 12,
    "start_time": "2022-10-02T07:28:42.752Z"
   },
   {
    "duration": 26,
    "start_time": "2022-10-02T07:28:42.766Z"
   },
   {
    "duration": 58,
    "start_time": "2022-10-02T07:39:17.855Z"
   },
   {
    "duration": 75,
    "start_time": "2022-10-02T07:39:44.503Z"
   },
   {
    "duration": 36,
    "start_time": "2022-10-02T07:40:14.901Z"
   },
   {
    "duration": 33,
    "start_time": "2022-10-02T07:41:01.532Z"
   },
   {
    "duration": 46,
    "start_time": "2022-10-02T07:41:10.784Z"
   },
   {
    "duration": 44,
    "start_time": "2022-10-02T07:41:20.691Z"
   },
   {
    "duration": 49,
    "start_time": "2022-10-02T07:41:43.319Z"
   },
   {
    "duration": 116,
    "start_time": "2022-10-02T07:44:14.541Z"
   },
   {
    "duration": 82,
    "start_time": "2022-10-02T07:44:28.058Z"
   },
   {
    "duration": 92,
    "start_time": "2022-10-02T07:46:21.300Z"
   },
   {
    "duration": 80,
    "start_time": "2022-10-02T07:46:29.844Z"
   },
   {
    "duration": 87,
    "start_time": "2022-10-02T07:47:16.884Z"
   },
   {
    "duration": 105,
    "start_time": "2022-10-02T07:48:38.990Z"
   },
   {
    "duration": 90,
    "start_time": "2022-10-02T07:49:21.444Z"
   },
   {
    "duration": 92,
    "start_time": "2022-10-02T07:50:00.162Z"
   },
   {
    "duration": 37,
    "start_time": "2022-10-02T07:54:21.961Z"
   },
   {
    "duration": 48,
    "start_time": "2022-10-02T07:56:12.959Z"
   },
   {
    "duration": 21,
    "start_time": "2022-10-02T07:56:20.246Z"
   },
   {
    "duration": 42,
    "start_time": "2022-10-02T07:56:39.061Z"
   },
   {
    "duration": 26,
    "start_time": "2022-10-02T07:56:54.922Z"
   },
   {
    "duration": 28,
    "start_time": "2022-10-02T07:57:11.844Z"
   },
   {
    "duration": 28,
    "start_time": "2022-10-02T07:57:26.157Z"
   },
   {
    "duration": 26,
    "start_time": "2022-10-02T07:58:00.143Z"
   },
   {
    "duration": 26,
    "start_time": "2022-10-02T07:58:05.522Z"
   },
   {
    "duration": 25,
    "start_time": "2022-10-02T08:00:53.899Z"
   },
   {
    "duration": 27,
    "start_time": "2022-10-02T08:00:56.061Z"
   },
   {
    "duration": 14,
    "start_time": "2022-10-02T08:03:00.930Z"
   },
   {
    "duration": 13,
    "start_time": "2022-10-02T08:03:56.067Z"
   },
   {
    "duration": 50,
    "start_time": "2022-10-02T08:07:48.080Z"
   },
   {
    "duration": 357,
    "start_time": "2022-10-02T08:08:06.830Z"
   },
   {
    "duration": 367,
    "start_time": "2022-10-02T08:09:00.136Z"
   },
   {
    "duration": 355,
    "start_time": "2022-10-02T08:09:15.222Z"
   },
   {
    "duration": 21,
    "start_time": "2022-10-02T08:09:31.802Z"
   },
   {
    "duration": 1276,
    "start_time": "2022-10-02T08:12:07.996Z"
   },
   {
    "duration": 169,
    "start_time": "2022-10-02T08:12:09.274Z"
   },
   {
    "duration": 8,
    "start_time": "2022-10-02T08:12:09.445Z"
   },
   {
    "duration": 137,
    "start_time": "2022-10-02T08:12:09.455Z"
   },
   {
    "duration": 34,
    "start_time": "2022-10-02T08:12:09.594Z"
   },
   {
    "duration": 92,
    "start_time": "2022-10-02T08:12:09.629Z"
   },
   {
    "duration": 106,
    "start_time": "2022-10-02T08:12:09.722Z"
   },
   {
    "duration": 132,
    "start_time": "2022-10-02T08:12:09.830Z"
   },
   {
    "duration": 88,
    "start_time": "2022-10-02T08:12:09.964Z"
   },
   {
    "duration": 32,
    "start_time": "2022-10-02T08:12:10.054Z"
   },
   {
    "duration": 57,
    "start_time": "2022-10-02T08:12:10.089Z"
   },
   {
    "duration": 9,
    "start_time": "2022-10-02T08:12:10.147Z"
   },
   {
    "duration": 45,
    "start_time": "2022-10-02T08:12:10.157Z"
   },
   {
    "duration": 16,
    "start_time": "2022-10-02T08:12:10.222Z"
   },
   {
    "duration": 17,
    "start_time": "2022-10-02T08:12:10.240Z"
   },
   {
    "duration": 29,
    "start_time": "2022-10-02T08:12:10.258Z"
   },
   {
    "duration": 12,
    "start_time": "2022-10-02T08:12:10.288Z"
   },
   {
    "duration": 369,
    "start_time": "2022-10-02T08:12:10.321Z"
   },
   {
    "duration": 5,
    "start_time": "2022-10-02T08:12:10.692Z"
   },
   {
    "duration": 8,
    "start_time": "2022-10-02T08:12:10.698Z"
   },
   {
    "duration": 309,
    "start_time": "2022-10-02T08:12:10.720Z"
   },
   {
    "duration": 16,
    "start_time": "2022-10-02T08:12:11.031Z"
   },
   {
    "duration": 16,
    "start_time": "2022-10-02T08:12:11.049Z"
   },
   {
    "duration": 20,
    "start_time": "2022-10-02T08:12:11.067Z"
   },
   {
    "duration": 51,
    "start_time": "2022-10-02T08:12:11.089Z"
   },
   {
    "duration": 28,
    "start_time": "2022-10-02T08:12:11.142Z"
   },
   {
    "duration": 73,
    "start_time": "2022-10-02T08:12:11.171Z"
   },
   {
    "duration": 9,
    "start_time": "2022-10-02T08:12:11.246Z"
   },
   {
    "duration": 11,
    "start_time": "2022-10-02T08:12:11.257Z"
   },
   {
    "duration": 402,
    "start_time": "2022-10-02T08:12:11.270Z"
   },
   {
    "duration": 392,
    "start_time": "2022-10-02T08:12:11.674Z"
   },
   {
    "duration": 119,
    "start_time": "2022-10-02T08:12:12.068Z"
   },
   {
    "duration": 11,
    "start_time": "2022-10-02T08:17:08.894Z"
   },
   {
    "duration": 26,
    "start_time": "2022-10-02T08:17:49.055Z"
   },
   {
    "duration": 44,
    "start_time": "2022-10-02T08:18:49.038Z"
   },
   {
    "duration": 45,
    "start_time": "2022-10-02T08:22:43.044Z"
   },
   {
    "duration": 43,
    "start_time": "2022-10-02T08:24:05.805Z"
   },
   {
    "duration": 6,
    "start_time": "2022-10-02T08:24:21.300Z"
   },
   {
    "duration": 6,
    "start_time": "2022-10-02T08:27:39.801Z"
   },
   {
    "duration": 6,
    "start_time": "2022-10-02T08:27:54.391Z"
   },
   {
    "duration": 41,
    "start_time": "2022-10-02T08:28:10.444Z"
   },
   {
    "duration": 7,
    "start_time": "2022-10-02T08:28:12.440Z"
   },
   {
    "duration": 46,
    "start_time": "2022-10-02T08:33:35.795Z"
   },
   {
    "duration": 7,
    "start_time": "2022-10-02T08:33:38.287Z"
   },
   {
    "duration": 45,
    "start_time": "2022-10-02T08:33:42.748Z"
   },
   {
    "duration": 8,
    "start_time": "2022-10-02T08:33:58.987Z"
   },
   {
    "duration": 17,
    "start_time": "2022-10-02T08:34:02.314Z"
   },
   {
    "duration": 49,
    "start_time": "2022-10-02T08:34:30.660Z"
   },
   {
    "duration": 49,
    "start_time": "2022-10-02T08:34:38.188Z"
   },
   {
    "duration": 44,
    "start_time": "2022-10-02T08:34:48.695Z"
   },
   {
    "duration": 10,
    "start_time": "2022-10-02T08:35:00.584Z"
   },
   {
    "duration": 7,
    "start_time": "2022-10-02T08:35:10.536Z"
   },
   {
    "duration": 111,
    "start_time": "2022-10-02T08:41:28.389Z"
   },
   {
    "duration": 91,
    "start_time": "2022-10-02T08:42:02.625Z"
   },
   {
    "duration": 64,
    "start_time": "2022-10-02T08:43:11.304Z"
   },
   {
    "duration": 57,
    "start_time": "2022-10-02T08:43:17.981Z"
   },
   {
    "duration": 5,
    "start_time": "2022-10-02T08:44:33.776Z"
   },
   {
    "duration": 5,
    "start_time": "2022-10-02T08:45:00.972Z"
   },
   {
    "duration": 5,
    "start_time": "2022-10-02T08:47:50.163Z"
   },
   {
    "duration": 5,
    "start_time": "2022-10-02T08:48:04.232Z"
   },
   {
    "duration": 6,
    "start_time": "2022-10-02T08:48:19.999Z"
   },
   {
    "duration": 6,
    "start_time": "2022-10-02T08:49:06.235Z"
   },
   {
    "duration": 46,
    "start_time": "2022-10-02T08:51:04.108Z"
   },
   {
    "duration": 9,
    "start_time": "2022-10-02T08:51:11.416Z"
   },
   {
    "duration": 56,
    "start_time": "2022-10-02T08:54:28.959Z"
   },
   {
    "duration": 177,
    "start_time": "2022-10-02T08:55:00.525Z"
   },
   {
    "duration": 44,
    "start_time": "2022-10-02T08:55:12.610Z"
   },
   {
    "duration": 7,
    "start_time": "2022-10-02T08:55:14.638Z"
   },
   {
    "duration": 40,
    "start_time": "2022-10-02T08:56:11.658Z"
   },
   {
    "duration": 10,
    "start_time": "2022-10-02T08:56:13.450Z"
   },
   {
    "duration": 428,
    "start_time": "2022-10-02T08:59:14.815Z"
   },
   {
    "duration": 33,
    "start_time": "2022-10-02T08:59:31.428Z"
   },
   {
    "duration": 50,
    "start_time": "2022-10-02T08:59:45.704Z"
   },
   {
    "duration": 22,
    "start_time": "2022-10-02T08:59:51.175Z"
   },
   {
    "duration": 7,
    "start_time": "2022-10-02T08:59:53.458Z"
   },
   {
    "duration": 6,
    "start_time": "2022-10-02T09:00:33.078Z"
   },
   {
    "duration": 6,
    "start_time": "2022-10-02T09:00:36.128Z"
   },
   {
    "duration": 42,
    "start_time": "2022-10-02T09:00:49.497Z"
   },
   {
    "duration": 6,
    "start_time": "2022-10-02T09:00:51.905Z"
   },
   {
    "duration": 5,
    "start_time": "2022-10-02T09:01:14.116Z"
   },
   {
    "duration": 1185,
    "start_time": "2022-10-02T09:01:19.288Z"
   },
   {
    "duration": 40,
    "start_time": "2022-10-02T09:01:37.069Z"
   },
   {
    "duration": 5,
    "start_time": "2022-10-02T09:01:39.883Z"
   },
   {
    "duration": 44,
    "start_time": "2022-10-02T09:02:34.988Z"
   },
   {
    "duration": 5,
    "start_time": "2022-10-02T09:02:37.492Z"
   },
   {
    "duration": 5,
    "start_time": "2022-10-02T09:02:40.707Z"
   },
   {
    "duration": 41,
    "start_time": "2022-10-02T09:02:48.274Z"
   },
   {
    "duration": 5,
    "start_time": "2022-10-02T09:02:50.330Z"
   },
   {
    "duration": 1191,
    "start_time": "2022-10-02T09:02:58.262Z"
   },
   {
    "duration": 168,
    "start_time": "2022-10-02T09:02:59.455Z"
   },
   {
    "duration": 7,
    "start_time": "2022-10-02T09:02:59.624Z"
   },
   {
    "duration": 123,
    "start_time": "2022-10-02T09:02:59.633Z"
   },
   {
    "duration": 27,
    "start_time": "2022-10-02T09:02:59.758Z"
   },
   {
    "duration": 112,
    "start_time": "2022-10-02T09:02:59.787Z"
   },
   {
    "duration": 106,
    "start_time": "2022-10-02T09:02:59.901Z"
   },
   {
    "duration": 116,
    "start_time": "2022-10-02T09:03:00.009Z"
   },
   {
    "duration": 74,
    "start_time": "2022-10-02T09:03:00.127Z"
   },
   {
    "duration": 40,
    "start_time": "2022-10-02T09:03:00.203Z"
   },
   {
    "duration": 52,
    "start_time": "2022-10-02T09:03:00.245Z"
   },
   {
    "duration": 10,
    "start_time": "2022-10-02T09:03:00.298Z"
   },
   {
    "duration": 71,
    "start_time": "2022-10-02T09:03:00.310Z"
   },
   {
    "duration": 29,
    "start_time": "2022-10-02T09:03:00.384Z"
   },
   {
    "duration": 60,
    "start_time": "2022-10-02T09:03:00.415Z"
   },
   {
    "duration": 69,
    "start_time": "2022-10-02T09:03:00.477Z"
   },
   {
    "duration": 20,
    "start_time": "2022-10-02T09:03:00.548Z"
   },
   {
    "duration": 360,
    "start_time": "2022-10-02T09:03:00.570Z"
   },
   {
    "duration": 5,
    "start_time": "2022-10-02T09:03:00.932Z"
   },
   {
    "duration": 36,
    "start_time": "2022-10-02T09:03:00.938Z"
   },
   {
    "duration": 301,
    "start_time": "2022-10-02T09:03:00.976Z"
   },
   {
    "duration": 19,
    "start_time": "2022-10-02T09:03:01.279Z"
   },
   {
    "duration": 30,
    "start_time": "2022-10-02T09:03:01.300Z"
   },
   {
    "duration": 26,
    "start_time": "2022-10-02T09:03:01.332Z"
   },
   {
    "duration": 56,
    "start_time": "2022-10-02T09:03:01.359Z"
   },
   {
    "duration": 27,
    "start_time": "2022-10-02T09:03:01.416Z"
   },
   {
    "duration": 69,
    "start_time": "2022-10-02T09:03:01.445Z"
   },
   {
    "duration": 11,
    "start_time": "2022-10-02T09:03:01.516Z"
   },
   {
    "duration": 33,
    "start_time": "2022-10-02T09:03:01.529Z"
   },
   {
    "duration": 66,
    "start_time": "2022-10-02T09:03:01.564Z"
   },
   {
    "duration": 25,
    "start_time": "2022-10-02T09:03:01.632Z"
   },
   {
    "duration": 59,
    "start_time": "2022-10-02T09:03:01.659Z"
   },
   {
    "duration": 52,
    "start_time": "2022-10-02T09:04:36.842Z"
   },
   {
    "duration": 5,
    "start_time": "2022-10-02T09:04:39.222Z"
   },
   {
    "duration": 5,
    "start_time": "2022-10-02T09:04:49.387Z"
   },
   {
    "duration": 5,
    "start_time": "2022-10-02T09:04:55.101Z"
   },
   {
    "duration": 5,
    "start_time": "2022-10-02T09:04:57.731Z"
   },
   {
    "duration": 51,
    "start_time": "2022-10-02T09:06:30.650Z"
   },
   {
    "duration": 6,
    "start_time": "2022-10-02T09:06:36.886Z"
   },
   {
    "duration": 6,
    "start_time": "2022-10-02T09:06:50.935Z"
   },
   {
    "duration": 7,
    "start_time": "2022-10-02T09:07:25.557Z"
   },
   {
    "duration": 6,
    "start_time": "2022-10-02T09:07:35.106Z"
   },
   {
    "duration": 56,
    "start_time": "2022-10-02T09:07:51.036Z"
   },
   {
    "duration": 6,
    "start_time": "2022-10-02T09:07:54.767Z"
   },
   {
    "duration": 9,
    "start_time": "2022-10-02T09:07:56.574Z"
   },
   {
    "duration": 8,
    "start_time": "2022-10-02T09:07:58.529Z"
   },
   {
    "duration": 5,
    "start_time": "2022-10-02T09:09:00.972Z"
   },
   {
    "duration": 5,
    "start_time": "2022-10-02T09:09:07.550Z"
   },
   {
    "duration": 7,
    "start_time": "2022-10-02T09:10:28.439Z"
   },
   {
    "duration": 100,
    "start_time": "2022-10-02T09:10:38.911Z"
   },
   {
    "duration": 194,
    "start_time": "2022-10-02T09:10:58.947Z"
   },
   {
    "duration": 5,
    "start_time": "2022-10-02T09:12:30.800Z"
   },
   {
    "duration": 681,
    "start_time": "2022-10-02T09:15:47.170Z"
   },
   {
    "duration": 12,
    "start_time": "2022-10-02T09:15:57.371Z"
   },
   {
    "duration": 10,
    "start_time": "2022-10-02T09:16:22.395Z"
   },
   {
    "duration": 53,
    "start_time": "2022-10-02T09:17:27.352Z"
   },
   {
    "duration": 6,
    "start_time": "2022-10-02T09:17:39.147Z"
   },
   {
    "duration": 5,
    "start_time": "2022-10-02T09:17:55.684Z"
   },
   {
    "duration": 54,
    "start_time": "2022-10-02T09:18:23.069Z"
   },
   {
    "duration": 64,
    "start_time": "2022-10-02T09:20:01.813Z"
   },
   {
    "duration": 5,
    "start_time": "2022-10-02T09:20:33.114Z"
   },
   {
    "duration": 6,
    "start_time": "2022-10-02T09:22:26.774Z"
   },
   {
    "duration": 5,
    "start_time": "2022-10-02T09:22:49.285Z"
   },
   {
    "duration": 57,
    "start_time": "2022-10-02T09:24:39.892Z"
   },
   {
    "duration": 11,
    "start_time": "2022-10-02T09:24:56.225Z"
   },
   {
    "duration": 3,
    "start_time": "2022-10-02T09:25:14.886Z"
   },
   {
    "duration": 6,
    "start_time": "2022-10-02T09:25:17.175Z"
   },
   {
    "duration": 6,
    "start_time": "2022-10-02T09:25:42.426Z"
   },
   {
    "duration": 22,
    "start_time": "2022-10-02T09:25:53.213Z"
   },
   {
    "duration": 7,
    "start_time": "2022-10-02T09:26:01.055Z"
   },
   {
    "duration": 54,
    "start_time": "2022-10-02T09:26:51.202Z"
   },
   {
    "duration": 70,
    "start_time": "2022-10-02T09:27:01.770Z"
   },
   {
    "duration": 6,
    "start_time": "2022-10-02T09:27:09.307Z"
   },
   {
    "duration": 6,
    "start_time": "2022-10-02T09:28:22.462Z"
   },
   {
    "duration": 5,
    "start_time": "2022-10-02T09:28:36.961Z"
   },
   {
    "duration": 6,
    "start_time": "2022-10-02T09:28:56.825Z"
   },
   {
    "duration": 5,
    "start_time": "2022-10-02T09:29:45.415Z"
   },
   {
    "duration": 66,
    "start_time": "2022-10-02T09:30:05.739Z"
   },
   {
    "duration": 5,
    "start_time": "2022-10-02T09:30:11.796Z"
   },
   {
    "duration": 63,
    "start_time": "2022-10-02T09:31:28.463Z"
   },
   {
    "duration": 52,
    "start_time": "2022-10-02T09:37:40.632Z"
   },
   {
    "duration": 52,
    "start_time": "2022-10-02T09:39:52.093Z"
   },
   {
    "duration": 55,
    "start_time": "2022-10-02T09:41:07.480Z"
   },
   {
    "duration": 62,
    "start_time": "2022-10-02T09:41:35.773Z"
   },
   {
    "duration": 60,
    "start_time": "2022-10-02T09:45:04.221Z"
   },
   {
    "duration": 56,
    "start_time": "2022-10-02T09:45:59.774Z"
   },
   {
    "duration": 55,
    "start_time": "2022-10-02T09:47:14.360Z"
   },
   {
    "duration": 4,
    "start_time": "2022-10-02T09:47:50.801Z"
   },
   {
    "duration": 1038,
    "start_time": "2022-10-02T09:48:20.985Z"
   },
   {
    "duration": 7,
    "start_time": "2022-10-02T09:48:26.606Z"
   },
   {
    "duration": 9,
    "start_time": "2022-10-02T09:48:31.132Z"
   },
   {
    "duration": 48,
    "start_time": "2022-10-02T09:48:51.345Z"
   },
   {
    "duration": 5,
    "start_time": "2022-10-02T09:49:14.123Z"
   },
   {
    "duration": 4,
    "start_time": "2022-10-02T09:49:18.360Z"
   },
   {
    "duration": 4,
    "start_time": "2022-10-02T09:49:27.785Z"
   },
   {
    "duration": 50,
    "start_time": "2022-10-02T09:51:26.877Z"
   },
   {
    "duration": 4,
    "start_time": "2022-10-02T09:51:39.987Z"
   },
   {
    "duration": 49,
    "start_time": "2022-10-02T09:52:35.519Z"
   },
   {
    "duration": 4,
    "start_time": "2022-10-02T09:52:40.968Z"
   },
   {
    "duration": 52,
    "start_time": "2022-10-02T09:57:06.895Z"
   },
   {
    "duration": 4,
    "start_time": "2022-10-02T09:58:15.746Z"
   },
   {
    "duration": 44,
    "start_time": "2022-10-02T09:58:52.769Z"
   },
   {
    "duration": 6,
    "start_time": "2022-10-02T09:58:56.516Z"
   },
   {
    "duration": 6,
    "start_time": "2022-10-02T09:58:58.426Z"
   },
   {
    "duration": 42,
    "start_time": "2022-10-02T09:59:10.522Z"
   },
   {
    "duration": 7,
    "start_time": "2022-10-02T09:59:13.429Z"
   },
   {
    "duration": 6,
    "start_time": "2022-10-02T09:59:16.445Z"
   },
   {
    "duration": 50,
    "start_time": "2022-10-02T10:04:41.415Z"
   },
   {
    "duration": 58,
    "start_time": "2022-10-02T10:04:55.010Z"
   },
   {
    "duration": 5,
    "start_time": "2022-10-02T10:05:24.132Z"
   },
   {
    "duration": 52,
    "start_time": "2022-10-02T10:06:30.067Z"
   },
   {
    "duration": 20,
    "start_time": "2022-10-02T10:14:56.871Z"
   },
   {
    "duration": 52,
    "start_time": "2022-10-02T10:15:19.041Z"
   },
   {
    "duration": 40,
    "start_time": "2022-10-02T10:16:18.035Z"
   },
   {
    "duration": 40,
    "start_time": "2022-10-02T10:17:07.713Z"
   },
   {
    "duration": 1272,
    "start_time": "2022-10-02T10:17:15.719Z"
   },
   {
    "duration": 171,
    "start_time": "2022-10-02T10:17:16.994Z"
   },
   {
    "duration": 9,
    "start_time": "2022-10-02T10:17:17.167Z"
   },
   {
    "duration": 109,
    "start_time": "2022-10-02T10:17:17.178Z"
   },
   {
    "duration": 36,
    "start_time": "2022-10-02T10:17:17.289Z"
   },
   {
    "duration": 104,
    "start_time": "2022-10-02T10:17:17.327Z"
   },
   {
    "duration": 108,
    "start_time": "2022-10-02T10:17:17.433Z"
   },
   {
    "duration": 114,
    "start_time": "2022-10-02T10:17:17.543Z"
   },
   {
    "duration": 77,
    "start_time": "2022-10-02T10:17:17.659Z"
   },
   {
    "duration": 28,
    "start_time": "2022-10-02T10:17:17.738Z"
   },
   {
    "duration": 54,
    "start_time": "2022-10-02T10:17:17.768Z"
   },
   {
    "duration": 9,
    "start_time": "2022-10-02T10:17:17.824Z"
   },
   {
    "duration": 45,
    "start_time": "2022-10-02T10:17:17.835Z"
   },
   {
    "duration": 12,
    "start_time": "2022-10-02T10:17:17.883Z"
   },
   {
    "duration": 7,
    "start_time": "2022-10-02T10:17:17.921Z"
   },
   {
    "duration": 48,
    "start_time": "2022-10-02T10:17:17.930Z"
   },
   {
    "duration": 13,
    "start_time": "2022-10-02T10:17:17.980Z"
   },
   {
    "duration": 373,
    "start_time": "2022-10-02T10:17:17.995Z"
   },
   {
    "duration": 6,
    "start_time": "2022-10-02T10:17:18.370Z"
   },
   {
    "duration": 8,
    "start_time": "2022-10-02T10:17:18.377Z"
   },
   {
    "duration": 331,
    "start_time": "2022-10-02T10:17:18.386Z"
   },
   {
    "duration": 17,
    "start_time": "2022-10-02T10:17:18.720Z"
   },
   {
    "duration": 13,
    "start_time": "2022-10-02T10:17:18.738Z"
   },
   {
    "duration": 18,
    "start_time": "2022-10-02T10:17:18.754Z"
   },
   {
    "duration": 63,
    "start_time": "2022-10-02T10:17:18.774Z"
   },
   {
    "duration": 40,
    "start_time": "2022-10-02T10:17:18.838Z"
   },
   {
    "duration": 86,
    "start_time": "2022-10-02T10:17:18.880Z"
   },
   {
    "duration": 13,
    "start_time": "2022-10-02T10:17:18.969Z"
   },
   {
    "duration": 17,
    "start_time": "2022-10-02T10:17:18.984Z"
   },
   {
    "duration": 191,
    "start_time": "2022-10-02T10:17:19.004Z"
   },
   {
    "duration": 0,
    "start_time": "2022-10-02T10:17:19.198Z"
   },
   {
    "duration": 0,
    "start_time": "2022-10-02T10:17:19.199Z"
   },
   {
    "duration": 0,
    "start_time": "2022-10-02T10:17:19.201Z"
   },
   {
    "duration": 0,
    "start_time": "2022-10-02T10:17:19.202Z"
   },
   {
    "duration": 0,
    "start_time": "2022-10-02T10:17:19.204Z"
   },
   {
    "duration": 39,
    "start_time": "2022-10-02T10:17:54.411Z"
   },
   {
    "duration": 6,
    "start_time": "2022-10-02T11:04:48.426Z"
   },
   {
    "duration": 8,
    "start_time": "2022-10-02T11:04:56.214Z"
   },
   {
    "duration": 10,
    "start_time": "2022-10-02T11:05:06.990Z"
   },
   {
    "duration": 21,
    "start_time": "2022-10-02T11:10:58.648Z"
   },
   {
    "duration": 32,
    "start_time": "2022-10-02T11:11:05.434Z"
   },
   {
    "duration": 35,
    "start_time": "2022-10-02T11:11:48.015Z"
   },
   {
    "duration": 5,
    "start_time": "2022-10-02T11:12:56.069Z"
   },
   {
    "duration": 9,
    "start_time": "2022-10-02T11:13:01.068Z"
   },
   {
    "duration": 1168,
    "start_time": "2022-10-02T11:13:21.171Z"
   },
   {
    "duration": 175,
    "start_time": "2022-10-02T11:13:22.341Z"
   },
   {
    "duration": 9,
    "start_time": "2022-10-02T11:13:22.518Z"
   },
   {
    "duration": 105,
    "start_time": "2022-10-02T11:13:22.529Z"
   },
   {
    "duration": 33,
    "start_time": "2022-10-02T11:13:22.636Z"
   },
   {
    "duration": 120,
    "start_time": "2022-10-02T11:13:22.671Z"
   },
   {
    "duration": 105,
    "start_time": "2022-10-02T11:13:22.792Z"
   },
   {
    "duration": 108,
    "start_time": "2022-10-02T11:13:22.899Z"
   },
   {
    "duration": 80,
    "start_time": "2022-10-02T11:13:23.008Z"
   },
   {
    "duration": 43,
    "start_time": "2022-10-02T11:13:23.091Z"
   },
   {
    "duration": 35,
    "start_time": "2022-10-02T11:13:23.136Z"
   },
   {
    "duration": 7,
    "start_time": "2022-10-02T11:13:23.172Z"
   },
   {
    "duration": 69,
    "start_time": "2022-10-02T11:13:23.181Z"
   },
   {
    "duration": 11,
    "start_time": "2022-10-02T11:13:23.252Z"
   },
   {
    "duration": 12,
    "start_time": "2022-10-02T11:13:23.265Z"
   },
   {
    "duration": 52,
    "start_time": "2022-10-02T11:13:23.278Z"
   },
   {
    "duration": 11,
    "start_time": "2022-10-02T11:13:23.332Z"
   },
   {
    "duration": 376,
    "start_time": "2022-10-02T11:13:23.344Z"
   },
   {
    "duration": 5,
    "start_time": "2022-10-02T11:13:23.722Z"
   },
   {
    "duration": 8,
    "start_time": "2022-10-02T11:13:23.729Z"
   },
   {
    "duration": 326,
    "start_time": "2022-10-02T11:13:23.739Z"
   },
   {
    "duration": 18,
    "start_time": "2022-10-02T11:13:24.067Z"
   },
   {
    "duration": 13,
    "start_time": "2022-10-02T11:13:24.088Z"
   },
   {
    "duration": 12,
    "start_time": "2022-10-02T11:13:24.121Z"
   },
   {
    "duration": 43,
    "start_time": "2022-10-02T11:13:24.135Z"
   },
   {
    "duration": 51,
    "start_time": "2022-10-02T11:13:24.180Z"
   },
   {
    "duration": 56,
    "start_time": "2022-10-02T11:13:24.233Z"
   },
   {
    "duration": 27,
    "start_time": "2022-10-02T11:13:24.293Z"
   },
   {
    "duration": 16,
    "start_time": "2022-10-02T11:13:24.322Z"
   },
   {
    "duration": 49,
    "start_time": "2022-10-02T11:13:24.340Z"
   },
   {
    "duration": 75,
    "start_time": "2022-10-02T11:13:24.390Z"
   },
   {
    "duration": 4,
    "start_time": "2022-10-02T11:13:24.467Z"
   },
   {
    "duration": 14,
    "start_time": "2022-10-02T11:13:24.473Z"
   },
   {
    "duration": 21,
    "start_time": "2022-10-02T11:13:24.490Z"
   },
   {
    "duration": 11,
    "start_time": "2022-10-02T11:13:24.514Z"
   },
   {
    "duration": 28,
    "start_time": "2022-10-02T11:17:31.226Z"
   },
   {
    "duration": 95,
    "start_time": "2022-10-02T11:17:59.042Z"
   },
   {
    "duration": 3,
    "start_time": "2022-10-02T11:18:00.813Z"
   },
   {
    "duration": 9,
    "start_time": "2022-10-02T11:18:03.103Z"
   },
   {
    "duration": 8,
    "start_time": "2022-10-02T11:18:05.406Z"
   },
   {
    "duration": 7,
    "start_time": "2022-10-02T11:18:07.756Z"
   },
   {
    "duration": 1299,
    "start_time": "2022-10-02T11:22:29.330Z"
   },
   {
    "duration": 179,
    "start_time": "2022-10-02T11:22:30.631Z"
   },
   {
    "duration": 14,
    "start_time": "2022-10-02T11:22:30.812Z"
   },
   {
    "duration": 135,
    "start_time": "2022-10-02T11:22:30.828Z"
   },
   {
    "duration": 29,
    "start_time": "2022-10-02T11:22:30.966Z"
   },
   {
    "duration": 107,
    "start_time": "2022-10-02T11:22:30.997Z"
   },
   {
    "duration": 107,
    "start_time": "2022-10-02T11:22:31.106Z"
   },
   {
    "duration": 118,
    "start_time": "2022-10-02T11:22:31.214Z"
   },
   {
    "duration": 75,
    "start_time": "2022-10-02T11:22:31.334Z"
   },
   {
    "duration": 31,
    "start_time": "2022-10-02T11:22:31.421Z"
   },
   {
    "duration": 37,
    "start_time": "2022-10-02T11:22:31.455Z"
   },
   {
    "duration": 32,
    "start_time": "2022-10-02T11:22:31.494Z"
   },
   {
    "duration": 55,
    "start_time": "2022-10-02T11:22:31.528Z"
   },
   {
    "duration": 16,
    "start_time": "2022-10-02T11:22:31.587Z"
   },
   {
    "duration": 39,
    "start_time": "2022-10-02T11:22:31.605Z"
   },
   {
    "duration": 35,
    "start_time": "2022-10-02T11:22:31.646Z"
   },
   {
    "duration": 14,
    "start_time": "2022-10-02T11:22:31.683Z"
   },
   {
    "duration": 368,
    "start_time": "2022-10-02T11:22:31.699Z"
   },
   {
    "duration": 6,
    "start_time": "2022-10-02T11:22:32.069Z"
   },
   {
    "duration": 6,
    "start_time": "2022-10-02T11:22:32.077Z"
   },
   {
    "duration": 332,
    "start_time": "2022-10-02T11:22:32.085Z"
   },
   {
    "duration": 17,
    "start_time": "2022-10-02T11:22:32.419Z"
   },
   {
    "duration": 13,
    "start_time": "2022-10-02T11:22:32.438Z"
   },
   {
    "duration": 15,
    "start_time": "2022-10-02T11:22:32.453Z"
   },
   {
    "duration": 84,
    "start_time": "2022-10-02T11:22:32.470Z"
   },
   {
    "duration": 26,
    "start_time": "2022-10-02T11:22:32.556Z"
   },
   {
    "duration": 86,
    "start_time": "2022-10-02T11:22:32.584Z"
   },
   {
    "duration": 11,
    "start_time": "2022-10-02T11:22:32.672Z"
   },
   {
    "duration": 15,
    "start_time": "2022-10-02T11:22:32.686Z"
   },
   {
    "duration": 50,
    "start_time": "2022-10-02T11:22:32.721Z"
   },
   {
    "duration": 120,
    "start_time": "2022-10-02T11:22:32.774Z"
   },
   {
    "duration": 0,
    "start_time": "2022-10-02T11:22:32.896Z"
   },
   {
    "duration": 0,
    "start_time": "2022-10-02T11:22:32.898Z"
   },
   {
    "duration": 0,
    "start_time": "2022-10-02T11:22:32.899Z"
   },
   {
    "duration": 0,
    "start_time": "2022-10-02T11:22:32.901Z"
   },
   {
    "duration": 90,
    "start_time": "2022-10-02T11:24:09.306Z"
   },
   {
    "duration": 5,
    "start_time": "2022-10-02T11:24:11.839Z"
   },
   {
    "duration": 9,
    "start_time": "2022-10-02T11:24:12.110Z"
   },
   {
    "duration": 6,
    "start_time": "2022-10-02T11:24:12.373Z"
   },
   {
    "duration": 8,
    "start_time": "2022-10-02T11:24:13.121Z"
   },
   {
    "duration": 79,
    "start_time": "2022-10-02T11:25:34.073Z"
   },
   {
    "duration": 7,
    "start_time": "2022-10-02T11:25:37.821Z"
   },
   {
    "duration": 79,
    "start_time": "2022-10-02T11:26:41.346Z"
   },
   {
    "duration": 5,
    "start_time": "2022-10-02T11:26:43.272Z"
   },
   {
    "duration": 7,
    "start_time": "2022-10-02T11:26:43.575Z"
   },
   {
    "duration": 7,
    "start_time": "2022-10-02T11:26:43.970Z"
   },
   {
    "duration": 10,
    "start_time": "2022-10-02T11:26:45.241Z"
   },
   {
    "duration": 5,
    "start_time": "2022-10-02T11:30:17.606Z"
   },
   {
    "duration": 197,
    "start_time": "2022-10-02T11:30:25.981Z"
   },
   {
    "duration": 14,
    "start_time": "2022-10-02T11:31:55.585Z"
   },
   {
    "duration": 68,
    "start_time": "2022-10-02T11:35:14.460Z"
   },
   {
    "duration": 4,
    "start_time": "2022-10-02T11:35:30.942Z"
   },
   {
    "duration": 4,
    "start_time": "2022-10-02T11:35:32.396Z"
   },
   {
    "duration": 3,
    "start_time": "2022-10-02T11:35:33.063Z"
   },
   {
    "duration": 51,
    "start_time": "2022-10-02T11:46:56.519Z"
   },
   {
    "duration": 43,
    "start_time": "2022-10-02T11:47:03.459Z"
   },
   {
    "duration": 4,
    "start_time": "2022-10-02T11:47:09.587Z"
   },
   {
    "duration": 11,
    "start_time": "2022-10-02T11:50:49.094Z"
   },
   {
    "duration": 5,
    "start_time": "2022-10-02T11:50:54.112Z"
   },
   {
    "duration": 4,
    "start_time": "2022-10-02T11:50:56.317Z"
   },
   {
    "duration": 49,
    "start_time": "2022-10-02T11:51:18.964Z"
   },
   {
    "duration": 4,
    "start_time": "2022-10-02T11:51:21.361Z"
   },
   {
    "duration": 4,
    "start_time": "2022-10-02T11:51:37.826Z"
   },
   {
    "duration": 52,
    "start_time": "2022-10-02T11:51:54.538Z"
   },
   {
    "duration": 4,
    "start_time": "2022-10-02T11:51:57.764Z"
   },
   {
    "duration": 41,
    "start_time": "2022-10-02T11:52:20.633Z"
   },
   {
    "duration": 5,
    "start_time": "2022-10-02T11:52:23.838Z"
   },
   {
    "duration": 5,
    "start_time": "2022-10-02T11:52:50.805Z"
   },
   {
    "duration": 5,
    "start_time": "2022-10-02T11:52:56.445Z"
   },
   {
    "duration": 1188,
    "start_time": "2022-10-02T11:53:04.283Z"
   },
   {
    "duration": 173,
    "start_time": "2022-10-02T11:53:05.473Z"
   },
   {
    "duration": 11,
    "start_time": "2022-10-02T11:53:05.649Z"
   },
   {
    "duration": 110,
    "start_time": "2022-10-02T11:53:05.662Z"
   },
   {
    "duration": 27,
    "start_time": "2022-10-02T11:53:05.775Z"
   },
   {
    "duration": 136,
    "start_time": "2022-10-02T11:53:05.804Z"
   },
   {
    "duration": 115,
    "start_time": "2022-10-02T11:53:05.942Z"
   },
   {
    "duration": 120,
    "start_time": "2022-10-02T11:53:06.059Z"
   },
   {
    "duration": 95,
    "start_time": "2022-10-02T11:53:06.181Z"
   },
   {
    "duration": 31,
    "start_time": "2022-10-02T11:53:06.278Z"
   },
   {
    "duration": 38,
    "start_time": "2022-10-02T11:53:06.321Z"
   },
   {
    "duration": 10,
    "start_time": "2022-10-02T11:53:06.361Z"
   },
   {
    "duration": 76,
    "start_time": "2022-10-02T11:53:06.373Z"
   },
   {
    "duration": 13,
    "start_time": "2022-10-02T11:53:06.452Z"
   },
   {
    "duration": 15,
    "start_time": "2022-10-02T11:53:06.467Z"
   },
   {
    "duration": 47,
    "start_time": "2022-10-02T11:53:06.484Z"
   },
   {
    "duration": 13,
    "start_time": "2022-10-02T11:53:06.533Z"
   },
   {
    "duration": 386,
    "start_time": "2022-10-02T11:53:06.548Z"
   },
   {
    "duration": 7,
    "start_time": "2022-10-02T11:53:06.936Z"
   },
   {
    "duration": 19,
    "start_time": "2022-10-02T11:53:06.944Z"
   },
   {
    "duration": 347,
    "start_time": "2022-10-02T11:53:06.965Z"
   },
   {
    "duration": 21,
    "start_time": "2022-10-02T11:53:07.314Z"
   },
   {
    "duration": 14,
    "start_time": "2022-10-02T11:53:07.337Z"
   },
   {
    "duration": 30,
    "start_time": "2022-10-02T11:53:07.353Z"
   },
   {
    "duration": 46,
    "start_time": "2022-10-02T11:53:07.385Z"
   },
   {
    "duration": 27,
    "start_time": "2022-10-02T11:53:07.433Z"
   },
   {
    "duration": 72,
    "start_time": "2022-10-02T11:53:07.462Z"
   },
   {
    "duration": 13,
    "start_time": "2022-10-02T11:53:07.536Z"
   },
   {
    "duration": 25,
    "start_time": "2022-10-02T11:53:07.552Z"
   },
   {
    "duration": 56,
    "start_time": "2022-10-02T11:53:07.579Z"
   },
   {
    "duration": 148,
    "start_time": "2022-10-02T11:53:07.637Z"
   },
   {
    "duration": 0,
    "start_time": "2022-10-02T11:53:07.787Z"
   },
   {
    "duration": 0,
    "start_time": "2022-10-02T11:53:07.788Z"
   },
   {
    "duration": 0,
    "start_time": "2022-10-02T11:53:07.790Z"
   },
   {
    "duration": 0,
    "start_time": "2022-10-02T11:53:07.791Z"
   },
   {
    "duration": 0,
    "start_time": "2022-10-02T11:53:07.792Z"
   },
   {
    "duration": 0,
    "start_time": "2022-10-02T11:53:07.793Z"
   },
   {
    "duration": 53,
    "start_time": "2022-10-02T11:53:27.772Z"
   },
   {
    "duration": 53,
    "start_time": "2022-10-02T11:56:29.855Z"
   },
   {
    "duration": 68,
    "start_time": "2022-10-02T12:02:26.437Z"
   },
   {
    "duration": 1195,
    "start_time": "2022-10-02T12:02:59.239Z"
   },
   {
    "duration": 184,
    "start_time": "2022-10-02T12:03:00.437Z"
   },
   {
    "duration": 14,
    "start_time": "2022-10-02T12:03:00.624Z"
   },
   {
    "duration": 142,
    "start_time": "2022-10-02T12:03:00.641Z"
   },
   {
    "duration": 27,
    "start_time": "2022-10-02T12:03:00.785Z"
   },
   {
    "duration": 118,
    "start_time": "2022-10-02T12:03:00.820Z"
   },
   {
    "duration": 105,
    "start_time": "2022-10-02T12:03:00.940Z"
   },
   {
    "duration": 122,
    "start_time": "2022-10-02T12:03:01.046Z"
   },
   {
    "duration": 82,
    "start_time": "2022-10-02T12:03:01.170Z"
   },
   {
    "duration": 30,
    "start_time": "2022-10-02T12:03:01.255Z"
   },
   {
    "duration": 56,
    "start_time": "2022-10-02T12:03:01.287Z"
   },
   {
    "duration": 10,
    "start_time": "2022-10-02T12:03:01.345Z"
   },
   {
    "duration": 74,
    "start_time": "2022-10-02T12:03:01.357Z"
   },
   {
    "duration": 11,
    "start_time": "2022-10-02T12:03:01.433Z"
   },
   {
    "duration": 26,
    "start_time": "2022-10-02T12:03:01.446Z"
   },
   {
    "duration": 48,
    "start_time": "2022-10-02T12:03:01.474Z"
   },
   {
    "duration": 12,
    "start_time": "2022-10-02T12:03:01.524Z"
   },
   {
    "duration": 388,
    "start_time": "2022-10-02T12:03:01.538Z"
   },
   {
    "duration": 6,
    "start_time": "2022-10-02T12:03:01.928Z"
   },
   {
    "duration": 29,
    "start_time": "2022-10-02T12:03:01.935Z"
   },
   {
    "duration": 352,
    "start_time": "2022-10-02T12:03:01.965Z"
   },
   {
    "duration": 18,
    "start_time": "2022-10-02T12:03:02.321Z"
   },
   {
    "duration": 20,
    "start_time": "2022-10-02T12:03:02.341Z"
   },
   {
    "duration": 37,
    "start_time": "2022-10-02T12:03:02.363Z"
   },
   {
    "duration": 41,
    "start_time": "2022-10-02T12:03:02.402Z"
   },
   {
    "duration": 28,
    "start_time": "2022-10-02T12:03:02.444Z"
   },
   {
    "duration": 77,
    "start_time": "2022-10-02T12:03:02.474Z"
   },
   {
    "duration": 10,
    "start_time": "2022-10-02T12:03:02.554Z"
   },
   {
    "duration": 25,
    "start_time": "2022-10-02T12:03:02.565Z"
   },
   {
    "duration": 45,
    "start_time": "2022-10-02T12:03:02.592Z"
   },
   {
    "duration": 177,
    "start_time": "2022-10-02T12:03:02.640Z"
   },
   {
    "duration": 0,
    "start_time": "2022-10-02T12:03:02.819Z"
   },
   {
    "duration": 0,
    "start_time": "2022-10-02T12:03:02.820Z"
   },
   {
    "duration": 0,
    "start_time": "2022-10-02T12:03:02.822Z"
   },
   {
    "duration": 0,
    "start_time": "2022-10-02T12:03:02.823Z"
   },
   {
    "duration": 0,
    "start_time": "2022-10-02T12:03:02.824Z"
   },
   {
    "duration": 0,
    "start_time": "2022-10-02T12:03:02.825Z"
   },
   {
    "duration": 1235,
    "start_time": "2022-10-02T14:41:22.210Z"
   },
   {
    "duration": 669,
    "start_time": "2022-10-02T14:41:23.447Z"
   },
   {
    "duration": 7,
    "start_time": "2022-10-02T14:41:24.117Z"
   },
   {
    "duration": 82,
    "start_time": "2022-10-02T14:41:24.125Z"
   },
   {
    "duration": 29,
    "start_time": "2022-10-02T14:41:24.208Z"
   },
   {
    "duration": 70,
    "start_time": "2022-10-02T14:41:24.238Z"
   },
   {
    "duration": 79,
    "start_time": "2022-10-02T14:41:24.321Z"
   },
   {
    "duration": 91,
    "start_time": "2022-10-02T14:41:24.402Z"
   },
   {
    "duration": 65,
    "start_time": "2022-10-02T14:41:24.494Z"
   },
   {
    "duration": 24,
    "start_time": "2022-10-02T14:41:24.561Z"
   },
   {
    "duration": 42,
    "start_time": "2022-10-02T14:41:24.587Z"
   },
   {
    "duration": 6,
    "start_time": "2022-10-02T14:41:24.631Z"
   },
   {
    "duration": 34,
    "start_time": "2022-10-02T14:41:24.638Z"
   },
   {
    "duration": 10,
    "start_time": "2022-10-02T14:41:24.673Z"
   },
   {
    "duration": 7,
    "start_time": "2022-10-02T14:41:24.684Z"
   },
   {
    "duration": 44,
    "start_time": "2022-10-02T14:41:24.692Z"
   },
   {
    "duration": 9,
    "start_time": "2022-10-02T14:41:24.738Z"
   },
   {
    "duration": 296,
    "start_time": "2022-10-02T14:41:24.748Z"
   },
   {
    "duration": 3,
    "start_time": "2022-10-02T14:41:25.046Z"
   },
   {
    "duration": 26,
    "start_time": "2022-10-02T14:41:25.050Z"
   },
   {
    "duration": 244,
    "start_time": "2022-10-02T14:41:25.077Z"
   },
   {
    "duration": 13,
    "start_time": "2022-10-02T14:41:25.323Z"
   },
   {
    "duration": 10,
    "start_time": "2022-10-02T14:41:25.338Z"
   },
   {
    "duration": 43,
    "start_time": "2022-10-02T14:41:25.350Z"
   },
   {
    "duration": 36,
    "start_time": "2022-10-02T14:41:25.395Z"
   },
   {
    "duration": 23,
    "start_time": "2022-10-02T14:41:25.433Z"
   },
   {
    "duration": 65,
    "start_time": "2022-10-02T14:41:25.457Z"
   },
   {
    "duration": 8,
    "start_time": "2022-10-02T14:41:25.525Z"
   },
   {
    "duration": 10,
    "start_time": "2022-10-02T14:41:25.534Z"
   },
   {
    "duration": 34,
    "start_time": "2022-10-02T14:41:25.545Z"
   },
   {
    "duration": 132,
    "start_time": "2022-10-02T14:41:25.580Z"
   },
   {
    "duration": 0,
    "start_time": "2022-10-02T14:41:25.714Z"
   },
   {
    "duration": 0,
    "start_time": "2022-10-02T14:41:25.715Z"
   },
   {
    "duration": 0,
    "start_time": "2022-10-02T14:41:25.722Z"
   },
   {
    "duration": 0,
    "start_time": "2022-10-02T14:41:25.723Z"
   },
   {
    "duration": 0,
    "start_time": "2022-10-02T14:41:25.725Z"
   },
   {
    "duration": 0,
    "start_time": "2022-10-02T14:41:25.726Z"
   },
   {
    "duration": 3,
    "start_time": "2022-10-02T14:45:31.996Z"
   },
   {
    "duration": 4,
    "start_time": "2022-10-02T14:45:48.414Z"
   },
   {
    "duration": 7,
    "start_time": "2022-10-02T14:46:08.254Z"
   },
   {
    "duration": 8,
    "start_time": "2022-10-02T14:46:37.883Z"
   },
   {
    "duration": 8,
    "start_time": "2022-10-02T14:47:20.112Z"
   },
   {
    "duration": 1048,
    "start_time": "2022-10-02T14:47:36.175Z"
   },
   {
    "duration": 148,
    "start_time": "2022-10-02T14:47:37.225Z"
   },
   {
    "duration": 7,
    "start_time": "2022-10-02T14:47:37.375Z"
   },
   {
    "duration": 99,
    "start_time": "2022-10-02T14:47:37.384Z"
   },
   {
    "duration": 23,
    "start_time": "2022-10-02T14:47:37.484Z"
   },
   {
    "duration": 81,
    "start_time": "2022-10-02T14:47:37.509Z"
   },
   {
    "duration": 90,
    "start_time": "2022-10-02T14:47:37.591Z"
   },
   {
    "duration": 86,
    "start_time": "2022-10-02T14:47:37.682Z"
   },
   {
    "duration": 70,
    "start_time": "2022-10-02T14:47:37.770Z"
   },
   {
    "duration": 26,
    "start_time": "2022-10-02T14:47:37.843Z"
   },
   {
    "duration": 28,
    "start_time": "2022-10-02T14:47:37.871Z"
   },
   {
    "duration": 21,
    "start_time": "2022-10-02T14:47:37.901Z"
   },
   {
    "duration": 35,
    "start_time": "2022-10-02T14:47:37.924Z"
   },
   {
    "duration": 10,
    "start_time": "2022-10-02T14:47:37.961Z"
   },
   {
    "duration": 9,
    "start_time": "2022-10-02T14:47:37.972Z"
   },
   {
    "duration": 48,
    "start_time": "2022-10-02T14:47:37.982Z"
   },
   {
    "duration": 11,
    "start_time": "2022-10-02T14:47:38.031Z"
   },
   {
    "duration": 295,
    "start_time": "2022-10-02T14:47:38.043Z"
   },
   {
    "duration": 4,
    "start_time": "2022-10-02T14:47:38.340Z"
   },
   {
    "duration": 5,
    "start_time": "2022-10-02T14:47:38.345Z"
   },
   {
    "duration": 257,
    "start_time": "2022-10-02T14:47:38.351Z"
   },
   {
    "duration": 20,
    "start_time": "2022-10-02T14:47:38.610Z"
   },
   {
    "duration": 10,
    "start_time": "2022-10-02T14:47:38.631Z"
   },
   {
    "duration": 12,
    "start_time": "2022-10-02T14:47:38.642Z"
   },
   {
    "duration": 31,
    "start_time": "2022-10-02T14:47:38.655Z"
   },
   {
    "duration": 34,
    "start_time": "2022-10-02T14:47:38.688Z"
   },
   {
    "duration": 53,
    "start_time": "2022-10-02T14:47:38.724Z"
   },
   {
    "duration": 9,
    "start_time": "2022-10-02T14:47:38.780Z"
   },
   {
    "duration": 14,
    "start_time": "2022-10-02T14:47:38.791Z"
   },
   {
    "duration": 45,
    "start_time": "2022-10-02T14:47:38.821Z"
   },
   {
    "duration": 126,
    "start_time": "2022-10-02T14:47:38.868Z"
   },
   {
    "duration": 0,
    "start_time": "2022-10-02T14:47:38.995Z"
   },
   {
    "duration": 0,
    "start_time": "2022-10-02T14:47:38.996Z"
   },
   {
    "duration": 0,
    "start_time": "2022-10-02T14:47:38.997Z"
   },
   {
    "duration": 0,
    "start_time": "2022-10-02T14:47:38.998Z"
   },
   {
    "duration": 0,
    "start_time": "2022-10-02T14:47:38.999Z"
   },
   {
    "duration": 1,
    "start_time": "2022-10-02T14:47:39.000Z"
   },
   {
    "duration": 0,
    "start_time": "2022-10-02T14:47:39.001Z"
   },
   {
    "duration": 56,
    "start_time": "2022-10-02T14:48:20.745Z"
   },
   {
    "duration": 45,
    "start_time": "2022-10-02T14:49:27.262Z"
   },
   {
    "duration": 43,
    "start_time": "2022-10-02T14:49:35.569Z"
   },
   {
    "duration": 38,
    "start_time": "2022-10-02T14:50:09.549Z"
   },
   {
    "duration": 84,
    "start_time": "2022-10-02T15:26:47.804Z"
   },
   {
    "duration": 66,
    "start_time": "2022-10-02T15:27:24.381Z"
   },
   {
    "duration": 69,
    "start_time": "2022-10-02T15:27:31.543Z"
   },
   {
    "duration": 3,
    "start_time": "2022-10-02T16:02:04.266Z"
   },
   {
    "duration": 23,
    "start_time": "2022-10-02T16:02:58.625Z"
   },
   {
    "duration": 24,
    "start_time": "2022-10-02T16:03:12.447Z"
   },
   {
    "duration": 37,
    "start_time": "2022-10-02T16:06:41.288Z"
   },
   {
    "duration": 99,
    "start_time": "2022-10-02T16:08:49.518Z"
   },
   {
    "duration": 70,
    "start_time": "2022-10-02T16:09:02.314Z"
   },
   {
    "duration": 44,
    "start_time": "2022-10-02T16:09:05.360Z"
   },
   {
    "duration": 38,
    "start_time": "2022-10-02T16:09:38.875Z"
   },
   {
    "duration": 74,
    "start_time": "2022-10-02T16:12:03.857Z"
   },
   {
    "duration": 7,
    "start_time": "2022-10-02T16:12:13.318Z"
   },
   {
    "duration": 7,
    "start_time": "2022-10-02T16:13:01.264Z"
   },
   {
    "duration": 71,
    "start_time": "2022-10-02T16:14:56.710Z"
   },
   {
    "duration": 82,
    "start_time": "2022-10-02T16:15:08.291Z"
   },
   {
    "duration": 67,
    "start_time": "2022-10-02T16:16:07.177Z"
   },
   {
    "duration": 69,
    "start_time": "2022-10-02T16:16:16.746Z"
   },
   {
    "duration": 90,
    "start_time": "2022-10-02T16:24:09.963Z"
   },
   {
    "duration": 6,
    "start_time": "2022-10-02T16:24:12.925Z"
   },
   {
    "duration": 6,
    "start_time": "2022-10-02T16:24:17.655Z"
   },
   {
    "duration": 74,
    "start_time": "2022-10-02T16:24:30.573Z"
   },
   {
    "duration": 75,
    "start_time": "2022-10-02T16:24:53.401Z"
   },
   {
    "duration": 71,
    "start_time": "2022-10-02T16:25:05.172Z"
   },
   {
    "duration": 80,
    "start_time": "2022-10-02T16:25:46.940Z"
   },
   {
    "duration": 82,
    "start_time": "2022-10-02T16:25:52.018Z"
   },
   {
    "duration": 3,
    "start_time": "2022-10-02T16:31:01.430Z"
   },
   {
    "duration": 71,
    "start_time": "2022-10-02T16:48:45.486Z"
   },
   {
    "duration": 68,
    "start_time": "2022-10-02T16:48:58.793Z"
   },
   {
    "duration": 75,
    "start_time": "2022-10-02T16:49:42.501Z"
   },
   {
    "duration": 18,
    "start_time": "2022-10-02T16:52:38.070Z"
   },
   {
    "duration": 33,
    "start_time": "2022-10-02T16:54:49.790Z"
   },
   {
    "duration": 32,
    "start_time": "2022-10-02T16:54:56.258Z"
   },
   {
    "duration": 942,
    "start_time": "2022-10-02T16:56:03.232Z"
   },
   {
    "duration": 35,
    "start_time": "2022-10-02T16:56:20.824Z"
   },
   {
    "duration": 34,
    "start_time": "2022-10-02T16:56:29.186Z"
   },
   {
    "duration": 48,
    "start_time": "2022-10-02T16:57:43.038Z"
   },
   {
    "duration": 1245,
    "start_time": "2022-10-02T16:58:37.742Z"
   },
   {
    "duration": 95,
    "start_time": "2022-10-02T17:11:26.904Z"
   },
   {
    "duration": 103,
    "start_time": "2022-10-02T17:21:08.492Z"
   },
   {
    "duration": 5,
    "start_time": "2022-10-02T17:22:36.470Z"
   },
   {
    "duration": 6,
    "start_time": "2022-10-02T17:22:54.997Z"
   },
   {
    "duration": 1208,
    "start_time": "2022-10-02T17:23:34.044Z"
   },
   {
    "duration": 6,
    "start_time": "2022-10-02T17:26:36.575Z"
   },
   {
    "duration": 1227,
    "start_time": "2022-10-02T17:34:39.945Z"
   },
   {
    "duration": 140,
    "start_time": "2022-10-02T17:34:41.174Z"
   },
   {
    "duration": 9,
    "start_time": "2022-10-02T17:34:41.315Z"
   },
   {
    "duration": 84,
    "start_time": "2022-10-02T17:34:41.324Z"
   },
   {
    "duration": 29,
    "start_time": "2022-10-02T17:34:41.410Z"
   },
   {
    "duration": 70,
    "start_time": "2022-10-02T17:34:41.440Z"
   },
   {
    "duration": 103,
    "start_time": "2022-10-02T17:34:41.512Z"
   },
   {
    "duration": 90,
    "start_time": "2022-10-02T17:34:41.616Z"
   },
   {
    "duration": 73,
    "start_time": "2022-10-02T17:34:41.708Z"
   },
   {
    "duration": 23,
    "start_time": "2022-10-02T17:34:41.782Z"
   },
   {
    "duration": 40,
    "start_time": "2022-10-02T17:34:41.806Z"
   },
   {
    "duration": 6,
    "start_time": "2022-10-02T17:34:41.847Z"
   },
   {
    "duration": 35,
    "start_time": "2022-10-02T17:34:41.855Z"
   },
   {
    "duration": 33,
    "start_time": "2022-10-02T17:34:41.894Z"
   },
   {
    "duration": 9,
    "start_time": "2022-10-02T17:34:41.928Z"
   },
   {
    "duration": 25,
    "start_time": "2022-10-02T17:34:41.938Z"
   },
   {
    "duration": 10,
    "start_time": "2022-10-02T17:34:41.965Z"
   },
   {
    "duration": 307,
    "start_time": "2022-10-02T17:34:41.976Z"
   },
   {
    "duration": 5,
    "start_time": "2022-10-02T17:34:42.284Z"
   },
   {
    "duration": 8,
    "start_time": "2022-10-02T17:34:42.291Z"
   },
   {
    "duration": 256,
    "start_time": "2022-10-02T17:34:42.301Z"
   },
   {
    "duration": 14,
    "start_time": "2022-10-02T17:34:42.559Z"
   },
   {
    "duration": 9,
    "start_time": "2022-10-02T17:34:42.575Z"
   },
   {
    "duration": 11,
    "start_time": "2022-10-02T17:34:42.585Z"
   },
   {
    "duration": 45,
    "start_time": "2022-10-02T17:34:42.597Z"
   },
   {
    "duration": 21,
    "start_time": "2022-10-02T17:34:42.643Z"
   },
   {
    "duration": 60,
    "start_time": "2022-10-02T17:34:42.665Z"
   },
   {
    "duration": 8,
    "start_time": "2022-10-02T17:34:42.726Z"
   },
   {
    "duration": 11,
    "start_time": "2022-10-02T17:34:42.735Z"
   },
   {
    "duration": 31,
    "start_time": "2022-10-02T17:34:42.748Z"
   },
   {
    "duration": 114,
    "start_time": "2022-10-02T17:34:42.780Z"
   },
   {
    "duration": 6,
    "start_time": "2022-10-02T17:34:42.895Z"
   },
   {
    "duration": 21,
    "start_time": "2022-10-02T17:34:42.902Z"
   },
   {
    "duration": 7,
    "start_time": "2022-10-02T17:34:42.924Z"
   },
   {
    "duration": 1328,
    "start_time": "2022-10-03T16:37:45.836Z"
   },
   {
    "duration": 512,
    "start_time": "2022-10-03T16:37:47.166Z"
   },
   {
    "duration": 8,
    "start_time": "2022-10-03T16:37:47.680Z"
   },
   {
    "duration": 110,
    "start_time": "2022-10-03T16:37:47.690Z"
   },
   {
    "duration": 29,
    "start_time": "2022-10-03T16:37:47.802Z"
   },
   {
    "duration": 103,
    "start_time": "2022-10-03T16:37:47.833Z"
   },
   {
    "duration": 98,
    "start_time": "2022-10-03T16:37:47.938Z"
   },
   {
    "duration": 99,
    "start_time": "2022-10-03T16:37:48.038Z"
   },
   {
    "duration": 70,
    "start_time": "2022-10-03T16:37:48.139Z"
   },
   {
    "duration": 28,
    "start_time": "2022-10-03T16:37:48.220Z"
   },
   {
    "duration": 34,
    "start_time": "2022-10-03T16:37:48.250Z"
   },
   {
    "duration": 7,
    "start_time": "2022-10-03T16:37:48.286Z"
   },
   {
    "duration": 65,
    "start_time": "2022-10-03T16:37:48.294Z"
   },
   {
    "duration": 10,
    "start_time": "2022-10-03T16:37:48.361Z"
   },
   {
    "duration": 31,
    "start_time": "2022-10-03T16:37:48.372Z"
   },
   {
    "duration": 37,
    "start_time": "2022-10-03T16:37:48.405Z"
   },
   {
    "duration": 14,
    "start_time": "2022-10-03T16:37:48.444Z"
   },
   {
    "duration": 352,
    "start_time": "2022-10-03T16:37:48.460Z"
   },
   {
    "duration": 10,
    "start_time": "2022-10-03T16:37:48.813Z"
   },
   {
    "duration": 49,
    "start_time": "2022-10-03T16:37:48.824Z"
   },
   {
    "duration": 428,
    "start_time": "2022-10-03T16:37:48.875Z"
   },
   {
    "duration": 22,
    "start_time": "2022-10-03T16:37:49.305Z"
   },
   {
    "duration": 12,
    "start_time": "2022-10-03T16:37:49.329Z"
   },
   {
    "duration": 26,
    "start_time": "2022-10-03T16:37:49.342Z"
   },
   {
    "duration": 40,
    "start_time": "2022-10-03T16:37:49.370Z"
   },
   {
    "duration": 28,
    "start_time": "2022-10-03T16:37:49.412Z"
   },
   {
    "duration": 54,
    "start_time": "2022-10-03T16:37:49.442Z"
   },
   {
    "duration": 29,
    "start_time": "2022-10-03T16:37:49.499Z"
   },
   {
    "duration": 28,
    "start_time": "2022-10-03T16:37:49.530Z"
   },
   {
    "duration": 65,
    "start_time": "2022-10-03T16:37:49.561Z"
   },
   {
    "duration": 117,
    "start_time": "2022-10-03T16:37:49.628Z"
   },
   {
    "duration": 7,
    "start_time": "2022-10-03T16:37:49.747Z"
   },
   {
    "duration": 16,
    "start_time": "2022-10-03T16:37:49.755Z"
   },
   {
    "duration": 22,
    "start_time": "2022-10-03T16:37:49.773Z"
   },
   {
    "duration": 121,
    "start_time": "2022-10-03T16:37:58.256Z"
   },
   {
    "duration": 10,
    "start_time": "2022-10-03T16:38:14.219Z"
   },
   {
    "duration": 9,
    "start_time": "2022-10-03T16:38:21.509Z"
   },
   {
    "duration": 10,
    "start_time": "2022-10-03T16:38:54.769Z"
   },
   {
    "duration": 34,
    "start_time": "2022-10-03T16:52:42.223Z"
   },
   {
    "duration": 49,
    "start_time": "2022-10-03T16:52:48.933Z"
   },
   {
    "duration": 18,
    "start_time": "2022-10-03T16:54:04.979Z"
   },
   {
    "duration": 1273,
    "start_time": "2022-10-03T16:54:44.078Z"
   },
   {
    "duration": 167,
    "start_time": "2022-10-03T16:54:45.353Z"
   },
   {
    "duration": 9,
    "start_time": "2022-10-03T16:54:45.522Z"
   },
   {
    "duration": 99,
    "start_time": "2022-10-03T16:54:45.533Z"
   },
   {
    "duration": 28,
    "start_time": "2022-10-03T16:54:45.634Z"
   },
   {
    "duration": 100,
    "start_time": "2022-10-03T16:54:45.664Z"
   },
   {
    "duration": 109,
    "start_time": "2022-10-03T16:54:45.766Z"
   },
   {
    "duration": 104,
    "start_time": "2022-10-03T16:54:45.877Z"
   },
   {
    "duration": 77,
    "start_time": "2022-10-03T16:54:45.983Z"
   },
   {
    "duration": 28,
    "start_time": "2022-10-03T16:54:46.063Z"
   },
   {
    "duration": 50,
    "start_time": "2022-10-03T16:54:46.092Z"
   },
   {
    "duration": 8,
    "start_time": "2022-10-03T16:54:46.143Z"
   },
   {
    "duration": 41,
    "start_time": "2022-10-03T16:54:46.152Z"
   },
   {
    "duration": 28,
    "start_time": "2022-10-03T16:54:46.195Z"
   },
   {
    "duration": 8,
    "start_time": "2022-10-03T16:54:46.224Z"
   },
   {
    "duration": 29,
    "start_time": "2022-10-03T16:54:46.233Z"
   },
   {
    "duration": 17,
    "start_time": "2022-10-03T16:54:46.263Z"
   },
   {
    "duration": 407,
    "start_time": "2022-10-03T16:54:46.282Z"
   },
   {
    "duration": 6,
    "start_time": "2022-10-03T16:54:46.691Z"
   },
   {
    "duration": 8,
    "start_time": "2022-10-03T16:54:46.699Z"
   },
   {
    "duration": 317,
    "start_time": "2022-10-03T16:54:46.721Z"
   },
   {
    "duration": 17,
    "start_time": "2022-10-03T16:54:47.040Z"
   },
   {
    "duration": 18,
    "start_time": "2022-10-03T16:54:47.058Z"
   },
   {
    "duration": 13,
    "start_time": "2022-10-03T16:54:47.077Z"
   },
   {
    "duration": 58,
    "start_time": "2022-10-03T16:54:47.092Z"
   },
   {
    "duration": 27,
    "start_time": "2022-10-03T16:54:47.152Z"
   },
   {
    "duration": 71,
    "start_time": "2022-10-03T16:54:47.181Z"
   },
   {
    "duration": 12,
    "start_time": "2022-10-03T16:54:47.257Z"
   },
   {
    "duration": 11,
    "start_time": "2022-10-03T16:54:47.271Z"
   },
   {
    "duration": 39,
    "start_time": "2022-10-03T16:54:47.284Z"
   },
   {
    "duration": 170,
    "start_time": "2022-10-03T16:54:47.325Z"
   },
   {
    "duration": 0,
    "start_time": "2022-10-03T16:54:47.497Z"
   },
   {
    "duration": 0,
    "start_time": "2022-10-03T16:54:47.499Z"
   },
   {
    "duration": 0,
    "start_time": "2022-10-03T16:54:47.501Z"
   },
   {
    "duration": 0,
    "start_time": "2022-10-03T16:54:47.503Z"
   },
   {
    "duration": 15,
    "start_time": "2022-10-03T16:57:17.700Z"
   },
   {
    "duration": 17,
    "start_time": "2022-10-03T16:57:35.264Z"
   },
   {
    "duration": 124,
    "start_time": "2022-10-03T16:57:46.742Z"
   },
   {
    "duration": 11,
    "start_time": "2022-10-03T16:57:49.749Z"
   },
   {
    "duration": 11,
    "start_time": "2022-10-03T16:57:50.646Z"
   },
   {
    "duration": 5,
    "start_time": "2022-10-03T16:58:19.397Z"
   },
   {
    "duration": 4,
    "start_time": "2022-10-03T16:58:47.199Z"
   },
   {
    "duration": 8,
    "start_time": "2022-10-03T16:59:20.964Z"
   },
   {
    "duration": 6,
    "start_time": "2022-10-03T17:03:46.873Z"
   },
   {
    "duration": 4,
    "start_time": "2022-10-03T17:06:05.084Z"
   },
   {
    "duration": 33,
    "start_time": "2022-10-03T17:06:12.201Z"
   },
   {
    "duration": 10,
    "start_time": "2022-10-03T17:06:20.719Z"
   },
   {
    "duration": 12,
    "start_time": "2022-10-03T17:06:27.496Z"
   },
   {
    "duration": 12,
    "start_time": "2022-10-03T17:06:33.412Z"
   },
   {
    "duration": 24,
    "start_time": "2022-10-03T17:16:48.653Z"
   },
   {
    "duration": 13,
    "start_time": "2022-10-03T17:17:13.207Z"
   },
   {
    "duration": 19,
    "start_time": "2022-10-03T17:17:50.013Z"
   },
   {
    "duration": 16,
    "start_time": "2022-10-03T17:18:06.894Z"
   },
   {
    "duration": 18,
    "start_time": "2022-10-03T17:18:27.222Z"
   },
   {
    "duration": 9,
    "start_time": "2022-10-03T17:21:12.103Z"
   },
   {
    "duration": 144,
    "start_time": "2022-10-03T17:21:26.426Z"
   },
   {
    "duration": 8,
    "start_time": "2022-10-03T17:49:50.648Z"
   },
   {
    "duration": 7,
    "start_time": "2022-10-03T17:50:18.980Z"
   },
   {
    "duration": 1272,
    "start_time": "2022-10-03T18:04:42.209Z"
   },
   {
    "duration": 183,
    "start_time": "2022-10-03T18:04:43.483Z"
   },
   {
    "duration": 8,
    "start_time": "2022-10-03T18:04:43.668Z"
   },
   {
    "duration": 114,
    "start_time": "2022-10-03T18:04:43.679Z"
   },
   {
    "duration": 38,
    "start_time": "2022-10-03T18:04:43.795Z"
   },
   {
    "duration": 109,
    "start_time": "2022-10-03T18:04:43.836Z"
   },
   {
    "duration": 110,
    "start_time": "2022-10-03T18:04:43.947Z"
   },
   {
    "duration": 117,
    "start_time": "2022-10-03T18:04:44.060Z"
   },
   {
    "duration": 84,
    "start_time": "2022-10-03T18:04:44.179Z"
   },
   {
    "duration": 30,
    "start_time": "2022-10-03T18:04:44.267Z"
   },
   {
    "duration": 60,
    "start_time": "2022-10-03T18:04:44.300Z"
   },
   {
    "duration": 11,
    "start_time": "2022-10-03T18:04:44.362Z"
   },
   {
    "duration": 72,
    "start_time": "2022-10-03T18:04:44.375Z"
   },
   {
    "duration": 12,
    "start_time": "2022-10-03T18:04:44.448Z"
   },
   {
    "duration": 10,
    "start_time": "2022-10-03T18:04:44.462Z"
   },
   {
    "duration": 53,
    "start_time": "2022-10-03T18:04:44.474Z"
   },
   {
    "duration": 12,
    "start_time": "2022-10-03T18:04:44.529Z"
   },
   {
    "duration": 390,
    "start_time": "2022-10-03T18:04:44.543Z"
   },
   {
    "duration": 5,
    "start_time": "2022-10-03T18:04:44.935Z"
   },
   {
    "duration": 13,
    "start_time": "2022-10-03T18:04:44.942Z"
   },
   {
    "duration": 326,
    "start_time": "2022-10-03T18:04:44.957Z"
   },
   {
    "duration": 17,
    "start_time": "2022-10-03T18:04:45.284Z"
   },
   {
    "duration": 24,
    "start_time": "2022-10-03T18:04:45.303Z"
   },
   {
    "duration": 28,
    "start_time": "2022-10-03T18:04:45.328Z"
   },
   {
    "duration": 46,
    "start_time": "2022-10-03T18:04:45.358Z"
   },
   {
    "duration": 27,
    "start_time": "2022-10-03T18:04:45.406Z"
   },
   {
    "duration": 58,
    "start_time": "2022-10-03T18:04:45.434Z"
   },
   {
    "duration": 29,
    "start_time": "2022-10-03T18:04:45.496Z"
   },
   {
    "duration": 26,
    "start_time": "2022-10-03T18:04:45.526Z"
   },
   {
    "duration": 124,
    "start_time": "2022-10-03T18:04:45.554Z"
   },
   {
    "duration": 11,
    "start_time": "2022-10-03T18:04:45.680Z"
   },
   {
    "duration": 25,
    "start_time": "2022-10-03T18:04:45.692Z"
   },
   {
    "duration": 30,
    "start_time": "2022-10-03T18:04:45.719Z"
   },
   {
    "duration": 1131,
    "start_time": "2022-10-03T18:43:34.403Z"
   },
   {
    "duration": 987,
    "start_time": "2022-10-03T18:43:35.536Z"
   },
   {
    "duration": 8,
    "start_time": "2022-10-03T18:43:36.524Z"
   },
   {
    "duration": 107,
    "start_time": "2022-10-03T18:43:36.535Z"
   },
   {
    "duration": 34,
    "start_time": "2022-10-03T18:43:36.644Z"
   },
   {
    "duration": 86,
    "start_time": "2022-10-03T18:43:36.680Z"
   },
   {
    "duration": 91,
    "start_time": "2022-10-03T18:43:36.767Z"
   },
   {
    "duration": 97,
    "start_time": "2022-10-03T18:43:36.859Z"
   },
   {
    "duration": 66,
    "start_time": "2022-10-03T18:43:36.958Z"
   },
   {
    "duration": 24,
    "start_time": "2022-10-03T18:43:37.027Z"
   },
   {
    "duration": 51,
    "start_time": "2022-10-03T18:43:37.052Z"
   },
   {
    "duration": 14,
    "start_time": "2022-10-03T18:43:37.105Z"
   },
   {
    "duration": 73,
    "start_time": "2022-10-03T18:43:37.121Z"
   },
   {
    "duration": 10,
    "start_time": "2022-10-03T18:43:37.196Z"
   },
   {
    "duration": 14,
    "start_time": "2022-10-03T18:43:37.207Z"
   },
   {
    "duration": 47,
    "start_time": "2022-10-03T18:43:37.223Z"
   },
   {
    "duration": 10,
    "start_time": "2022-10-03T18:43:37.272Z"
   },
   {
    "duration": 317,
    "start_time": "2022-10-03T18:43:37.283Z"
   },
   {
    "duration": 5,
    "start_time": "2022-10-03T18:43:37.601Z"
   },
   {
    "duration": 15,
    "start_time": "2022-10-03T18:43:37.607Z"
   },
   {
    "duration": 296,
    "start_time": "2022-10-03T18:43:37.624Z"
   },
   {
    "duration": 14,
    "start_time": "2022-10-03T18:43:37.922Z"
   },
   {
    "duration": 31,
    "start_time": "2022-10-03T18:43:37.937Z"
   },
   {
    "duration": 38,
    "start_time": "2022-10-03T18:43:37.969Z"
   },
   {
    "duration": 36,
    "start_time": "2022-10-03T18:43:38.008Z"
   },
   {
    "duration": 22,
    "start_time": "2022-10-03T18:43:38.045Z"
   },
   {
    "duration": 60,
    "start_time": "2022-10-03T18:43:38.068Z"
   },
   {
    "duration": 8,
    "start_time": "2022-10-03T18:43:38.132Z"
   },
   {
    "duration": 33,
    "start_time": "2022-10-03T18:43:38.141Z"
   },
   {
    "duration": 103,
    "start_time": "2022-10-03T18:43:38.175Z"
   },
   {
    "duration": 10,
    "start_time": "2022-10-03T18:43:38.280Z"
   },
   {
    "duration": 21,
    "start_time": "2022-10-03T18:43:38.292Z"
   },
   {
    "duration": 29,
    "start_time": "2022-10-03T18:43:38.314Z"
   },
   {
    "duration": 1309,
    "start_time": "2022-10-03T19:14:35.648Z"
   },
   {
    "duration": 0,
    "start_time": "2022-10-03T19:14:37.016Z"
   },
   {
    "duration": 0,
    "start_time": "2022-10-03T19:14:37.017Z"
   },
   {
    "duration": 0,
    "start_time": "2022-10-03T19:14:37.019Z"
   },
   {
    "duration": 0,
    "start_time": "2022-10-03T19:14:37.020Z"
   },
   {
    "duration": 1,
    "start_time": "2022-10-03T19:14:37.020Z"
   },
   {
    "duration": 0,
    "start_time": "2022-10-03T19:14:37.022Z"
   },
   {
    "duration": 0,
    "start_time": "2022-10-03T19:14:37.033Z"
   },
   {
    "duration": 0,
    "start_time": "2022-10-03T19:14:37.035Z"
   },
   {
    "duration": 0,
    "start_time": "2022-10-03T19:14:37.036Z"
   },
   {
    "duration": 0,
    "start_time": "2022-10-03T19:14:37.037Z"
   },
   {
    "duration": 0,
    "start_time": "2022-10-03T19:14:37.039Z"
   },
   {
    "duration": 0,
    "start_time": "2022-10-03T19:14:37.039Z"
   },
   {
    "duration": 0,
    "start_time": "2022-10-03T19:14:37.041Z"
   },
   {
    "duration": 0,
    "start_time": "2022-10-03T19:14:37.042Z"
   },
   {
    "duration": 0,
    "start_time": "2022-10-03T19:14:37.043Z"
   },
   {
    "duration": 0,
    "start_time": "2022-10-03T19:14:37.044Z"
   },
   {
    "duration": 0,
    "start_time": "2022-10-03T19:14:37.045Z"
   },
   {
    "duration": 0,
    "start_time": "2022-10-03T19:14:37.046Z"
   },
   {
    "duration": 0,
    "start_time": "2022-10-03T19:14:37.048Z"
   },
   {
    "duration": 0,
    "start_time": "2022-10-03T19:14:37.048Z"
   },
   {
    "duration": 0,
    "start_time": "2022-10-03T19:14:37.049Z"
   },
   {
    "duration": 0,
    "start_time": "2022-10-03T19:14:37.050Z"
   },
   {
    "duration": 0,
    "start_time": "2022-10-03T19:14:37.051Z"
   },
   {
    "duration": 0,
    "start_time": "2022-10-03T19:14:37.052Z"
   },
   {
    "duration": 0,
    "start_time": "2022-10-03T19:14:37.053Z"
   },
   {
    "duration": 0,
    "start_time": "2022-10-03T19:14:37.054Z"
   },
   {
    "duration": 0,
    "start_time": "2022-10-03T19:14:37.055Z"
   },
   {
    "duration": 0,
    "start_time": "2022-10-03T19:14:37.057Z"
   },
   {
    "duration": 0,
    "start_time": "2022-10-03T19:14:37.058Z"
   },
   {
    "duration": 0,
    "start_time": "2022-10-03T19:14:37.058Z"
   },
   {
    "duration": 0,
    "start_time": "2022-10-03T19:14:37.059Z"
   },
   {
    "duration": 0,
    "start_time": "2022-10-03T19:14:37.060Z"
   },
   {
    "duration": 56,
    "start_time": "2022-10-03T19:15:13.493Z"
   },
   {
    "duration": 1142,
    "start_time": "2022-10-03T19:15:52.814Z"
   },
   {
    "duration": 528,
    "start_time": "2022-10-03T19:15:53.958Z"
   },
   {
    "duration": 7,
    "start_time": "2022-10-03T19:15:54.488Z"
   },
   {
    "duration": 91,
    "start_time": "2022-10-03T19:15:54.497Z"
   },
   {
    "duration": 29,
    "start_time": "2022-10-03T19:15:54.589Z"
   },
   {
    "duration": 92,
    "start_time": "2022-10-03T19:15:54.619Z"
   },
   {
    "duration": 102,
    "start_time": "2022-10-03T19:15:54.712Z"
   },
   {
    "duration": 99,
    "start_time": "2022-10-03T19:15:54.816Z"
   },
   {
    "duration": 72,
    "start_time": "2022-10-03T19:15:54.917Z"
   },
   {
    "duration": 26,
    "start_time": "2022-10-03T19:15:54.991Z"
   },
   {
    "duration": 47,
    "start_time": "2022-10-03T19:15:55.019Z"
   },
   {
    "duration": 8,
    "start_time": "2022-10-03T19:15:55.068Z"
   },
   {
    "duration": 58,
    "start_time": "2022-10-03T19:15:55.078Z"
   },
   {
    "duration": 11,
    "start_time": "2022-10-03T19:15:55.138Z"
   },
   {
    "duration": 8,
    "start_time": "2022-10-03T19:15:55.151Z"
   },
   {
    "duration": 26,
    "start_time": "2022-10-03T19:15:55.161Z"
   },
   {
    "duration": 10,
    "start_time": "2022-10-03T19:15:55.189Z"
   },
   {
    "duration": 361,
    "start_time": "2022-10-03T19:15:55.201Z"
   },
   {
    "duration": 6,
    "start_time": "2022-10-03T19:15:55.564Z"
   },
   {
    "duration": 5,
    "start_time": "2022-10-03T19:15:55.571Z"
   },
   {
    "duration": 285,
    "start_time": "2022-10-03T19:15:55.578Z"
   },
   {
    "duration": 16,
    "start_time": "2022-10-03T19:15:55.865Z"
   },
   {
    "duration": 14,
    "start_time": "2022-10-03T19:15:55.883Z"
   },
   {
    "duration": 11,
    "start_time": "2022-10-03T19:15:55.898Z"
   },
   {
    "duration": 55,
    "start_time": "2022-10-03T19:15:55.910Z"
   },
   {
    "duration": 24,
    "start_time": "2022-10-03T19:15:55.967Z"
   },
   {
    "duration": 67,
    "start_time": "2022-10-03T19:15:55.993Z"
   },
   {
    "duration": 8,
    "start_time": "2022-10-03T19:15:56.064Z"
   },
   {
    "duration": 9,
    "start_time": "2022-10-03T19:15:56.073Z"
   },
   {
    "duration": 243,
    "start_time": "2022-10-03T19:15:56.083Z"
   },
   {
    "duration": 0,
    "start_time": "2022-10-03T19:15:56.328Z"
   },
   {
    "duration": 0,
    "start_time": "2022-10-03T19:15:56.334Z"
   },
   {
    "duration": 0,
    "start_time": "2022-10-03T19:15:56.336Z"
   },
   {
    "duration": 49,
    "start_time": "2022-10-03T19:17:05.984Z"
   },
   {
    "duration": 76,
    "start_time": "2022-10-03T19:19:29.267Z"
   },
   {
    "duration": 85,
    "start_time": "2022-10-03T19:19:36.961Z"
   },
   {
    "duration": 47,
    "start_time": "2022-10-03T19:19:51.576Z"
   },
   {
    "duration": 83,
    "start_time": "2022-10-03T19:20:00.174Z"
   },
   {
    "duration": 78,
    "start_time": "2022-10-03T19:20:05.733Z"
   },
   {
    "duration": 78,
    "start_time": "2022-10-03T19:20:21.035Z"
   },
   {
    "duration": 110,
    "start_time": "2022-10-03T19:20:26.246Z"
   },
   {
    "duration": 12,
    "start_time": "2022-10-03T19:23:37.171Z"
   },
   {
    "duration": 12,
    "start_time": "2022-10-03T19:24:42.643Z"
   },
   {
    "duration": 13,
    "start_time": "2022-10-03T19:25:04.034Z"
   },
   {
    "duration": 10,
    "start_time": "2022-10-03T19:26:16.604Z"
   },
   {
    "duration": 19,
    "start_time": "2022-10-03T19:30:23.470Z"
   },
   {
    "duration": 23,
    "start_time": "2022-10-03T19:31:45.296Z"
   },
   {
    "duration": 4,
    "start_time": "2022-10-03T19:33:21.485Z"
   },
   {
    "duration": 3,
    "start_time": "2022-10-03T19:33:29.842Z"
   },
   {
    "duration": 36,
    "start_time": "2022-10-03T19:33:34.163Z"
   },
   {
    "duration": 3,
    "start_time": "2022-10-03T19:34:07.557Z"
   },
   {
    "duration": 35,
    "start_time": "2022-10-03T19:34:19.748Z"
   },
   {
    "duration": 29,
    "start_time": "2022-10-03T19:35:10.413Z"
   },
   {
    "duration": 21,
    "start_time": "2022-10-03T19:35:58.202Z"
   },
   {
    "duration": 11,
    "start_time": "2022-10-03T19:36:18.420Z"
   },
   {
    "duration": 45,
    "start_time": "2022-10-03T19:36:35.930Z"
   },
   {
    "duration": 12,
    "start_time": "2022-10-03T19:36:38.868Z"
   },
   {
    "duration": 12,
    "start_time": "2022-10-03T19:38:11.323Z"
   },
   {
    "duration": 21,
    "start_time": "2022-10-03T19:38:13.662Z"
   },
   {
    "duration": 11,
    "start_time": "2022-10-03T19:41:11.688Z"
   },
   {
    "duration": 9,
    "start_time": "2022-10-03T19:42:09.670Z"
   },
   {
    "duration": 7,
    "start_time": "2022-10-03T19:42:15.913Z"
   },
   {
    "duration": 3,
    "start_time": "2022-10-03T19:54:02.421Z"
   },
   {
    "duration": 157,
    "start_time": "2022-10-03T19:54:02.426Z"
   },
   {
    "duration": 7,
    "start_time": "2022-10-03T19:54:02.585Z"
   },
   {
    "duration": 105,
    "start_time": "2022-10-03T19:54:02.593Z"
   },
   {
    "duration": 39,
    "start_time": "2022-10-03T19:54:02.700Z"
   },
   {
    "duration": 119,
    "start_time": "2022-10-03T19:54:02.740Z"
   },
   {
    "duration": 106,
    "start_time": "2022-10-03T19:54:02.861Z"
   },
   {
    "duration": 116,
    "start_time": "2022-10-03T19:54:02.969Z"
   },
   {
    "duration": 126,
    "start_time": "2022-10-03T19:54:03.086Z"
   },
   {
    "duration": 78,
    "start_time": "2022-10-03T19:54:03.214Z"
   },
   {
    "duration": 39,
    "start_time": "2022-10-03T19:54:03.295Z"
   },
   {
    "duration": 35,
    "start_time": "2022-10-03T19:54:03.341Z"
   },
   {
    "duration": 7,
    "start_time": "2022-10-03T19:54:03.539Z"
   },
   {
    "duration": 39,
    "start_time": "2022-10-03T19:54:03.556Z"
   },
   {
    "duration": 12,
    "start_time": "2022-10-03T19:54:03.702Z"
   },
   {
    "duration": 6,
    "start_time": "2022-10-03T19:54:03.762Z"
   },
   {
    "duration": 27,
    "start_time": "2022-10-03T19:54:03.867Z"
   },
   {
    "duration": 13,
    "start_time": "2022-10-03T19:54:03.998Z"
   },
   {
    "duration": 340,
    "start_time": "2022-10-03T19:54:04.133Z"
   },
   {
    "duration": 4,
    "start_time": "2022-10-03T19:54:04.583Z"
   },
   {
    "duration": 5,
    "start_time": "2022-10-03T19:54:04.669Z"
   },
   {
    "duration": 283,
    "start_time": "2022-10-03T19:54:04.705Z"
   },
   {
    "duration": 23,
    "start_time": "2022-10-03T19:54:05.022Z"
   },
   {
    "duration": 12,
    "start_time": "2022-10-03T19:54:05.055Z"
   },
   {
    "duration": 20,
    "start_time": "2022-10-03T19:54:05.136Z"
   },
   {
    "duration": 14,
    "start_time": "2022-10-03T19:54:05.172Z"
   },
   {
    "duration": 5,
    "start_time": "2022-10-03T19:54:05.198Z"
   },
   {
    "duration": 8,
    "start_time": "2022-10-03T19:54:05.263Z"
   },
   {
    "duration": 6,
    "start_time": "2022-10-03T19:54:05.297Z"
   },
   {
    "duration": 41,
    "start_time": "2022-10-03T19:54:05.593Z"
   },
   {
    "duration": 27,
    "start_time": "2022-10-03T19:54:05.641Z"
   },
   {
    "duration": 74,
    "start_time": "2022-10-03T19:54:05.675Z"
   },
   {
    "duration": 11,
    "start_time": "2022-10-03T19:54:06.029Z"
   },
   {
    "duration": 10,
    "start_time": "2022-10-03T19:54:06.062Z"
   },
   {
    "duration": 128,
    "start_time": "2022-10-03T19:54:06.090Z"
   },
   {
    "duration": 11,
    "start_time": "2022-10-03T19:54:06.253Z"
   },
   {
    "duration": 20,
    "start_time": "2022-10-03T19:54:06.290Z"
   },
   {
    "duration": 14,
    "start_time": "2022-10-03T19:54:06.335Z"
   },
   {
    "duration": 164,
    "start_time": "2022-10-03T19:55:21.854Z"
   },
   {
    "duration": 39,
    "start_time": "2022-10-03T19:56:01.764Z"
   },
   {
    "duration": 68,
    "start_time": "2022-10-03T19:56:10.380Z"
   },
   {
    "duration": 66,
    "start_time": "2022-10-03T19:56:17.888Z"
   },
   {
    "duration": 70,
    "start_time": "2022-10-03T19:56:31.079Z"
   },
   {
    "duration": 1107,
    "start_time": "2022-10-03T19:57:43.146Z"
   },
   {
    "duration": 169,
    "start_time": "2022-10-03T19:57:44.255Z"
   },
   {
    "duration": 8,
    "start_time": "2022-10-03T19:57:44.425Z"
   },
   {
    "duration": 98,
    "start_time": "2022-10-03T19:57:44.435Z"
   },
   {
    "duration": 28,
    "start_time": "2022-10-03T19:57:44.534Z"
   },
   {
    "duration": 98,
    "start_time": "2022-10-03T19:57:44.563Z"
   },
   {
    "duration": 90,
    "start_time": "2022-10-03T19:57:44.663Z"
   },
   {
    "duration": 99,
    "start_time": "2022-10-03T19:57:44.755Z"
   },
   {
    "duration": 104,
    "start_time": "2022-10-03T19:57:44.856Z"
   },
   {
    "duration": 82,
    "start_time": "2022-10-03T19:57:44.963Z"
   },
   {
    "duration": 27,
    "start_time": "2022-10-03T19:57:45.046Z"
   },
   {
    "duration": 32,
    "start_time": "2022-10-03T19:57:45.075Z"
   },
   {
    "duration": 28,
    "start_time": "2022-10-03T19:57:45.108Z"
   },
   {
    "duration": 39,
    "start_time": "2022-10-03T19:57:45.137Z"
   },
   {
    "duration": 13,
    "start_time": "2022-10-03T19:57:45.177Z"
   },
   {
    "duration": 7,
    "start_time": "2022-10-03T19:57:45.192Z"
   },
   {
    "duration": 56,
    "start_time": "2022-10-03T19:57:45.201Z"
   },
   {
    "duration": 10,
    "start_time": "2022-10-03T19:57:45.259Z"
   },
   {
    "duration": 352,
    "start_time": "2022-10-03T19:57:45.271Z"
   },
   {
    "duration": 5,
    "start_time": "2022-10-03T19:57:45.632Z"
   },
   {
    "duration": 23,
    "start_time": "2022-10-03T19:57:45.638Z"
   },
   {
    "duration": 266,
    "start_time": "2022-10-03T19:57:45.663Z"
   },
   {
    "duration": 16,
    "start_time": "2022-10-03T19:57:45.931Z"
   },
   {
    "duration": 13,
    "start_time": "2022-10-03T19:57:45.948Z"
   },
   {
    "duration": 22,
    "start_time": "2022-10-03T19:57:45.962Z"
   },
   {
    "duration": 12,
    "start_time": "2022-10-03T19:57:45.985Z"
   },
   {
    "duration": 41,
    "start_time": "2022-10-03T19:57:45.999Z"
   },
   {
    "duration": 12,
    "start_time": "2022-10-03T19:57:46.042Z"
   },
   {
    "duration": 5,
    "start_time": "2022-10-03T19:57:46.056Z"
   },
   {
    "duration": 34,
    "start_time": "2022-10-03T19:57:46.062Z"
   },
   {
    "duration": 48,
    "start_time": "2022-10-03T19:57:46.097Z"
   },
   {
    "duration": 51,
    "start_time": "2022-10-03T19:57:46.147Z"
   },
   {
    "duration": 8,
    "start_time": "2022-10-03T19:57:46.200Z"
   },
   {
    "duration": 12,
    "start_time": "2022-10-03T19:57:46.234Z"
   },
   {
    "duration": 149,
    "start_time": "2022-10-03T19:57:46.248Z"
   },
   {
    "duration": 10,
    "start_time": "2022-10-03T19:57:46.399Z"
   },
   {
    "duration": 32,
    "start_time": "2022-10-03T19:57:46.411Z"
   },
   {
    "duration": 16,
    "start_time": "2022-10-03T19:57:46.445Z"
   },
   {
    "duration": 164,
    "start_time": "2022-10-03T19:58:30.333Z"
   },
   {
    "duration": 8,
    "start_time": "2022-10-03T19:58:31.116Z"
   },
   {
    "duration": 75,
    "start_time": "2022-10-03T19:58:31.450Z"
   },
   {
    "duration": 27,
    "start_time": "2022-10-03T19:58:31.926Z"
   },
   {
    "duration": 78,
    "start_time": "2022-10-03T19:58:33.384Z"
   },
   {
    "duration": 79,
    "start_time": "2022-10-03T19:58:34.525Z"
   },
   {
    "duration": 69,
    "start_time": "2022-10-03T19:59:00.743Z"
   },
   {
    "duration": 79,
    "start_time": "2022-10-03T19:59:14.401Z"
   },
   {
    "duration": 81,
    "start_time": "2022-10-03T19:59:18.065Z"
   },
   {
    "duration": 84,
    "start_time": "2022-10-03T19:59:31.895Z"
   },
   {
    "duration": 92,
    "start_time": "2022-10-03T19:59:32.455Z"
   },
   {
    "duration": 63,
    "start_time": "2022-10-03T19:59:33.058Z"
   },
   {
    "duration": 23,
    "start_time": "2022-10-03T19:59:34.460Z"
   },
   {
    "duration": 31,
    "start_time": "2022-10-03T19:59:35.686Z"
   },
   {
    "duration": 7,
    "start_time": "2022-10-03T19:59:36.202Z"
   },
   {
    "duration": 43,
    "start_time": "2022-10-03T19:59:36.690Z"
   },
   {
    "duration": 13,
    "start_time": "2022-10-03T19:59:44.922Z"
   },
   {
    "duration": 7,
    "start_time": "2022-10-03T19:59:50.328Z"
   },
   {
    "duration": 26,
    "start_time": "2022-10-03T19:59:50.855Z"
   },
   {
    "duration": 12,
    "start_time": "2022-10-03T19:59:51.477Z"
   },
   {
    "duration": 254,
    "start_time": "2022-10-03T19:59:53.914Z"
   },
   {
    "duration": 5,
    "start_time": "2022-10-03T19:59:55.373Z"
   },
   {
    "duration": 5,
    "start_time": "2022-10-03T19:59:55.890Z"
   },
   {
    "duration": 295,
    "start_time": "2022-10-03T19:59:56.297Z"
   },
   {
    "duration": 15,
    "start_time": "2022-10-03T19:59:57.846Z"
   },
   {
    "duration": 17,
    "start_time": "2022-10-03T19:59:58.708Z"
   },
   {
    "duration": 26,
    "start_time": "2022-10-03T20:00:09.764Z"
   },
   {
    "duration": 11,
    "start_time": "2022-10-03T20:00:10.597Z"
   },
   {
    "duration": 6,
    "start_time": "2022-10-03T20:00:22.636Z"
   },
   {
    "duration": 10,
    "start_time": "2022-10-03T20:00:23.122Z"
   },
   {
    "duration": 7,
    "start_time": "2022-10-03T20:00:23.885Z"
   },
   {
    "duration": 31,
    "start_time": "2022-10-03T20:00:29.635Z"
   },
   {
    "duration": 25,
    "start_time": "2022-10-03T20:00:35.889Z"
   },
   {
    "duration": 50,
    "start_time": "2022-10-03T20:00:40.662Z"
   },
   {
    "duration": 9,
    "start_time": "2022-10-03T20:00:42.182Z"
   },
   {
    "duration": 11,
    "start_time": "2022-10-03T20:00:52.517Z"
   },
   {
    "duration": 3,
    "start_time": "2022-10-03T20:06:35.902Z"
   },
   {
    "duration": 172,
    "start_time": "2022-10-03T20:06:35.934Z"
   },
   {
    "duration": 8,
    "start_time": "2022-10-03T20:06:36.109Z"
   },
   {
    "duration": 87,
    "start_time": "2022-10-03T20:06:36.133Z"
   },
   {
    "duration": 37,
    "start_time": "2022-10-03T20:06:36.233Z"
   },
   {
    "duration": 115,
    "start_time": "2022-10-03T20:06:36.275Z"
   },
   {
    "duration": 107,
    "start_time": "2022-10-03T20:06:36.395Z"
   },
   {
    "duration": 102,
    "start_time": "2022-10-03T20:06:36.505Z"
   },
   {
    "duration": 100,
    "start_time": "2022-10-03T20:06:36.610Z"
   },
   {
    "duration": 75,
    "start_time": "2022-10-03T20:06:36.713Z"
   },
   {
    "duration": 25,
    "start_time": "2022-10-03T20:06:36.791Z"
   },
   {
    "duration": 31,
    "start_time": "2022-10-03T20:06:36.836Z"
   },
   {
    "duration": 6,
    "start_time": "2022-10-03T20:06:36.870Z"
   },
   {
    "duration": 64,
    "start_time": "2022-10-03T20:06:36.881Z"
   },
   {
    "duration": 12,
    "start_time": "2022-10-03T20:06:36.949Z"
   },
   {
    "duration": 6,
    "start_time": "2022-10-03T20:06:36.965Z"
   },
   {
    "duration": 26,
    "start_time": "2022-10-03T20:06:36.974Z"
   },
   {
    "duration": 10,
    "start_time": "2022-10-03T20:06:37.034Z"
   },
   {
    "duration": 322,
    "start_time": "2022-10-03T20:06:37.048Z"
   },
   {
    "duration": 4,
    "start_time": "2022-10-03T20:06:37.374Z"
   },
   {
    "duration": 5,
    "start_time": "2022-10-03T20:06:37.382Z"
   },
   {
    "duration": 291,
    "start_time": "2022-10-03T20:06:37.390Z"
   },
   {
    "duration": 18,
    "start_time": "2022-10-03T20:06:37.685Z"
   },
   {
    "duration": 26,
    "start_time": "2022-10-03T20:06:37.708Z"
   },
   {
    "duration": 21,
    "start_time": "2022-10-03T20:06:37.739Z"
   },
   {
    "duration": 11,
    "start_time": "2022-10-03T20:06:37.764Z"
   },
   {
    "duration": 9,
    "start_time": "2022-10-03T20:06:37.778Z"
   },
   {
    "duration": 43,
    "start_time": "2022-10-03T20:06:37.790Z"
   },
   {
    "duration": 6,
    "start_time": "2022-10-03T20:06:37.837Z"
   },
   {
    "duration": 33,
    "start_time": "2022-10-03T20:06:37.847Z"
   },
   {
    "duration": 55,
    "start_time": "2022-10-03T20:06:37.883Z"
   },
   {
    "duration": 50,
    "start_time": "2022-10-03T20:06:37.940Z"
   },
   {
    "duration": 8,
    "start_time": "2022-10-03T20:06:37.992Z"
   },
   {
    "duration": 16,
    "start_time": "2022-10-03T20:06:38.001Z"
   },
   {
    "duration": 129,
    "start_time": "2022-10-03T20:06:38.018Z"
   },
   {
    "duration": 12,
    "start_time": "2022-10-03T20:06:38.149Z"
   },
   {
    "duration": 6,
    "start_time": "2022-10-03T20:06:38.165Z"
   },
   {
    "duration": 15,
    "start_time": "2022-10-03T20:06:38.173Z"
   },
   {
    "duration": 1191,
    "start_time": "2022-10-03T20:12:00.361Z"
   },
   {
    "duration": 165,
    "start_time": "2022-10-03T20:12:01.554Z"
   },
   {
    "duration": 7,
    "start_time": "2022-10-03T20:12:01.721Z"
   },
   {
    "duration": 139,
    "start_time": "2022-10-03T20:12:01.729Z"
   },
   {
    "duration": 64,
    "start_time": "2022-10-03T20:12:01.869Z"
   },
   {
    "duration": 82,
    "start_time": "2022-10-03T20:12:01.935Z"
   },
   {
    "duration": 115,
    "start_time": "2022-10-03T20:12:02.019Z"
   },
   {
    "duration": 110,
    "start_time": "2022-10-03T20:12:02.136Z"
   },
   {
    "duration": 107,
    "start_time": "2022-10-03T20:12:02.248Z"
   },
   {
    "duration": 77,
    "start_time": "2022-10-03T20:12:02.358Z"
   },
   {
    "duration": 26,
    "start_time": "2022-10-03T20:12:02.437Z"
   },
   {
    "duration": 33,
    "start_time": "2022-10-03T20:12:02.465Z"
   },
   {
    "duration": 7,
    "start_time": "2022-10-03T20:12:02.500Z"
   },
   {
    "duration": 38,
    "start_time": "2022-10-03T20:12:02.534Z"
   },
   {
    "duration": 11,
    "start_time": "2022-10-03T20:12:02.574Z"
   },
   {
    "duration": 11,
    "start_time": "2022-10-03T20:12:02.586Z"
   },
   {
    "duration": 43,
    "start_time": "2022-10-03T20:12:02.599Z"
   },
   {
    "duration": 10,
    "start_time": "2022-10-03T20:12:02.644Z"
   },
   {
    "duration": 320,
    "start_time": "2022-10-03T20:12:02.656Z"
   },
   {
    "duration": 5,
    "start_time": "2022-10-03T20:12:02.977Z"
   },
   {
    "duration": 5,
    "start_time": "2022-10-03T20:12:02.983Z"
   },
   {
    "duration": 273,
    "start_time": "2022-10-03T20:12:02.990Z"
   },
   {
    "duration": 14,
    "start_time": "2022-10-03T20:12:03.265Z"
   },
   {
    "duration": 27,
    "start_time": "2022-10-03T20:12:03.281Z"
   },
   {
    "duration": 50,
    "start_time": "2022-10-03T20:12:03.310Z"
   },
   {
    "duration": 24,
    "start_time": "2022-10-03T20:12:03.361Z"
   },
   {
    "duration": 40,
    "start_time": "2022-10-03T20:12:03.386Z"
   },
   {
    "duration": 37,
    "start_time": "2022-10-03T20:12:03.429Z"
   },
   {
    "duration": 35,
    "start_time": "2022-10-03T20:12:03.467Z"
   },
   {
    "duration": 47,
    "start_time": "2022-10-03T20:12:03.504Z"
   },
   {
    "duration": 23,
    "start_time": "2022-10-03T20:12:03.553Z"
   },
   {
    "duration": 56,
    "start_time": "2022-10-03T20:12:03.577Z"
   },
   {
    "duration": 8,
    "start_time": "2022-10-03T20:12:03.635Z"
   },
   {
    "duration": 42,
    "start_time": "2022-10-03T20:12:03.645Z"
   },
   {
    "duration": 137,
    "start_time": "2022-10-03T20:12:03.689Z"
   },
   {
    "duration": 11,
    "start_time": "2022-10-03T20:12:03.828Z"
   },
   {
    "duration": 24,
    "start_time": "2022-10-03T20:12:03.841Z"
   },
   {
    "duration": 44,
    "start_time": "2022-10-03T20:12:03.867Z"
   },
   {
    "duration": 11,
    "start_time": "2022-10-03T20:14:37.629Z"
   },
   {
    "duration": 261,
    "start_time": "2022-10-03T20:15:23.389Z"
   },
   {
    "duration": 52,
    "start_time": "2022-10-03T20:15:38.090Z"
   },
   {
    "duration": 100,
    "start_time": "2022-10-03T20:15:50.925Z"
   },
   {
    "duration": 11,
    "start_time": "2022-10-03T20:16:10.760Z"
   },
   {
    "duration": 1151,
    "start_time": "2022-10-03T20:18:10.712Z"
   },
   {
    "duration": 164,
    "start_time": "2022-10-03T20:18:11.865Z"
   },
   {
    "duration": 7,
    "start_time": "2022-10-03T20:18:12.031Z"
   },
   {
    "duration": 85,
    "start_time": "2022-10-03T20:18:12.041Z"
   },
   {
    "duration": 28,
    "start_time": "2022-10-03T20:18:12.134Z"
   },
   {
    "duration": 103,
    "start_time": "2022-10-03T20:18:12.165Z"
   },
   {
    "duration": 90,
    "start_time": "2022-10-03T20:18:12.269Z"
   },
   {
    "duration": 103,
    "start_time": "2022-10-03T20:18:12.360Z"
   },
   {
    "duration": 101,
    "start_time": "2022-10-03T20:18:12.465Z"
   },
   {
    "duration": 78,
    "start_time": "2022-10-03T20:18:12.569Z"
   },
   {
    "duration": 25,
    "start_time": "2022-10-03T20:18:12.649Z"
   },
   {
    "duration": 31,
    "start_time": "2022-10-03T20:18:12.675Z"
   },
   {
    "duration": 26,
    "start_time": "2022-10-03T20:18:12.708Z"
   },
   {
    "duration": 36,
    "start_time": "2022-10-03T20:18:12.736Z"
   },
   {
    "duration": 11,
    "start_time": "2022-10-03T20:18:12.774Z"
   },
   {
    "duration": 8,
    "start_time": "2022-10-03T20:18:12.787Z"
   },
   {
    "duration": 46,
    "start_time": "2022-10-03T20:18:12.797Z"
   },
   {
    "duration": 10,
    "start_time": "2022-10-03T20:18:12.845Z"
   },
   {
    "duration": 323,
    "start_time": "2022-10-03T20:18:12.857Z"
   },
   {
    "duration": 4,
    "start_time": "2022-10-03T20:18:13.182Z"
   },
   {
    "duration": 6,
    "start_time": "2022-10-03T20:18:13.188Z"
   },
   {
    "duration": 271,
    "start_time": "2022-10-03T20:18:13.196Z"
   },
   {
    "duration": 16,
    "start_time": "2022-10-03T20:18:13.469Z"
   },
   {
    "duration": 12,
    "start_time": "2022-10-03T20:18:13.486Z"
   },
   {
    "duration": 38,
    "start_time": "2022-10-03T20:18:13.500Z"
   },
   {
    "duration": 10,
    "start_time": "2022-10-03T20:18:13.540Z"
   },
   {
    "duration": 9,
    "start_time": "2022-10-03T20:18:13.552Z"
   },
   {
    "duration": 9,
    "start_time": "2022-10-03T20:18:13.564Z"
   },
   {
    "duration": 5,
    "start_time": "2022-10-03T20:18:13.575Z"
   },
   {
    "duration": 61,
    "start_time": "2022-10-03T20:18:13.582Z"
   },
   {
    "duration": 24,
    "start_time": "2022-10-03T20:18:13.644Z"
   },
   {
    "duration": 64,
    "start_time": "2022-10-03T20:18:13.670Z"
   },
   {
    "duration": 8,
    "start_time": "2022-10-03T20:18:13.736Z"
   },
   {
    "duration": 10,
    "start_time": "2022-10-03T20:18:13.746Z"
   },
   {
    "duration": 120,
    "start_time": "2022-10-03T20:18:13.758Z"
   },
   {
    "duration": 0,
    "start_time": "2022-10-03T20:18:13.880Z"
   },
   {
    "duration": 0,
    "start_time": "2022-10-03T20:18:13.881Z"
   },
   {
    "duration": 0,
    "start_time": "2022-10-03T20:18:13.882Z"
   },
   {
    "duration": 0,
    "start_time": "2022-10-03T20:18:13.883Z"
   },
   {
    "duration": 893,
    "start_time": "2022-10-03T20:18:35.621Z"
   },
   {
    "duration": 10,
    "start_time": "2022-10-03T20:19:05.147Z"
   },
   {
    "duration": 946,
    "start_time": "2022-10-03T20:19:09.376Z"
   },
   {
    "duration": 1042,
    "start_time": "2022-10-03T20:19:28.493Z"
   },
   {
    "duration": 164,
    "start_time": "2022-10-03T20:19:29.537Z"
   },
   {
    "duration": 7,
    "start_time": "2022-10-03T20:19:29.703Z"
   },
   {
    "duration": 103,
    "start_time": "2022-10-03T20:19:29.712Z"
   },
   {
    "duration": 33,
    "start_time": "2022-10-03T20:19:29.816Z"
   },
   {
    "duration": 88,
    "start_time": "2022-10-03T20:19:29.851Z"
   },
   {
    "duration": 80,
    "start_time": "2022-10-03T20:19:29.941Z"
   },
   {
    "duration": 100,
    "start_time": "2022-10-03T20:19:30.022Z"
   },
   {
    "duration": 110,
    "start_time": "2022-10-03T20:19:30.123Z"
   },
   {
    "duration": 66,
    "start_time": "2022-10-03T20:19:30.236Z"
   },
   {
    "duration": 40,
    "start_time": "2022-10-03T20:19:30.303Z"
   },
   {
    "duration": 32,
    "start_time": "2022-10-03T20:19:30.345Z"
   },
   {
    "duration": 6,
    "start_time": "2022-10-03T20:19:30.379Z"
   },
   {
    "duration": 57,
    "start_time": "2022-10-03T20:19:30.387Z"
   },
   {
    "duration": 11,
    "start_time": "2022-10-03T20:19:30.446Z"
   },
   {
    "duration": 20,
    "start_time": "2022-10-03T20:19:30.459Z"
   },
   {
    "duration": 46,
    "start_time": "2022-10-03T20:19:30.481Z"
   },
   {
    "duration": 10,
    "start_time": "2022-10-03T20:19:30.529Z"
   },
   {
    "duration": 342,
    "start_time": "2022-10-03T20:19:30.541Z"
   },
   {
    "duration": 4,
    "start_time": "2022-10-03T20:19:30.885Z"
   },
   {
    "duration": 47,
    "start_time": "2022-10-03T20:19:30.891Z"
   },
   {
    "duration": 281,
    "start_time": "2022-10-03T20:19:30.940Z"
   },
   {
    "duration": 20,
    "start_time": "2022-10-03T20:19:31.223Z"
   },
   {
    "duration": 12,
    "start_time": "2022-10-03T20:19:31.245Z"
   },
   {
    "duration": 24,
    "start_time": "2022-10-03T20:19:31.258Z"
   },
   {
    "duration": 16,
    "start_time": "2022-10-03T20:19:31.284Z"
   },
   {
    "duration": 24,
    "start_time": "2022-10-03T20:19:31.301Z"
   },
   {
    "duration": 22,
    "start_time": "2022-10-03T20:19:31.333Z"
   },
   {
    "duration": 7,
    "start_time": "2022-10-03T20:19:31.356Z"
   },
   {
    "duration": 42,
    "start_time": "2022-10-03T20:19:31.364Z"
   },
   {
    "duration": 22,
    "start_time": "2022-10-03T20:19:31.408Z"
   },
   {
    "duration": 49,
    "start_time": "2022-10-03T20:19:31.433Z"
   },
   {
    "duration": 9,
    "start_time": "2022-10-03T20:19:31.484Z"
   },
   {
    "duration": 11,
    "start_time": "2022-10-03T20:19:31.494Z"
   },
   {
    "duration": 1026,
    "start_time": "2022-10-03T20:19:31.507Z"
   },
   {
    "duration": 0,
    "start_time": "2022-10-03T20:19:32.535Z"
   },
   {
    "duration": 0,
    "start_time": "2022-10-03T20:19:32.537Z"
   },
   {
    "duration": 0,
    "start_time": "2022-10-03T20:19:32.538Z"
   },
   {
    "duration": 0,
    "start_time": "2022-10-03T20:19:32.539Z"
   },
   {
    "duration": 1412,
    "start_time": "2022-10-03T20:25:03.518Z"
   },
   {
    "duration": 873,
    "start_time": "2022-10-03T20:27:04.899Z"
   },
   {
    "duration": 10,
    "start_time": "2022-10-03T20:28:15.408Z"
   },
   {
    "duration": 10,
    "start_time": "2022-10-03T20:28:22.224Z"
   },
   {
    "duration": 9,
    "start_time": "2022-10-03T20:28:40.786Z"
   },
   {
    "duration": 60,
    "start_time": "2022-10-03T20:28:58.724Z"
   },
   {
    "duration": 9,
    "start_time": "2022-10-03T20:29:01.995Z"
   },
   {
    "duration": 10,
    "start_time": "2022-10-03T20:29:04.339Z"
   },
   {
    "duration": 154,
    "start_time": "2022-10-03T20:29:07.322Z"
   },
   {
    "duration": 10,
    "start_time": "2022-10-03T20:31:16.045Z"
   },
   {
    "duration": 63,
    "start_time": "2022-10-03T20:37:08.683Z"
   },
   {
    "duration": 109,
    "start_time": "2022-10-03T20:37:38.425Z"
   },
   {
    "duration": 9,
    "start_time": "2022-10-03T20:37:56.108Z"
   },
   {
    "duration": 9,
    "start_time": "2022-10-03T20:38:03.676Z"
   },
   {
    "duration": 9,
    "start_time": "2022-10-03T20:38:34.438Z"
   },
   {
    "duration": 1074,
    "start_time": "2022-10-03T20:39:26.361Z"
   },
   {
    "duration": 161,
    "start_time": "2022-10-03T20:39:27.437Z"
   },
   {
    "duration": 7,
    "start_time": "2022-10-03T20:39:27.600Z"
   },
   {
    "duration": 94,
    "start_time": "2022-10-03T20:39:27.610Z"
   },
   {
    "duration": 44,
    "start_time": "2022-10-03T20:39:27.706Z"
   },
   {
    "duration": 88,
    "start_time": "2022-10-03T20:39:27.752Z"
   },
   {
    "duration": 129,
    "start_time": "2022-10-03T20:39:27.842Z"
   },
   {
    "duration": 97,
    "start_time": "2022-10-03T20:39:27.973Z"
   },
   {
    "duration": 103,
    "start_time": "2022-10-03T20:39:28.071Z"
   },
   {
    "duration": 79,
    "start_time": "2022-10-03T20:39:28.178Z"
   },
   {
    "duration": 25,
    "start_time": "2022-10-03T20:39:28.259Z"
   },
   {
    "duration": 29,
    "start_time": "2022-10-03T20:39:28.286Z"
   },
   {
    "duration": 6,
    "start_time": "2022-10-03T20:39:28.317Z"
   },
   {
    "duration": 39,
    "start_time": "2022-10-03T20:39:28.334Z"
   },
   {
    "duration": 11,
    "start_time": "2022-10-03T20:39:28.374Z"
   },
   {
    "duration": 13,
    "start_time": "2022-10-03T20:39:28.386Z"
   },
   {
    "duration": 27,
    "start_time": "2022-10-03T20:39:28.401Z"
   },
   {
    "duration": 10,
    "start_time": "2022-10-03T20:39:28.433Z"
   },
   {
    "duration": 442,
    "start_time": "2022-10-03T20:39:28.444Z"
   },
   {
    "duration": 5,
    "start_time": "2022-10-03T20:39:28.888Z"
   },
   {
    "duration": 5,
    "start_time": "2022-10-03T20:39:28.894Z"
   },
   {
    "duration": 275,
    "start_time": "2022-10-03T20:39:28.901Z"
   },
   {
    "duration": 16,
    "start_time": "2022-10-03T20:39:29.177Z"
   },
   {
    "duration": 12,
    "start_time": "2022-10-03T20:39:29.194Z"
   },
   {
    "duration": 43,
    "start_time": "2022-10-03T20:39:29.207Z"
   },
   {
    "duration": 12,
    "start_time": "2022-10-03T20:39:29.252Z"
   },
   {
    "duration": 15,
    "start_time": "2022-10-03T20:39:29.266Z"
   },
   {
    "duration": 10,
    "start_time": "2022-10-03T20:39:29.284Z"
   },
   {
    "duration": 7,
    "start_time": "2022-10-03T20:39:29.296Z"
   },
   {
    "duration": 56,
    "start_time": "2022-10-03T20:39:29.304Z"
   },
   {
    "duration": 23,
    "start_time": "2022-10-03T20:39:29.362Z"
   },
   {
    "duration": 73,
    "start_time": "2022-10-03T20:39:29.386Z"
   },
   {
    "duration": 9,
    "start_time": "2022-10-03T20:39:29.461Z"
   },
   {
    "duration": 13,
    "start_time": "2022-10-03T20:39:29.472Z"
   },
   {
    "duration": 157,
    "start_time": "2022-10-03T20:39:29.487Z"
   },
   {
    "duration": 195,
    "start_time": "2022-10-03T20:39:29.647Z"
   },
   {
    "duration": 9,
    "start_time": "2022-10-03T20:39:29.844Z"
   },
   {
    "duration": 10,
    "start_time": "2022-10-03T20:39:29.854Z"
   },
   {
    "duration": 9,
    "start_time": "2022-10-03T20:39:29.865Z"
   },
   {
    "duration": 1319,
    "start_time": "2022-10-05T15:48:04.725Z"
   },
   {
    "duration": 702,
    "start_time": "2022-10-05T15:48:06.046Z"
   },
   {
    "duration": 7,
    "start_time": "2022-10-05T15:48:06.750Z"
   },
   {
    "duration": 86,
    "start_time": "2022-10-05T15:48:06.759Z"
   },
   {
    "duration": 27,
    "start_time": "2022-10-05T15:48:06.846Z"
   },
   {
    "duration": 98,
    "start_time": "2022-10-05T15:48:06.875Z"
   },
   {
    "duration": 86,
    "start_time": "2022-10-05T15:48:06.974Z"
   },
   {
    "duration": 98,
    "start_time": "2022-10-05T15:48:07.062Z"
   },
   {
    "duration": 107,
    "start_time": "2022-10-05T15:48:07.162Z"
   },
   {
    "duration": 70,
    "start_time": "2022-10-05T15:48:07.271Z"
   },
   {
    "duration": 29,
    "start_time": "2022-10-05T15:48:07.342Z"
   },
   {
    "duration": 56,
    "start_time": "2022-10-05T15:48:07.373Z"
   },
   {
    "duration": 7,
    "start_time": "2022-10-05T15:48:07.431Z"
   },
   {
    "duration": 49,
    "start_time": "2022-10-05T15:48:07.440Z"
   },
   {
    "duration": 9,
    "start_time": "2022-10-05T15:48:07.491Z"
   },
   {
    "duration": 21,
    "start_time": "2022-10-05T15:48:07.502Z"
   },
   {
    "duration": 25,
    "start_time": "2022-10-05T15:48:07.525Z"
   },
   {
    "duration": 11,
    "start_time": "2022-10-05T15:48:07.552Z"
   },
   {
    "duration": 351,
    "start_time": "2022-10-05T15:48:07.564Z"
   },
   {
    "duration": 7,
    "start_time": "2022-10-05T15:48:07.916Z"
   },
   {
    "duration": 20,
    "start_time": "2022-10-05T15:48:07.925Z"
   },
   {
    "duration": 266,
    "start_time": "2022-10-05T15:48:07.947Z"
   },
   {
    "duration": 17,
    "start_time": "2022-10-05T15:48:08.215Z"
   },
   {
    "duration": 11,
    "start_time": "2022-10-05T15:48:08.233Z"
   },
   {
    "duration": 20,
    "start_time": "2022-10-05T15:48:08.245Z"
   },
   {
    "duration": 13,
    "start_time": "2022-10-05T15:48:08.266Z"
   },
   {
    "duration": 13,
    "start_time": "2022-10-05T15:48:08.281Z"
   },
   {
    "duration": 28,
    "start_time": "2022-10-05T15:48:08.297Z"
   },
   {
    "duration": 6,
    "start_time": "2022-10-05T15:48:08.326Z"
   },
   {
    "duration": 36,
    "start_time": "2022-10-05T15:48:08.333Z"
   },
   {
    "duration": 22,
    "start_time": "2022-10-05T15:48:08.371Z"
   },
   {
    "duration": 70,
    "start_time": "2022-10-05T15:48:08.394Z"
   },
   {
    "duration": 8,
    "start_time": "2022-10-05T15:48:08.465Z"
   },
   {
    "duration": 15,
    "start_time": "2022-10-05T15:48:08.474Z"
   },
   {
    "duration": 156,
    "start_time": "2022-10-05T15:48:08.491Z"
   },
   {
    "duration": 143,
    "start_time": "2022-10-05T15:48:08.649Z"
   },
   {
    "duration": 32,
    "start_time": "2022-10-05T15:48:08.794Z"
   },
   {
    "duration": 14,
    "start_time": "2022-10-05T15:48:08.828Z"
   },
   {
    "duration": 13,
    "start_time": "2022-10-05T15:48:08.843Z"
   },
   {
    "duration": 181,
    "start_time": "2022-10-05T15:49:07.383Z"
   },
   {
    "duration": 79,
    "start_time": "2022-10-05T15:49:25.439Z"
   },
   {
    "duration": 10,
    "start_time": "2022-10-05T15:50:15.429Z"
   },
   {
    "duration": 8,
    "start_time": "2022-10-05T15:50:27.704Z"
   },
   {
    "duration": 100,
    "start_time": "2022-10-05T15:57:13.967Z"
   },
   {
    "duration": 10,
    "start_time": "2022-10-05T15:57:29.350Z"
   },
   {
    "duration": 9,
    "start_time": "2022-10-05T15:57:51.193Z"
   },
   {
    "duration": 8,
    "start_time": "2022-10-05T15:57:59.081Z"
   },
   {
    "duration": 106,
    "start_time": "2022-10-05T15:58:41.189Z"
   },
   {
    "duration": 9,
    "start_time": "2022-10-05T15:58:46.608Z"
   },
   {
    "duration": 10,
    "start_time": "2022-10-05T15:58:52.290Z"
   },
   {
    "duration": 9,
    "start_time": "2022-10-05T15:59:02.216Z"
   },
   {
    "duration": 8,
    "start_time": "2022-10-05T15:59:45.965Z"
   },
   {
    "duration": 8,
    "start_time": "2022-10-05T15:59:46.393Z"
   },
   {
    "duration": 8,
    "start_time": "2022-10-05T15:59:47.641Z"
   },
   {
    "duration": 9,
    "start_time": "2022-10-05T15:59:52.203Z"
   },
   {
    "duration": 1204,
    "start_time": "2022-10-05T16:15:36.145Z"
   },
   {
    "duration": 152,
    "start_time": "2022-10-05T16:15:37.351Z"
   },
   {
    "duration": 7,
    "start_time": "2022-10-05T16:15:37.504Z"
   },
   {
    "duration": 95,
    "start_time": "2022-10-05T16:15:37.513Z"
   },
   {
    "duration": 32,
    "start_time": "2022-10-05T16:15:37.611Z"
   },
   {
    "duration": 89,
    "start_time": "2022-10-05T16:15:37.645Z"
   },
   {
    "duration": 93,
    "start_time": "2022-10-05T16:15:37.735Z"
   },
   {
    "duration": 96,
    "start_time": "2022-10-05T16:15:37.830Z"
   },
   {
    "duration": 95,
    "start_time": "2022-10-05T16:15:37.928Z"
   },
   {
    "duration": 63,
    "start_time": "2022-10-05T16:15:38.025Z"
   },
   {
    "duration": 38,
    "start_time": "2022-10-05T16:15:38.090Z"
   },
   {
    "duration": 30,
    "start_time": "2022-10-05T16:15:38.129Z"
   },
   {
    "duration": 6,
    "start_time": "2022-10-05T16:15:38.160Z"
   },
   {
    "duration": 59,
    "start_time": "2022-10-05T16:15:38.168Z"
   },
   {
    "duration": 9,
    "start_time": "2022-10-05T16:15:38.229Z"
   },
   {
    "duration": 9,
    "start_time": "2022-10-05T16:15:38.239Z"
   },
   {
    "duration": 23,
    "start_time": "2022-10-05T16:15:38.249Z"
   },
   {
    "duration": 10,
    "start_time": "2022-10-05T16:15:38.274Z"
   },
   {
    "duration": 325,
    "start_time": "2022-10-05T16:15:38.286Z"
   },
   {
    "duration": 11,
    "start_time": "2022-10-05T16:15:38.613Z"
   },
   {
    "duration": 5,
    "start_time": "2022-10-05T16:15:38.625Z"
   },
   {
    "duration": 283,
    "start_time": "2022-10-05T16:15:38.632Z"
   },
   {
    "duration": 19,
    "start_time": "2022-10-05T16:15:38.916Z"
   },
   {
    "duration": 11,
    "start_time": "2022-10-05T16:15:38.936Z"
   },
   {
    "duration": 20,
    "start_time": "2022-10-05T16:15:38.948Z"
   },
   {
    "duration": 10,
    "start_time": "2022-10-05T16:15:38.970Z"
   },
   {
    "duration": 15,
    "start_time": "2022-10-05T16:15:38.981Z"
   },
   {
    "duration": 11,
    "start_time": "2022-10-05T16:15:39.021Z"
   },
   {
    "duration": 7,
    "start_time": "2022-10-05T16:15:39.034Z"
   },
   {
    "duration": 37,
    "start_time": "2022-10-05T16:15:39.043Z"
   },
   {
    "duration": 52,
    "start_time": "2022-10-05T16:15:39.082Z"
   },
   {
    "duration": 64,
    "start_time": "2022-10-05T16:15:39.136Z"
   },
   {
    "duration": 26,
    "start_time": "2022-10-05T16:15:39.202Z"
   },
   {
    "duration": 24,
    "start_time": "2022-10-05T16:15:39.229Z"
   },
   {
    "duration": 164,
    "start_time": "2022-10-05T16:15:39.255Z"
   },
   {
    "duration": 170,
    "start_time": "2022-10-05T16:15:39.423Z"
   },
   {
    "duration": 28,
    "start_time": "2022-10-05T16:15:39.594Z"
   },
   {
    "duration": 12,
    "start_time": "2022-10-05T16:15:39.624Z"
   },
   {
    "duration": 12,
    "start_time": "2022-10-05T16:15:39.638Z"
   },
   {
    "duration": 45,
    "start_time": "2022-11-19T13:41:35.051Z"
   },
   {
    "duration": 1264,
    "start_time": "2022-11-19T13:41:49.848Z"
   },
   {
    "duration": 508,
    "start_time": "2022-11-19T13:41:51.114Z"
   },
   {
    "duration": 7,
    "start_time": "2022-11-19T13:41:51.624Z"
   },
   {
    "duration": 87,
    "start_time": "2022-11-19T13:41:51.633Z"
   },
   {
    "duration": 28,
    "start_time": "2022-11-19T13:41:51.721Z"
   },
   {
    "duration": 104,
    "start_time": "2022-11-19T13:41:51.751Z"
   },
   {
    "duration": 84,
    "start_time": "2022-11-19T13:41:51.857Z"
   },
   {
    "duration": 101,
    "start_time": "2022-11-19T13:41:51.943Z"
   },
   {
    "duration": 111,
    "start_time": "2022-11-19T13:41:52.045Z"
   },
   {
    "duration": 78,
    "start_time": "2022-11-19T13:41:52.159Z"
   },
   {
    "duration": 27,
    "start_time": "2022-11-19T13:41:52.238Z"
   },
   {
    "duration": 31,
    "start_time": "2022-11-19T13:41:52.267Z"
   },
   {
    "duration": 7,
    "start_time": "2022-11-19T13:41:52.315Z"
   },
   {
    "duration": 37,
    "start_time": "2022-11-19T13:41:52.324Z"
   },
   {
    "duration": 13,
    "start_time": "2022-11-19T13:41:52.363Z"
   },
   {
    "duration": 11,
    "start_time": "2022-11-19T13:41:52.378Z"
   },
   {
    "duration": 51,
    "start_time": "2022-11-19T13:41:52.390Z"
   },
   {
    "duration": 11,
    "start_time": "2022-11-19T13:41:52.442Z"
   },
   {
    "duration": 340,
    "start_time": "2022-11-19T13:41:52.455Z"
   },
   {
    "duration": 5,
    "start_time": "2022-11-19T13:41:52.796Z"
   },
   {
    "duration": 16,
    "start_time": "2022-11-19T13:41:52.802Z"
   },
   {
    "duration": 270,
    "start_time": "2022-11-19T13:41:52.819Z"
   },
   {
    "duration": 15,
    "start_time": "2022-11-19T13:41:53.091Z"
   },
   {
    "duration": 13,
    "start_time": "2022-11-19T13:41:53.116Z"
   },
   {
    "duration": 31,
    "start_time": "2022-11-19T13:41:53.130Z"
   },
   {
    "duration": 12,
    "start_time": "2022-11-19T13:41:53.163Z"
   },
   {
    "duration": 18,
    "start_time": "2022-11-19T13:41:53.176Z"
   },
   {
    "duration": 9,
    "start_time": "2022-11-19T13:41:53.196Z"
   },
   {
    "duration": 6,
    "start_time": "2022-11-19T13:41:53.215Z"
   },
   {
    "duration": 34,
    "start_time": "2022-11-19T13:41:53.223Z"
   },
   {
    "duration": 24,
    "start_time": "2022-11-19T13:41:53.258Z"
   },
   {
    "duration": 79,
    "start_time": "2022-11-19T13:41:53.284Z"
   },
   {
    "duration": 8,
    "start_time": "2022-11-19T13:41:53.365Z"
   },
   {
    "duration": 11,
    "start_time": "2022-11-19T13:41:53.375Z"
   },
   {
    "duration": 163,
    "start_time": "2022-11-19T13:41:53.387Z"
   },
   {
    "duration": 181,
    "start_time": "2022-11-19T13:41:53.553Z"
   },
   {
    "duration": 9,
    "start_time": "2022-11-19T13:41:53.736Z"
   },
   {
    "duration": 10,
    "start_time": "2022-11-19T13:41:53.747Z"
   },
   {
    "duration": 8,
    "start_time": "2022-11-19T13:41:53.759Z"
   },
   {
    "duration": 1382,
    "start_time": "2022-11-20T16:07:44.293Z"
   },
   {
    "duration": 738,
    "start_time": "2022-11-20T16:07:45.677Z"
   },
   {
    "duration": 9,
    "start_time": "2022-11-20T16:07:46.416Z"
   },
   {
    "duration": 99,
    "start_time": "2022-11-20T16:07:46.428Z"
   },
   {
    "duration": 31,
    "start_time": "2022-11-20T16:07:46.529Z"
   },
   {
    "duration": 98,
    "start_time": "2022-11-20T16:07:46.562Z"
   },
   {
    "duration": 100,
    "start_time": "2022-11-20T16:07:46.662Z"
   },
   {
    "duration": 105,
    "start_time": "2022-11-20T16:07:46.763Z"
   },
   {
    "duration": 105,
    "start_time": "2022-11-20T16:07:46.870Z"
   },
   {
    "duration": 77,
    "start_time": "2022-11-20T16:07:46.978Z"
   },
   {
    "duration": 29,
    "start_time": "2022-11-20T16:07:47.057Z"
   },
   {
    "duration": 56,
    "start_time": "2022-11-20T16:07:47.087Z"
   },
   {
    "duration": 7,
    "start_time": "2022-11-20T16:07:47.145Z"
   },
   {
    "duration": 42,
    "start_time": "2022-11-20T16:07:47.153Z"
   },
   {
    "duration": 13,
    "start_time": "2022-11-20T16:07:47.197Z"
   },
   {
    "duration": 31,
    "start_time": "2022-11-20T16:07:47.212Z"
   },
   {
    "duration": 29,
    "start_time": "2022-11-20T16:07:47.245Z"
   },
   {
    "duration": 11,
    "start_time": "2022-11-20T16:07:47.276Z"
   },
   {
    "duration": 382,
    "start_time": "2022-11-20T16:07:47.289Z"
   },
   {
    "duration": 6,
    "start_time": "2022-11-20T16:07:47.673Z"
   },
   {
    "duration": 6,
    "start_time": "2022-11-20T16:07:47.681Z"
   },
   {
    "duration": 344,
    "start_time": "2022-11-20T16:07:47.689Z"
   },
   {
    "duration": 16,
    "start_time": "2022-11-20T16:07:48.038Z"
   },
   {
    "duration": 14,
    "start_time": "2022-11-20T16:07:48.056Z"
   },
   {
    "duration": 25,
    "start_time": "2022-11-20T16:07:48.071Z"
   },
   {
    "duration": 15,
    "start_time": "2022-11-20T16:07:48.098Z"
   },
   {
    "duration": 9,
    "start_time": "2022-11-20T16:07:48.138Z"
   },
   {
    "duration": 11,
    "start_time": "2022-11-20T16:07:48.150Z"
   },
   {
    "duration": 6,
    "start_time": "2022-11-20T16:07:48.163Z"
   },
   {
    "duration": 67,
    "start_time": "2022-11-20T16:07:48.171Z"
   },
   {
    "duration": 27,
    "start_time": "2022-11-20T16:07:48.240Z"
   },
   {
    "duration": 71,
    "start_time": "2022-11-20T16:07:48.268Z"
   },
   {
    "duration": 9,
    "start_time": "2022-11-20T16:07:48.341Z"
   },
   {
    "duration": 10,
    "start_time": "2022-11-20T16:07:48.351Z"
   },
   {
    "duration": 157,
    "start_time": "2022-11-20T16:07:48.363Z"
   },
   {
    "duration": 216,
    "start_time": "2022-11-20T16:07:48.522Z"
   },
   {
    "duration": 10,
    "start_time": "2022-11-20T16:07:48.740Z"
   },
   {
    "duration": 11,
    "start_time": "2022-11-20T16:07:48.752Z"
   },
   {
    "duration": 12,
    "start_time": "2022-11-20T16:07:48.765Z"
   },
   {
    "duration": 7,
    "start_time": "2022-11-20T16:08:11.079Z"
   },
   {
    "duration": 5,
    "start_time": "2022-11-20T16:11:32.634Z"
   },
   {
    "duration": 11,
    "start_time": "2022-11-20T16:16:05.696Z"
   },
   {
    "duration": 1216,
    "start_time": "2022-11-26T13:27:06.864Z"
   },
   {
    "duration": 584,
    "start_time": "2022-11-26T13:27:08.082Z"
   },
   {
    "duration": 8,
    "start_time": "2022-11-26T13:27:08.668Z"
   },
   {
    "duration": 97,
    "start_time": "2022-11-26T13:27:08.678Z"
   },
   {
    "duration": 26,
    "start_time": "2022-11-26T13:27:08.777Z"
   },
   {
    "duration": 88,
    "start_time": "2022-11-26T13:27:08.813Z"
   },
   {
    "duration": 80,
    "start_time": "2022-11-26T13:27:08.912Z"
   },
   {
    "duration": 119,
    "start_time": "2022-11-26T13:27:08.994Z"
   },
   {
    "duration": 108,
    "start_time": "2022-11-26T13:27:09.116Z"
   },
   {
    "duration": 83,
    "start_time": "2022-11-26T13:27:09.230Z"
   },
   {
    "duration": 27,
    "start_time": "2022-11-26T13:27:09.315Z"
   },
   {
    "duration": 39,
    "start_time": "2022-11-26T13:27:09.344Z"
   },
   {
    "duration": 33,
    "start_time": "2022-11-26T13:27:09.385Z"
   },
   {
    "duration": 47,
    "start_time": "2022-11-26T13:27:09.420Z"
   },
   {
    "duration": 12,
    "start_time": "2022-11-26T13:27:09.468Z"
   },
   {
    "duration": 34,
    "start_time": "2022-11-26T13:27:09.482Z"
   },
   {
    "duration": 27,
    "start_time": "2022-11-26T13:27:09.518Z"
   },
   {
    "duration": 13,
    "start_time": "2022-11-26T13:27:09.547Z"
   },
   {
    "duration": 373,
    "start_time": "2022-11-26T13:27:09.562Z"
   },
   {
    "duration": 5,
    "start_time": "2022-11-26T13:27:09.937Z"
   },
   {
    "duration": 5,
    "start_time": "2022-11-26T13:27:09.944Z"
   },
   {
    "duration": 339,
    "start_time": "2022-11-26T13:27:09.951Z"
   },
   {
    "duration": 21,
    "start_time": "2022-11-26T13:27:10.292Z"
   },
   {
    "duration": 12,
    "start_time": "2022-11-26T13:27:10.314Z"
   },
   {
    "duration": 30,
    "start_time": "2022-11-26T13:27:10.328Z"
   },
   {
    "duration": 13,
    "start_time": "2022-11-26T13:27:10.360Z"
   },
   {
    "duration": 16,
    "start_time": "2022-11-26T13:27:10.375Z"
   },
   {
    "duration": 26,
    "start_time": "2022-11-26T13:27:10.395Z"
   },
   {
    "duration": 8,
    "start_time": "2022-11-26T13:27:10.423Z"
   },
   {
    "duration": 43,
    "start_time": "2022-11-26T13:27:10.432Z"
   },
   {
    "duration": 41,
    "start_time": "2022-11-26T13:27:10.476Z"
   },
   {
    "duration": 58,
    "start_time": "2022-11-26T13:27:10.518Z"
   },
   {
    "duration": 10,
    "start_time": "2022-11-26T13:27:10.578Z"
   },
   {
    "duration": 31,
    "start_time": "2022-11-26T13:27:10.589Z"
   },
   {
    "duration": 161,
    "start_time": "2022-11-26T13:27:10.622Z"
   },
   {
    "duration": 180,
    "start_time": "2022-11-26T13:27:10.786Z"
   },
   {
    "duration": 10,
    "start_time": "2022-11-26T13:27:10.968Z"
   },
   {
    "duration": 12,
    "start_time": "2022-11-26T13:27:10.980Z"
   },
   {
    "duration": 11,
    "start_time": "2022-11-26T13:27:11.013Z"
   },
   {
    "duration": 7528,
    "start_time": "2022-11-26T13:32:44.231Z"
   },
   {
    "duration": 2305,
    "start_time": "2022-11-26T13:34:21.026Z"
   },
   {
    "duration": 1179,
    "start_time": "2022-11-26T13:34:23.333Z"
   },
   {
    "duration": 169,
    "start_time": "2022-11-26T13:34:24.514Z"
   },
   {
    "duration": 8,
    "start_time": "2022-11-26T13:34:24.685Z"
   },
   {
    "duration": 98,
    "start_time": "2022-11-26T13:34:24.694Z"
   },
   {
    "duration": 40,
    "start_time": "2022-11-26T13:34:24.793Z"
   },
   {
    "duration": 104,
    "start_time": "2022-11-26T13:34:24.834Z"
   },
   {
    "duration": 99,
    "start_time": "2022-11-26T13:34:24.943Z"
   },
   {
    "duration": 104,
    "start_time": "2022-11-26T13:34:25.045Z"
   },
   {
    "duration": 108,
    "start_time": "2022-11-26T13:34:25.152Z"
   },
   {
    "duration": 79,
    "start_time": "2022-11-26T13:34:25.262Z"
   },
   {
    "duration": 29,
    "start_time": "2022-11-26T13:34:25.343Z"
   },
   {
    "duration": 53,
    "start_time": "2022-11-26T13:34:25.374Z"
   },
   {
    "duration": 8,
    "start_time": "2022-11-26T13:34:25.428Z"
   },
   {
    "duration": 42,
    "start_time": "2022-11-26T13:34:25.438Z"
   },
   {
    "duration": 36,
    "start_time": "2022-11-26T13:34:25.483Z"
   },
   {
    "duration": 18,
    "start_time": "2022-11-26T13:34:25.521Z"
   },
   {
    "duration": 40,
    "start_time": "2022-11-26T13:34:25.541Z"
   },
   {
    "duration": 32,
    "start_time": "2022-11-26T13:34:25.582Z"
   },
   {
    "duration": 369,
    "start_time": "2022-11-26T13:34:25.616Z"
   },
   {
    "duration": 5,
    "start_time": "2022-11-26T13:34:25.987Z"
   },
   {
    "duration": 18,
    "start_time": "2022-11-26T13:34:25.994Z"
   },
   {
    "duration": 322,
    "start_time": "2022-11-26T13:34:26.014Z"
   },
   {
    "duration": 20,
    "start_time": "2022-11-26T13:34:26.338Z"
   },
   {
    "duration": 14,
    "start_time": "2022-11-26T13:34:26.361Z"
   },
   {
    "duration": 46,
    "start_time": "2022-11-26T13:34:26.377Z"
   },
   {
    "duration": 14,
    "start_time": "2022-11-26T13:34:26.425Z"
   },
   {
    "duration": 20,
    "start_time": "2022-11-26T13:34:26.443Z"
   },
   {
    "duration": 16,
    "start_time": "2022-11-26T13:34:26.465Z"
   },
   {
    "duration": 9,
    "start_time": "2022-11-26T13:34:26.483Z"
   },
   {
    "duration": 52,
    "start_time": "2022-11-26T13:34:26.514Z"
   },
   {
    "duration": 46,
    "start_time": "2022-11-26T13:34:26.568Z"
   },
   {
    "duration": 67,
    "start_time": "2022-11-26T13:34:26.616Z"
   },
   {
    "duration": 27,
    "start_time": "2022-11-26T13:34:26.685Z"
   },
   {
    "duration": 15,
    "start_time": "2022-11-26T13:34:26.714Z"
   },
   {
    "duration": 934,
    "start_time": "2022-11-26T13:34:26.731Z"
   },
   {
    "duration": 160,
    "start_time": "2022-11-26T13:34:27.666Z"
   },
   {
    "duration": 10,
    "start_time": "2022-11-26T13:34:27.828Z"
   },
   {
    "duration": 16,
    "start_time": "2022-11-26T13:34:27.840Z"
   },
   {
    "duration": 10,
    "start_time": "2022-11-26T13:34:27.858Z"
   },
   {
    "duration": 120,
    "start_time": "2022-11-26T13:40:19.416Z"
   },
   {
    "duration": 12,
    "start_time": "2022-11-26T13:40:31.686Z"
   },
   {
    "duration": 72,
    "start_time": "2022-11-26T13:40:49.644Z"
   },
   {
    "duration": 2154,
    "start_time": "2022-11-26T13:41:14.059Z"
   },
   {
    "duration": 1279,
    "start_time": "2022-11-26T13:41:16.217Z"
   },
   {
    "duration": 163,
    "start_time": "2022-11-26T13:41:17.497Z"
   },
   {
    "duration": 9,
    "start_time": "2022-11-26T13:41:17.662Z"
   },
   {
    "duration": 100,
    "start_time": "2022-11-26T13:41:17.673Z"
   },
   {
    "duration": 37,
    "start_time": "2022-11-26T13:41:17.775Z"
   },
   {
    "duration": 82,
    "start_time": "2022-11-26T13:41:17.814Z"
   },
   {
    "duration": 84,
    "start_time": "2022-11-26T13:41:17.911Z"
   },
   {
    "duration": 108,
    "start_time": "2022-11-26T13:41:17.997Z"
   },
   {
    "duration": 107,
    "start_time": "2022-11-26T13:41:18.113Z"
   },
   {
    "duration": 69,
    "start_time": "2022-11-26T13:41:18.224Z"
   },
   {
    "duration": 38,
    "start_time": "2022-11-26T13:41:18.294Z"
   },
   {
    "duration": 33,
    "start_time": "2022-11-26T13:41:18.334Z"
   },
   {
    "duration": 7,
    "start_time": "2022-11-26T13:41:18.371Z"
   },
   {
    "duration": 64,
    "start_time": "2022-11-26T13:41:18.380Z"
   },
   {
    "duration": 11,
    "start_time": "2022-11-26T13:41:18.445Z"
   },
   {
    "duration": 14,
    "start_time": "2022-11-26T13:41:18.458Z"
   },
   {
    "duration": 44,
    "start_time": "2022-11-26T13:41:18.473Z"
   },
   {
    "duration": 12,
    "start_time": "2022-11-26T13:41:18.519Z"
   },
   {
    "duration": 358,
    "start_time": "2022-11-26T13:41:18.532Z"
   },
   {
    "duration": 6,
    "start_time": "2022-11-26T13:41:18.892Z"
   },
   {
    "duration": 21,
    "start_time": "2022-11-26T13:41:18.900Z"
   },
   {
    "duration": 324,
    "start_time": "2022-11-26T13:41:18.923Z"
   },
   {
    "duration": 17,
    "start_time": "2022-11-26T13:41:19.249Z"
   },
   {
    "duration": 16,
    "start_time": "2022-11-26T13:41:19.268Z"
   },
   {
    "duration": 42,
    "start_time": "2022-11-26T13:41:19.286Z"
   },
   {
    "duration": 13,
    "start_time": "2022-11-26T13:41:19.329Z"
   },
   {
    "duration": 12,
    "start_time": "2022-11-26T13:41:19.344Z"
   },
   {
    "duration": 10,
    "start_time": "2022-11-26T13:41:19.358Z"
   },
   {
    "duration": 7,
    "start_time": "2022-11-26T13:41:19.370Z"
   },
   {
    "duration": 69,
    "start_time": "2022-11-26T13:41:19.379Z"
   },
   {
    "duration": 36,
    "start_time": "2022-11-26T13:41:19.450Z"
   },
   {
    "duration": 78,
    "start_time": "2022-11-26T13:41:19.488Z"
   },
   {
    "duration": 10,
    "start_time": "2022-11-26T13:41:19.567Z"
   },
   {
    "duration": 12,
    "start_time": "2022-11-26T13:41:19.579Z"
   },
   {
    "duration": 834,
    "start_time": "2022-11-26T13:41:19.592Z"
   },
   {
    "duration": 123,
    "start_time": "2022-11-26T13:41:20.428Z"
   },
   {
    "duration": 10,
    "start_time": "2022-11-26T13:41:20.552Z"
   },
   {
    "duration": 12,
    "start_time": "2022-11-26T13:41:20.563Z"
   },
   {
    "duration": 8,
    "start_time": "2022-11-26T13:41:20.576Z"
   },
   {
    "duration": 6755,
    "start_time": "2022-11-26T19:04:44.275Z"
   },
   {
    "duration": 1458,
    "start_time": "2022-11-26T19:04:51.032Z"
   },
   {
    "duration": 708,
    "start_time": "2022-11-26T19:04:52.492Z"
   },
   {
    "duration": 8,
    "start_time": "2022-11-26T19:04:53.202Z"
   },
   {
    "duration": 110,
    "start_time": "2022-11-26T19:04:53.212Z"
   },
   {
    "duration": 28,
    "start_time": "2022-11-26T19:04:53.327Z"
   },
   {
    "duration": 98,
    "start_time": "2022-11-26T19:04:53.357Z"
   },
   {
    "duration": 94,
    "start_time": "2022-11-26T19:04:53.457Z"
   },
   {
    "duration": 113,
    "start_time": "2022-11-26T19:04:53.553Z"
   },
   {
    "duration": 110,
    "start_time": "2022-11-26T19:04:53.669Z"
   },
   {
    "duration": 78,
    "start_time": "2022-11-26T19:04:53.781Z"
   },
   {
    "duration": 28,
    "start_time": "2022-11-26T19:04:53.860Z"
   },
   {
    "duration": 55,
    "start_time": "2022-11-26T19:04:53.890Z"
   },
   {
    "duration": 8,
    "start_time": "2022-11-26T19:04:53.947Z"
   },
   {
    "duration": 57,
    "start_time": "2022-11-26T19:04:53.956Z"
   },
   {
    "duration": 13,
    "start_time": "2022-11-26T19:04:54.021Z"
   },
   {
    "duration": 11,
    "start_time": "2022-11-26T19:04:54.036Z"
   },
   {
    "duration": 27,
    "start_time": "2022-11-26T19:04:54.049Z"
   },
   {
    "duration": 11,
    "start_time": "2022-11-26T19:04:54.078Z"
   },
   {
    "duration": 381,
    "start_time": "2022-11-26T19:04:54.114Z"
   },
   {
    "duration": 18,
    "start_time": "2022-11-26T19:04:54.497Z"
   },
   {
    "duration": 12,
    "start_time": "2022-11-26T19:04:54.517Z"
   },
   {
    "duration": 313,
    "start_time": "2022-11-26T19:04:54.531Z"
   },
   {
    "duration": 18,
    "start_time": "2022-11-26T19:04:54.845Z"
   },
   {
    "duration": 18,
    "start_time": "2022-11-26T19:04:54.865Z"
   },
   {
    "duration": 44,
    "start_time": "2022-11-26T19:04:54.885Z"
   },
   {
    "duration": 15,
    "start_time": "2022-11-26T19:04:54.934Z"
   },
   {
    "duration": 13,
    "start_time": "2022-11-26T19:04:54.953Z"
   },
   {
    "duration": 12,
    "start_time": "2022-11-26T19:04:54.968Z"
   },
   {
    "duration": 7,
    "start_time": "2022-11-26T19:04:54.982Z"
   },
   {
    "duration": 60,
    "start_time": "2022-11-26T19:04:54.991Z"
   },
   {
    "duration": 25,
    "start_time": "2022-11-26T19:04:55.052Z"
   },
   {
    "duration": 95,
    "start_time": "2022-11-26T19:04:55.078Z"
   },
   {
    "duration": 10,
    "start_time": "2022-11-26T19:04:55.175Z"
   },
   {
    "duration": 13,
    "start_time": "2022-11-26T19:04:55.187Z"
   },
   {
    "duration": 909,
    "start_time": "2022-11-26T19:04:55.214Z"
   },
   {
    "duration": 133,
    "start_time": "2022-11-26T19:04:56.126Z"
   },
   {
    "duration": 9,
    "start_time": "2022-11-26T19:04:56.261Z"
   },
   {
    "duration": 13,
    "start_time": "2022-11-26T19:04:56.271Z"
   },
   {
    "duration": 40,
    "start_time": "2022-11-26T19:04:56.285Z"
   }
  ],
  "kernelspec": {
   "display_name": "Python 3 (ipykernel)",
   "language": "python",
   "name": "python3"
  },
  "language_info": {
   "codemirror_mode": {
    "name": "ipython",
    "version": 3
   },
   "file_extension": ".py",
   "mimetype": "text/x-python",
   "name": "python",
   "nbconvert_exporter": "python",
   "pygments_lexer": "ipython3",
   "version": "3.9.5"
  },
  "toc": {
   "base_numbering": 1,
   "nav_menu": {},
   "number_sections": true,
   "sideBar": true,
   "skip_h1_title": true,
   "title_cell": "Table of Contents",
   "title_sidebar": "Contents",
   "toc_cell": false,
   "toc_position": {},
   "toc_section_display": true,
   "toc_window_display": false
  }
 },
 "nbformat": 4,
 "nbformat_minor": 2
}
